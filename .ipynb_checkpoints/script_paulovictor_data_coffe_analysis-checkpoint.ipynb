{
 "cells": [
  {
   "cell_type": "markdown",
   "id": "d082e2a8",
   "metadata": {},
   "source": [
    "# <span style=\"color:#E888BB; font-size: 1%;\">INTRODUCTION</span>\n",
    "<div style=\"padding: 35px;color:white;margin:10;font-size:170%;text-align:left;display:fill;border-radius:10px;overflow:hidden;background-image: url(https://images.pexels.com/photos/942802/pexels-photo-942802.jpeg?auto=compress&cs=tinysrgb&w=1260&h=750&dpr=1)\"><b><span style='color:white'>INTRODUÇÃO </span></b> </div>\n",
    "\n",
    "### <b>I <span style='color:#16C2D5'>|</span> Prefácio</b> \n",
    "\n",
    "Neste projeto, pretendo construir um modelo preditivo para estimar os pontos totais de xícara, uma métrica abrangente da qualidade do café, com base nesses fatores de influência. Utilizamos um conjunto de dados fornecido pela Coffee Quality Union, que inclui amostras de café da Colômbia, cada uma caracterizada por um conjunto de características como `país de origem`, `empresa`, `altitude`, `ano de colheita`, `método de processamento `, `atributos sensoriais`, `porcentagem de umidade`, `defeitos de categoria um e dois`, `cor`, `expiração`, `organismo de certificação` e `idade do café`.\n",
    "\n",
    "Minha abordagem envolve pré-processar os dados, explorar os dados por meio de visualizações e, em seguida, aplicar um modelo de aprendizado de máquina - especificamente, um Random Forest Regressor - para prever o total de pontos do copo. Também avaliamos o desempenho do modelo e visualizamos os resultados para obter informações sobre a precisão do modelo e a importância de cada recurso na previsão da qualidade do café.\n",
    "\n",
    "![](https://images.pexels.com/photos/2067628/pexels-photo-2067628.jpeg?auto=compress&cs=tinysrgb&w=1260&h=750&dpr=1)\n",
    "\n",
    "\n",
    "### <b>II <span style='color:#16C2D5'>|</span> Importando Bibliotecas</b> "
   ]
  },
  {
   "cell_type": "code",
   "execution_count": 1,
   "id": "e7fed598",
   "metadata": {},
   "outputs": [],
   "source": [
    "import pandas as pd\n",
    "import numpy as np\n",
    "import matplotlib.pyplot as plt\n",
    "import seaborn as sns\n",
    "import plotly.express as px\n",
    "import plotly.graph_objects as go\n",
    "from plotly.subplots import make_subplots\n",
    "import matplotlib.colors as mcolors\n",
    "from dateutil import parser\n",
    "\n",
    "# Import Scikit-learn for Machine Learning libraries\n",
    "from sklearn.preprocessing import LabelEncoder, StandardScaler, MinMaxScaler, OneHotEncoder\n",
    "from sklearn.model_selection import train_test_split, GridSearchCV, cross_val_score\n",
    "from sklearn.linear_model import LogisticRegression\n",
    "from sklearn.ensemble import RandomForestClassifier, GradientBoostingClassifier, RandomForestRegressor\n",
    "from sklearn.metrics import confusion_matrix, accuracy_score, classification_report, mean_squared_error\n",
    "from sklearn.pipeline import Pipeline\n",
    "from sklearn.compose import ColumnTransformer\n",
    "from sklearn.manifold import TSNE"
   ]
  },
  {
   "cell_type": "markdown",
   "id": "98f0c98f",
   "metadata": {},
   "source": [
    "### <b>III <span style='color:#16C2D5'>|</span> Inserindo os dados</b> "
   ]
  },
  {
   "cell_type": "code",
   "execution_count": 2,
   "id": "7ff68bc4",
   "metadata": {},
   "outputs": [],
   "source": [
    "df = pd.read_csv(\"./df_arabica_clean.csv\")"
   ]
  },
  {
   "cell_type": "code",
   "execution_count": 3,
   "id": "112f5ffd",
   "metadata": {},
   "outputs": [
    {
     "data": {
      "text/html": [
       "<div>\n",
       "<style scoped>\n",
       "    .dataframe tbody tr th:only-of-type {\n",
       "        vertical-align: middle;\n",
       "    }\n",
       "\n",
       "    .dataframe tbody tr th {\n",
       "        vertical-align: top;\n",
       "    }\n",
       "\n",
       "    .dataframe thead th {\n",
       "        text-align: right;\n",
       "    }\n",
       "</style>\n",
       "<table border=\"1\" class=\"dataframe\">\n",
       "  <thead>\n",
       "    <tr style=\"text-align: right;\">\n",
       "      <th></th>\n",
       "      <th>Unnamed: 0</th>\n",
       "      <th>ID</th>\n",
       "      <th>Country of Origin</th>\n",
       "      <th>Farm Name</th>\n",
       "      <th>Lot Number</th>\n",
       "      <th>Mill</th>\n",
       "      <th>ICO Number</th>\n",
       "      <th>Company</th>\n",
       "      <th>Altitude</th>\n",
       "      <th>Region</th>\n",
       "      <th>...</th>\n",
       "      <th>Total Cup Points</th>\n",
       "      <th>Moisture Percentage</th>\n",
       "      <th>Category One Defects</th>\n",
       "      <th>Quakers</th>\n",
       "      <th>Color</th>\n",
       "      <th>Category Two Defects</th>\n",
       "      <th>Expiration</th>\n",
       "      <th>Certification Body</th>\n",
       "      <th>Certification Address</th>\n",
       "      <th>Certification Contact</th>\n",
       "    </tr>\n",
       "  </thead>\n",
       "  <tbody>\n",
       "    <tr>\n",
       "      <th>0</th>\n",
       "      <td>0</td>\n",
       "      <td>0</td>\n",
       "      <td>Colombia</td>\n",
       "      <td>Finca El Paraiso</td>\n",
       "      <td>CQU2022015</td>\n",
       "      <td>Finca El Paraiso</td>\n",
       "      <td>NaN</td>\n",
       "      <td>Coffee Quality Union</td>\n",
       "      <td>1700-1930</td>\n",
       "      <td>Piendamo,Cauca</td>\n",
       "      <td>...</td>\n",
       "      <td>89.33</td>\n",
       "      <td>11.8</td>\n",
       "      <td>0</td>\n",
       "      <td>0</td>\n",
       "      <td>green</td>\n",
       "      <td>3</td>\n",
       "      <td>September 21st, 2023</td>\n",
       "      <td>Japan Coffee Exchange</td>\n",
       "      <td>〒413-0002 静岡県熱海市伊豆山１１７３−５８ 1173-58 Izusan, Ata...</td>\n",
       "      <td>松澤　宏樹　Koju Matsuzawa - +81(0)9085642901</td>\n",
       "    </tr>\n",
       "    <tr>\n",
       "      <th>1</th>\n",
       "      <td>1</td>\n",
       "      <td>1</td>\n",
       "      <td>Taiwan</td>\n",
       "      <td>Royal Bean Geisha Estate</td>\n",
       "      <td>The 2022 Pacific Rim Coffee Summit,T037</td>\n",
       "      <td>Royal Bean Geisha Estate</td>\n",
       "      <td>NaN</td>\n",
       "      <td>Taiwan Coffee Laboratory</td>\n",
       "      <td>1200</td>\n",
       "      <td>Chiayi</td>\n",
       "      <td>...</td>\n",
       "      <td>87.58</td>\n",
       "      <td>10.5</td>\n",
       "      <td>0</td>\n",
       "      <td>0</td>\n",
       "      <td>blue-green</td>\n",
       "      <td>0</td>\n",
       "      <td>November 15th, 2023</td>\n",
       "      <td>Taiwan Coffee Laboratory 台灣咖啡研究室</td>\n",
       "      <td>QAHWAH CO., LTD 4F, No. 225, Sec. 3, Beixin Rd...</td>\n",
       "      <td>Lin, Jen-An Neil 林仁安 - 886-289116612</td>\n",
       "    </tr>\n",
       "    <tr>\n",
       "      <th>2</th>\n",
       "      <td>2</td>\n",
       "      <td>2</td>\n",
       "      <td>Laos</td>\n",
       "      <td>OKLAO coffee farms</td>\n",
       "      <td>The 2022 Pacific Rim Coffee Summit,LA01</td>\n",
       "      <td>oklao coffee processing plant</td>\n",
       "      <td>NaN</td>\n",
       "      <td>Taiwan Coffee Laboratory</td>\n",
       "      <td>1300</td>\n",
       "      <td>Laos Borofen Plateau</td>\n",
       "      <td>...</td>\n",
       "      <td>87.42</td>\n",
       "      <td>10.4</td>\n",
       "      <td>0</td>\n",
       "      <td>0</td>\n",
       "      <td>yellowish</td>\n",
       "      <td>2</td>\n",
       "      <td>November 15th, 2023</td>\n",
       "      <td>Taiwan Coffee Laboratory 台灣咖啡研究室</td>\n",
       "      <td>QAHWAH CO., LTD 4F, No. 225, Sec. 3, Beixin Rd...</td>\n",
       "      <td>Lin, Jen-An Neil 林仁安 - 886-289116612</td>\n",
       "    </tr>\n",
       "    <tr>\n",
       "      <th>3</th>\n",
       "      <td>3</td>\n",
       "      <td>3</td>\n",
       "      <td>Costa Rica</td>\n",
       "      <td>La Cumbre</td>\n",
       "      <td>CQU2022017</td>\n",
       "      <td>La Montana Tarrazu MIll</td>\n",
       "      <td>NaN</td>\n",
       "      <td>Coffee Quality Union</td>\n",
       "      <td>1900</td>\n",
       "      <td>Los Santos,Tarrazu</td>\n",
       "      <td>...</td>\n",
       "      <td>87.17</td>\n",
       "      <td>11.8</td>\n",
       "      <td>0</td>\n",
       "      <td>0</td>\n",
       "      <td>green</td>\n",
       "      <td>0</td>\n",
       "      <td>September 21st, 2023</td>\n",
       "      <td>Japan Coffee Exchange</td>\n",
       "      <td>〒413-0002 静岡県熱海市伊豆山１１７３−５８ 1173-58 Izusan, Ata...</td>\n",
       "      <td>松澤　宏樹　Koju Matsuzawa - +81(0)9085642901</td>\n",
       "    </tr>\n",
       "    <tr>\n",
       "      <th>4</th>\n",
       "      <td>4</td>\n",
       "      <td>4</td>\n",
       "      <td>Colombia</td>\n",
       "      <td>Finca Santuario</td>\n",
       "      <td>CQU2023002</td>\n",
       "      <td>Finca Santuario</td>\n",
       "      <td>NaN</td>\n",
       "      <td>Coffee Quality Union</td>\n",
       "      <td>1850-2100</td>\n",
       "      <td>Popayan,Cauca</td>\n",
       "      <td>...</td>\n",
       "      <td>87.08</td>\n",
       "      <td>11.6</td>\n",
       "      <td>0</td>\n",
       "      <td>2</td>\n",
       "      <td>yellow-green</td>\n",
       "      <td>2</td>\n",
       "      <td>March 5th, 2024</td>\n",
       "      <td>Japan Coffee Exchange</td>\n",
       "      <td>〒413-0002 静岡県熱海市伊豆山１１７３−５８ 1173-58 Izusan, Ata...</td>\n",
       "      <td>松澤　宏樹　Koju Matsuzawa - +81(0)9085642901</td>\n",
       "    </tr>\n",
       "  </tbody>\n",
       "</table>\n",
       "<p>5 rows × 41 columns</p>\n",
       "</div>"
      ],
      "text/plain": [
       "   Unnamed: 0  ID Country of Origin                 Farm Name  \\\n",
       "0           0   0          Colombia          Finca El Paraiso   \n",
       "1           1   1            Taiwan  Royal Bean Geisha Estate   \n",
       "2           2   2              Laos        OKLAO coffee farms   \n",
       "3           3   3        Costa Rica                 La Cumbre   \n",
       "4           4   4          Colombia           Finca Santuario   \n",
       "\n",
       "                                Lot Number                           Mill  \\\n",
       "0                               CQU2022015               Finca El Paraiso   \n",
       "1  The 2022 Pacific Rim Coffee Summit,T037       Royal Bean Geisha Estate   \n",
       "2  The 2022 Pacific Rim Coffee Summit,LA01  oklao coffee processing plant   \n",
       "3                               CQU2022017        La Montana Tarrazu MIll   \n",
       "4                               CQU2023002                Finca Santuario   \n",
       "\n",
       "  ICO Number                   Company   Altitude                Region  ...  \\\n",
       "0        NaN      Coffee Quality Union  1700-1930        Piendamo,Cauca  ...   \n",
       "1        NaN  Taiwan Coffee Laboratory       1200                Chiayi  ...   \n",
       "2        NaN  Taiwan Coffee Laboratory       1300  Laos Borofen Plateau  ...   \n",
       "3        NaN      Coffee Quality Union       1900    Los Santos,Tarrazu  ...   \n",
       "4        NaN      Coffee Quality Union  1850-2100         Popayan,Cauca  ...   \n",
       "\n",
       "  Total Cup Points  Moisture Percentage Category One Defects Quakers  \\\n",
       "0            89.33                 11.8                    0       0   \n",
       "1            87.58                 10.5                    0       0   \n",
       "2            87.42                 10.4                    0       0   \n",
       "3            87.17                 11.8                    0       0   \n",
       "4            87.08                 11.6                    0       2   \n",
       "\n",
       "          Color Category Two Defects            Expiration  \\\n",
       "0         green                    3  September 21st, 2023   \n",
       "1    blue-green                    0   November 15th, 2023   \n",
       "2     yellowish                    2   November 15th, 2023   \n",
       "3         green                    0  September 21st, 2023   \n",
       "4  yellow-green                    2       March 5th, 2024   \n",
       "\n",
       "                 Certification Body  \\\n",
       "0             Japan Coffee Exchange   \n",
       "1  Taiwan Coffee Laboratory 台灣咖啡研究室   \n",
       "2  Taiwan Coffee Laboratory 台灣咖啡研究室   \n",
       "3             Japan Coffee Exchange   \n",
       "4             Japan Coffee Exchange   \n",
       "\n",
       "                               Certification Address  \\\n",
       "0  〒413-0002 静岡県熱海市伊豆山１１７３−５８ 1173-58 Izusan, Ata...   \n",
       "1  QAHWAH CO., LTD 4F, No. 225, Sec. 3, Beixin Rd...   \n",
       "2  QAHWAH CO., LTD 4F, No. 225, Sec. 3, Beixin Rd...   \n",
       "3  〒413-0002 静岡県熱海市伊豆山１１７３−５８ 1173-58 Izusan, Ata...   \n",
       "4  〒413-0002 静岡県熱海市伊豆山１１７３−５８ 1173-58 Izusan, Ata...   \n",
       "\n",
       "                     Certification Contact  \n",
       "0  松澤　宏樹　Koju Matsuzawa - +81(0)9085642901  \n",
       "1     Lin, Jen-An Neil 林仁安 - 886-289116612  \n",
       "2     Lin, Jen-An Neil 林仁安 - 886-289116612  \n",
       "3  松澤　宏樹　Koju Matsuzawa - +81(0)9085642901  \n",
       "4  松澤　宏樹　Koju Matsuzawa - +81(0)9085642901  \n",
       "\n",
       "[5 rows x 41 columns]"
      ]
     },
     "execution_count": 3,
     "metadata": {},
     "output_type": "execute_result"
    }
   ],
   "source": [
    "df.head()"
   ]
  },
  {
   "cell_type": "markdown",
   "id": "fe6e9dc3",
   "metadata": {},
   "source": [
    "# <span style=\"color:#E888BB; font-size: 1%;\">1 | Data Cleansing and Data Prep</span>\n",
    "<div style=\"padding: 35px;color:white;margin:10;font-size:170%;text-align:left;display:fill;border-radius:10px;overflow:hidden;background-image: url(https://images.pexels.com/photos/942802/pexels-photo-942802.jpeg?auto=compress&cs=tinysrgb&w=1260&h=750&dpr=1)\"><b><span style='color:white'>1 | Limpeza e preparação de dados</span></b> </div>\n",
    "\n",
    "## <div style=\"padding: 20px;color:white;margin:10;font-size:90%;text-align:left;display:fill;border-radius:10px;overflow:hidden;background-image: url(https://w0.peakpx.com/wallpaper/957/661/HD-wallpaper-white-marble-white-stone-texture-marble-stone-background-white-stone.jpg)\"><b><span style='color:black'> 1. Qualidade de Dados</span></b> </div>\n",
    "\n",
    "### <b>I <span style='color:#16C2D5'>|</span> Lidando com Duplicatas</b> "
   ]
  },
  {
   "cell_type": "code",
   "execution_count": 4,
   "id": "39837a68",
   "metadata": {},
   "outputs": [
    {
     "name": "stdout",
     "output_type": "stream",
     "text": [
      "number of duplicate rows:  (0, 41)\n"
     ]
    }
   ],
   "source": [
    "# Handle duplicates\n",
    "duplicate_rows_data = df[df.duplicated()]\n",
    "print(\"number of duplicate rows: \", duplicate_rows_data.shape)"
   ]
  },
  {
   "cell_type": "markdown",
   "id": "3f87485c",
   "metadata": {},
   "source": [
    "### <b>II <span style='color:#16C2D5'>|</span> Exclusividade</b>"
   ]
  },
  {
   "cell_type": "code",
   "execution_count": 7,
   "id": "c1a2b03d",
   "metadata": {
    "scrolled": true
   },
   "outputs": [
    {
     "name": "stdout",
     "output_type": "stream",
     "text": [
      "Unnamed: 0: 207 distinct values\n",
      "ID: 207 distinct values\n",
      "Country of Origin: 22 distinct values\n",
      "Farm Name: 173 distinct values\n",
      "Lot Number: 188 distinct values\n",
      "Mill: 163 distinct values\n",
      "ICO Number: 68 distinct values\n",
      "Company: 72 distinct values\n",
      "Altitude: 98 distinct values\n",
      "Region: 121 distinct values\n",
      "Producer: 173 distinct values\n",
      "Number of Bags: 55 distinct values\n",
      "Bag Weight: 39 distinct values\n",
      "In-Country Partner: 21 distinct values\n",
      "Harvest Year: 7 distinct values\n",
      "Grading Date: 75 distinct values\n",
      "Owner: 80 distinct values\n",
      "Variety: 49 distinct values\n",
      "Status: 1 distinct values\n",
      "Processing Method: 11 distinct values\n",
      "Aroma: 19 distinct values\n",
      "Flavor: 19 distinct values\n",
      "Aftertaste: 20 distinct values\n",
      "Acidity: 19 distinct values\n",
      "Body: 17 distinct values\n",
      "Balance: 18 distinct values\n",
      "Uniformity: 3 distinct values\n",
      "Clean Cup: 1 distinct values\n",
      "Sweetness: 1 distinct values\n",
      "Overall: 21 distinct values\n",
      "Defects: 1 distinct values\n",
      "Total Cup Points: 81 distinct values\n",
      "Moisture Percentage: 46 distinct values\n",
      "Category One Defects: 6 distinct values\n",
      "Quakers: 11 distinct values\n",
      "Color: 12 distinct values\n",
      "Category Two Defects: 14 distinct values\n",
      "Expiration: 75 distinct values\n",
      "Certification Body: 21 distinct values\n",
      "Certification Address: 21 distinct values\n",
      "Certification Contact: 21 distinct values\n"
     ]
    }
   ],
   "source": [
    "# Percorra cada coluna e conte o número de valores distintos\n",
    "for column in df.columns:\n",
    "    num_distinct_values = len(df[column].unique())\n",
    "    print(f\"{column}: {num_distinct_values} distinct values\")"
   ]
  },
  {
   "cell_type": "markdown",
   "id": "96722e18",
   "metadata": {},
   "source": [
    "### <b>III <span style='color:#16C2D5'>|</span> Valores ausentes</b>"
   ]
  },
  {
   "cell_type": "code",
   "execution_count": 9,
   "id": "d90960bc",
   "metadata": {},
   "outputs": [
    {
     "data": {
      "text/html": [
       "<div>\n",
       "<style scoped>\n",
       "    .dataframe tbody tr th:only-of-type {\n",
       "        vertical-align: middle;\n",
       "    }\n",
       "\n",
       "    .dataframe tbody tr th {\n",
       "        vertical-align: top;\n",
       "    }\n",
       "\n",
       "    .dataframe thead th {\n",
       "        text-align: right;\n",
       "    }\n",
       "</style>\n",
       "<table border=\"1\" class=\"dataframe\">\n",
       "  <thead>\n",
       "    <tr style=\"text-align: right;\">\n",
       "      <th></th>\n",
       "      <th>Missing Ratio</th>\n",
       "    </tr>\n",
       "  </thead>\n",
       "  <tbody>\n",
       "    <tr>\n",
       "      <th>ICO Number</th>\n",
       "      <td>63.768116</td>\n",
       "    </tr>\n",
       "    <tr>\n",
       "      <th>Variety</th>\n",
       "      <td>2.898551</td>\n",
       "    </tr>\n",
       "    <tr>\n",
       "      <th>Processing Method</th>\n",
       "      <td>2.415459</td>\n",
       "    </tr>\n",
       "    <tr>\n",
       "      <th>Mill</th>\n",
       "      <td>1.449275</td>\n",
       "    </tr>\n",
       "    <tr>\n",
       "      <th>Farm Name</th>\n",
       "      <td>0.966184</td>\n",
       "    </tr>\n",
       "    <tr>\n",
       "      <th>Region</th>\n",
       "      <td>0.966184</td>\n",
       "    </tr>\n",
       "    <tr>\n",
       "      <th>Lot Number</th>\n",
       "      <td>0.483092</td>\n",
       "    </tr>\n",
       "    <tr>\n",
       "      <th>Altitude</th>\n",
       "      <td>0.483092</td>\n",
       "    </tr>\n",
       "    <tr>\n",
       "      <th>Producer</th>\n",
       "      <td>0.483092</td>\n",
       "    </tr>\n",
       "  </tbody>\n",
       "</table>\n",
       "</div>"
      ],
      "text/plain": [
       "                   Missing Ratio\n",
       "ICO Number             63.768116\n",
       "Variety                 2.898551\n",
       "Processing Method       2.415459\n",
       "Mill                    1.449275\n",
       "Farm Name               0.966184\n",
       "Region                  0.966184\n",
       "Lot Number              0.483092\n",
       "Altitude                0.483092\n",
       "Producer                0.483092"
      ]
     },
     "execution_count": 9,
     "metadata": {},
     "output_type": "execute_result"
    }
   ],
   "source": [
    "#verifique a proporção ausente\n",
    "data_na = (df.isnull().sum() / len(df)) * 100\n",
    "data_na = data_na.drop(data_na[data_na == 0].index).sort_values(ascending=False)[:30]\n",
    "missing_data = pd.DataFrame({'Missing Ratio' :data_na})\n",
    "missing_data.head(20)"
   ]
  },
  {
   "cell_type": "markdown",
   "id": "ee1f64d8",
   "metadata": {},
   "source": [
    "### <b>IV <span style='color:#16C2D5'>|</span> Integralidade</b>"
   ]
  },
  {
   "cell_type": "code",
   "execution_count": 11,
   "id": "81f28d1c",
   "metadata": {},
   "outputs": [],
   "source": [
    "# Mapping the Education\n",
    "processing_mapping = {\n",
    "    \"Double Anaerobic Washed\": \"Washed / Wet\",\n",
    "    \"Semi Washed\": \"Washed / Wet\",\n",
    "    \"Honey,Mossto\": \"Pulped natural / honey\",\n",
    "    \"Double Carbonic Maceration / Natural\": \"Natural / Dry\",\n",
    "    \"Wet Hulling\": \"Washed / Wet\",\n",
    "    \"Anaerobico 1000h\": \"Washed / Wet\",\n",
    "    \"SEMI-LAVADO\": \"Natural / Dry\"\n",
    "}\n",
    "# Fixing the values in the column\n",
    "df['Processing Method'] = df['Processing Method'].map(processing_mapping)\n",
    "df['Processing Method'].fillna(\"Washed / Wet\", inplace=True)"
   ]
  },
  {
   "cell_type": "code",
   "execution_count": 12,
   "id": "39e94642",
   "metadata": {},
   "outputs": [],
   "source": [
    "# Manually impute specific values based on ID (Which we cant use function)\n",
    "df.loc[df['ID'] == 99, 'Altitude'] = 5273  # Impute value for ID 99\n",
    "df.loc[df['ID'] == 105, 'Altitude'] = 1800  # Impute value for ID 105\n",
    "df.loc[df['ID'] == 180, 'Altitude'] = 1400  # Impute value for ID 180\n",
    "\n",
    "\n",
    "# Define a function to clean and calculate the mean\n",
    "def clean_altitude_range(range_value):\n",
    "    if isinstance(range_value, str):\n",
    "        range_value = range_value.replace(\" \", \"\")  # Remove blank spaces\n",
    "        if '-' in range_value:\n",
    "            try:\n",
    "                start, end = range_value.split('-')\n",
    "                start = int(start)\n",
    "                end = int(end)\n",
    "                return (start + end) / 2\n",
    "            except ValueError:\n",
    "                return np.nan\n",
    "        else:\n",
    "            try:\n",
    "                return int(range_value)\n",
    "            except ValueError:\n",
    "                return np.nan\n",
    "    else:\n",
    "        return range_value\n",
    "\n",
    "# Apply the function to clean and calculate the mean for each value in the \"Altitude\" column\n",
    "df['Altitude'] = df['Altitude'].apply(clean_altitude_range)"
   ]
  },
  {
   "cell_type": "code",
   "execution_count": 13,
   "id": "3f9eea7a",
   "metadata": {},
   "outputs": [],
   "source": [
    "# Extract the prior year from the \"Harvest Year\" column\n",
    "df['Harvest Year'] = df['Harvest Year'].str.split('/').str[0].str.strip()"
   ]
  },
  {
   "cell_type": "markdown",
   "id": "fe108f09",
   "metadata": {},
   "source": [
    "## <div style=\"padding: 20px;color:white;margin:10;font-size:90%;text-align:left;display:fill;border-radius:10px;overflow:hidden;background-image: url(https://w0.peakpx.com/wallpaper/957/661/HD-wallpaper-white-marble-white-stone-texture-marble-stone-background-white-stone.jpg)\"><b><span style='color:black'> 2.Engenharia de recursos</span></b> </div>\n",
    "\n",
    "### <b>I <span style='color:#16C2D5'>|</span> Data Uniforme</b> "
   ]
  },
  {
   "cell_type": "code",
   "execution_count": 14,
   "id": "a114887e",
   "metadata": {},
   "outputs": [],
   "source": [
    "# Converta as colunas \"Harvest Year\" e \"Expiration\" em objetos datetime usando o parser dateutil\n",
    "df['Harvest Year'] = pd.to_datetime(df['Harvest Year'], format='%Y')\n",
    "df['Expiration'] = df['Expiration'].apply(parser.parse)"
   ]
  },
  {
   "cell_type": "markdown",
   "id": "455deb30",
   "metadata": {},
   "source": [
    "### <b>II <span style='color:#16C2D5'>|</span> Crie novos recursos</b>"
   ]
  },
  {
   "cell_type": "code",
   "execution_count": 16,
   "id": "4367fdc7",
   "metadata": {},
   "outputs": [],
   "source": [
    "# Calcule a diferença em dias entre as colunas \"Expiração\" e \"Ano da Colheita\"\n",
    "df['Coffee Age'] = (df['Expiration'] - df['Harvest Year']).dt.days"
   ]
  },
  {
   "cell_type": "markdown",
   "id": "fbd02e9a",
   "metadata": {},
   "source": [
    "## <div style=\"padding: 20px;color:white;margin:10;font-size:90%;text-align:left;display:fill;border-radius:10px;overflow:hidden;background-image: url(https://w0.peakpx.com/wallpaper/957/661/HD-wallpaper-white-marble-white-stone-texture-marble-stone-background-white-stone.jpg)\"><b><span style='color:black'> 3.Exclua a coluna que é irrelevante para o propósito desta análise.</span></b> </div>"
   ]
  },
  {
   "cell_type": "code",
   "execution_count": 17,
   "id": "4810b96c",
   "metadata": {},
   "outputs": [],
   "source": [
    "columns_to_drop = ['ID','ICO Number','Owner','Region','Certification Contact','Certification Address','Farm Name',\"Lot Number\",\"Mill\",\"ICO Number\",\"Producer\",'Company','Expiration', 'Harvest Year',\n",
    "                   \"Unnamed: 0\",'Number of Bags','Bag Weight','In-Country Partner','Grading Date','Variety','Status','Defects','Uniformity','Clean Cup','Sweetness','Certification Body']\n",
    "df.drop(columns_to_drop, axis=1, inplace=True)"
   ]
  },
  {
   "cell_type": "markdown",
   "id": "d9294b1a",
   "metadata": {},
   "source": [
    "# <span style=\"color:#E888BB; font-size: 1%;\">2 | Exploratory Data Analysis </span>\n",
    "<div style=\"padding: 35px;color:white;margin:10;font-size:170%;text-align:left;display:fill;border-radius:10px;overflow:hidden;background-image: url(https://images.pexels.com/photos/942802/pexels-photo-942802.jpeg?auto=compress&cs=tinysrgb&w=1260&h=750&dpr=1)\"><b><span style='color:white'>2 | Análise exploratória de dados </span></b> </div>\n",
    "\n",
    "## <div style=\"padding: 20px;color:white;margin:10;font-size:90%;text-align:left;display:fill;border-radius:10px;overflow:hidden;background-image: url(https://w0.peakpx.com/wallpaper/957/661/HD-wallpaper-white-marble-white-stone-texture-marble-stone-background-white-stone.jpg)\"><b><span style='color:black'> 1. Análise Univariada</span></b> </div>"
   ]
  },
  {
   "cell_type": "code",
   "execution_count": 19,
   "id": "096eee3e",
   "metadata": {
    "scrolled": false
   },
   "outputs": [
    {
     "data": {
      "application/vnd.plotly.v1+json": {
       "config": {
        "plotlyServerURL": "https://plot.ly"
       },
       "data": [
        {
         "name": "Aroma",
         "nbinsx": 50,
         "type": "histogram",
         "x": [
          8.58,
          8.5,
          8.33,
          8.08,
          8.33,
          8.33,
          8.33,
          8.25,
          8.08,
          8.08,
          8.08,
          8.08,
          8.08,
          7.67,
          8.08,
          8.17,
          8.17,
          8,
          8.08,
          8.17,
          8,
          8.08,
          7.67,
          8.08,
          7.83,
          7.83,
          7.92,
          8.17,
          8,
          8,
          8,
          7.92,
          8.08,
          7.67,
          8,
          7.92,
          8,
          8.25,
          8.17,
          7.75,
          8,
          8,
          8,
          8,
          7.92,
          8.17,
          7.67,
          7.67,
          7.83,
          7.92,
          8,
          7.83,
          8,
          7.92,
          7.83,
          7.67,
          7.83,
          7.83,
          7.92,
          7.67,
          7.83,
          7.58,
          7.83,
          8.17,
          7.92,
          8.08,
          7.83,
          8,
          7.75,
          7.75,
          7.83,
          7.92,
          8.08,
          7.83,
          7.67,
          7.92,
          7.83,
          7.83,
          7.75,
          7.67,
          7.58,
          7.92,
          7.75,
          7.58,
          7.83,
          7.92,
          7.67,
          7.67,
          7.75,
          7.58,
          8,
          7.75,
          7.67,
          7.67,
          7.83,
          7.58,
          7.75,
          7.67,
          7.58,
          7.58,
          7.83,
          7.92,
          7.67,
          7.67,
          7.67,
          7.83,
          7.67,
          7.83,
          7.58,
          7.67,
          7.58,
          7.58,
          7.58,
          7.75,
          7.75,
          7.42,
          7.42,
          7.67,
          7.75,
          7.75,
          7.75,
          7.58,
          7.5,
          7.58,
          7.67,
          7.58,
          7.75,
          7.92,
          7.92,
          7.58,
          7.75,
          7.67,
          7.67,
          7.75,
          7.75,
          7.67,
          7.67,
          7.67,
          7.75,
          8,
          7.5,
          7.75,
          7.58,
          7.67,
          7.67,
          7.17,
          7.58,
          7.33,
          7.33,
          7.58,
          7.33,
          7.5,
          7.67,
          7.67,
          7.67,
          7.5,
          7.67,
          7.75,
          7.5,
          7.33,
          7.67,
          7.58,
          7.42,
          7.58,
          7.5,
          7.5,
          7.33,
          7.67,
          7.67,
          7.75,
          7.5,
          7.67,
          7.5,
          7.33,
          7.5,
          7.17,
          7.42,
          7.42,
          7.67,
          7.5,
          7.33,
          7.25,
          7.5,
          7.5,
          7.42,
          7.33,
          7.58,
          7.33,
          7.42,
          7.33,
          7.33,
          7.42,
          7.25,
          7.42,
          7.42,
          7.42,
          7.25,
          7.42,
          7.25,
          7.5,
          7.08,
          7.25,
          7.17,
          7.33,
          7.25,
          6.5,
          7.25
         ],
         "xaxis": "x",
         "yaxis": "y"
        },
        {
         "name": "Flavor",
         "nbinsx": 50,
         "type": "histogram",
         "x": [
          8.5,
          8.5,
          8.42,
          8.17,
          8.33,
          8.33,
          8.17,
          8.25,
          8.08,
          8.17,
          8.25,
          8,
          8,
          8.17,
          8,
          8.08,
          8.08,
          8.17,
          8.17,
          8,
          7.92,
          8,
          8,
          8,
          8,
          8.08,
          7.92,
          8.08,
          8,
          7.92,
          8,
          8,
          8.17,
          7.83,
          8.08,
          7.75,
          7.92,
          8.08,
          7.75,
          7.92,
          7.92,
          8.08,
          7.92,
          7.92,
          8,
          8.08,
          8.08,
          8,
          7.92,
          7.92,
          8,
          7.92,
          8,
          7.75,
          7.83,
          7.92,
          7.92,
          7.83,
          8.08,
          8,
          8,
          7.83,
          7.83,
          7.83,
          7.75,
          7.83,
          8,
          7.83,
          7.83,
          7.92,
          7.92,
          7.83,
          7.92,
          8,
          7.83,
          7.83,
          7.75,
          7.83,
          7.75,
          7.67,
          7.92,
          7.92,
          7.75,
          7.92,
          7.92,
          7.75,
          7.83,
          7.92,
          7.75,
          7.67,
          7.75,
          7.58,
          7.83,
          7.92,
          7.83,
          7.83,
          7.67,
          7.75,
          7.83,
          7.92,
          7.67,
          7.75,
          7.92,
          7.92,
          7.67,
          7.75,
          7.67,
          7.83,
          7.75,
          7.67,
          7.67,
          7.75,
          7.83,
          7.67,
          7.75,
          7.83,
          7.42,
          7.67,
          7.75,
          7.92,
          7.67,
          7.67,
          7.75,
          7.67,
          7.67,
          7.75,
          7.83,
          7.92,
          7.67,
          7.5,
          7.75,
          7.67,
          7.75,
          7.58,
          7.75,
          7.67,
          7.75,
          7.67,
          7.58,
          7.67,
          7.67,
          7.5,
          7.5,
          7.5,
          7.58,
          7.92,
          7.42,
          7.58,
          7.5,
          7.67,
          7.58,
          7.58,
          7.58,
          7.67,
          7.58,
          7.58,
          7.33,
          7.67,
          7.58,
          7.58,
          7.42,
          7.58,
          7.42,
          7.58,
          7.5,
          7.5,
          7.67,
          7.58,
          7.5,
          7.42,
          7.5,
          7.5,
          7.67,
          7.42,
          7.58,
          7.5,
          7.42,
          7.42,
          7.33,
          7.5,
          7.42,
          7.42,
          7.5,
          7.5,
          7.5,
          7.5,
          7.42,
          7.42,
          7.5,
          7.5,
          7.42,
          7.25,
          7.25,
          7.25,
          7.42,
          7.33,
          7.25,
          7.17,
          7.25,
          7.25,
          7.25,
          7.17,
          7.17,
          7.08,
          7.17,
          6.75,
          7.08
         ],
         "xaxis": "x2",
         "yaxis": "y2"
        },
        {
         "name": "Aftertaste",
         "nbinsx": 50,
         "type": "histogram",
         "x": [
          8.42,
          7.92,
          8.08,
          8.17,
          8.08,
          8.25,
          8.08,
          8.17,
          8.25,
          8.08,
          8,
          8,
          8.08,
          8,
          8.08,
          8,
          7.92,
          8,
          7.75,
          7.92,
          8.08,
          7.92,
          7.83,
          7.83,
          7.92,
          7.83,
          8,
          7.92,
          8,
          8,
          7.83,
          7.83,
          7.67,
          7.83,
          8,
          7.83,
          7.83,
          7.83,
          7.83,
          7.75,
          7.83,
          7.67,
          7.67,
          7.75,
          7.92,
          7.83,
          7.67,
          7.75,
          7.75,
          7.83,
          7.75,
          7.75,
          7.83,
          7.75,
          7.67,
          7.92,
          7.75,
          7.75,
          7.67,
          7.67,
          7.67,
          7.5,
          7.75,
          7.67,
          7.67,
          7.67,
          7.67,
          7.75,
          7.67,
          7.83,
          7.75,
          7.75,
          7.75,
          7.5,
          7.75,
          7.75,
          7.58,
          7.83,
          7.75,
          7.83,
          7.67,
          7.58,
          7.58,
          7.58,
          7.83,
          7.67,
          7.67,
          7.67,
          7.75,
          7.75,
          7.5,
          7.58,
          7.58,
          7.58,
          7.58,
          7.58,
          7.58,
          7.67,
          7.67,
          7.5,
          7.5,
          7.42,
          7.58,
          7.67,
          7.58,
          7.5,
          7.75,
          7.67,
          7.67,
          7.58,
          7.5,
          7.58,
          7.58,
          7.58,
          7.5,
          7.58,
          7.42,
          7.5,
          7.5,
          7.67,
          7.58,
          7.5,
          7.58,
          7.58,
          7.42,
          7.42,
          7.58,
          7.75,
          7.42,
          7.5,
          7.58,
          7.58,
          7.67,
          7.58,
          7.5,
          7.5,
          7.33,
          7.5,
          7.58,
          7.42,
          7.58,
          7.42,
          7.5,
          7.42,
          7.5,
          7.58,
          7.58,
          7.25,
          7.25,
          7.58,
          7.58,
          7.5,
          7.33,
          7.42,
          7.42,
          7.42,
          7.17,
          7.17,
          7.5,
          7.5,
          7.5,
          7.33,
          7.58,
          7.42,
          7.33,
          7.42,
          7.25,
          7.42,
          7.33,
          7.33,
          7.42,
          7.25,
          7.33,
          7.42,
          7.42,
          7.42,
          7.42,
          7.42,
          7.25,
          7.33,
          7.33,
          7.42,
          7.25,
          7.42,
          7.58,
          7.33,
          7.25,
          7.25,
          7.33,
          7.42,
          7.25,
          7.33,
          7.42,
          7.25,
          7.25,
          7.33,
          7.17,
          7,
          7.17,
          7.17,
          7.08,
          7.17,
          6.92,
          6.75,
          7.08,
          6.75,
          6.67
         ],
         "xaxis": "x3",
         "yaxis": "y3"
        },
        {
         "name": "Acidity",
         "nbinsx": 50,
         "type": "histogram",
         "x": [
          8.58,
          8,
          8.17,
          8.25,
          8.25,
          7.83,
          8,
          8,
          8.08,
          8.17,
          8.08,
          7.75,
          8.08,
          8.33,
          7.92,
          7.92,
          8.17,
          7.92,
          7.92,
          7.92,
          7.92,
          7.92,
          8,
          8.17,
          8,
          7.92,
          7.92,
          8,
          7.92,
          7.83,
          7.83,
          7.92,
          7.83,
          8,
          8,
          8.17,
          7.92,
          7.75,
          7.58,
          8,
          7.92,
          7.75,
          8,
          7.75,
          8,
          7.67,
          8,
          7.92,
          8,
          7.83,
          7.75,
          7.83,
          7.83,
          7.92,
          7.67,
          7.83,
          7.92,
          7.92,
          7.92,
          7.83,
          7.83,
          7.67,
          7.75,
          7.83,
          7.67,
          7.67,
          7.75,
          7.67,
          7.83,
          7.75,
          7.75,
          7.92,
          7.83,
          7.75,
          7.75,
          7.92,
          7.92,
          7.83,
          7.75,
          7.83,
          7.75,
          7.75,
          7.83,
          7.83,
          7.58,
          7.75,
          7.83,
          7.75,
          7.67,
          7.75,
          7.67,
          7.92,
          7.92,
          7.75,
          7.67,
          7.75,
          7.75,
          7.75,
          7.67,
          7.67,
          7.92,
          7.58,
          7.58,
          7.58,
          7.67,
          7.58,
          7.75,
          7.58,
          7.83,
          7.75,
          7.75,
          7.75,
          7.67,
          7.58,
          7.58,
          7.67,
          8,
          7.67,
          7.5,
          7.92,
          7.5,
          7.75,
          7.75,
          7.75,
          7.75,
          7.67,
          7.58,
          7.33,
          7.5,
          7.83,
          7.67,
          7.67,
          7.58,
          7.58,
          7.75,
          7.58,
          7.67,
          7.58,
          7.58,
          7.58,
          7.58,
          7.67,
          7.67,
          7.75,
          7.5,
          7.5,
          7.5,
          7.33,
          7.92,
          7.5,
          7.5,
          7.42,
          7.5,
          7.42,
          7.42,
          7.58,
          7.67,
          7.67,
          7.5,
          7.5,
          7.5,
          7.5,
          7.42,
          7.42,
          7.5,
          7.42,
          7.67,
          7.5,
          7.58,
          7.5,
          7.5,
          7.5,
          7.5,
          7.5,
          7.42,
          7.42,
          7.33,
          7.33,
          7.67,
          7.5,
          7.42,
          7.5,
          7.42,
          7.33,
          7.33,
          7.42,
          7.25,
          7.42,
          7.33,
          7.33,
          7.33,
          7.42,
          7.25,
          7.42,
          7.25,
          7.5,
          7.33,
          7.08,
          7.33,
          7.17,
          7.42,
          7.08,
          7.17,
          7.17,
          7,
          7.17,
          6.83
         ],
         "xaxis": "x4",
         "yaxis": "y4"
        },
        {
         "name": "Body",
         "nbinsx": 50,
         "type": "histogram",
         "x": [
          8.25,
          7.92,
          7.92,
          8.17,
          7.92,
          7.83,
          7.83,
          7.92,
          7.92,
          8,
          7.92,
          8.25,
          8,
          8,
          8.08,
          8,
          7.75,
          7.92,
          7.83,
          8.17,
          7.75,
          8,
          8.08,
          7.75,
          8,
          8,
          7.83,
          7.58,
          7.75,
          7.67,
          7.75,
          7.83,
          7.67,
          8,
          7.67,
          8,
          7.83,
          7.67,
          7.92,
          7.83,
          7.75,
          7.92,
          7.75,
          7.75,
          7.58,
          7.67,
          7.92,
          8,
          7.75,
          7.75,
          7.67,
          7.83,
          7.58,
          7.83,
          7.83,
          7.75,
          7.67,
          7.83,
          7.67,
          7.92,
          7.75,
          7.83,
          7.75,
          7.67,
          7.83,
          7.67,
          7.67,
          7.58,
          7.75,
          7.75,
          7.75,
          7.58,
          7.5,
          7.75,
          7.83,
          7.5,
          8,
          7.67,
          7.83,
          7.67,
          7.83,
          7.58,
          7.75,
          7.75,
          7.58,
          7.75,
          7.75,
          7.67,
          7.75,
          7.75,
          7.67,
          7.67,
          7.67,
          7.67,
          7.67,
          7.67,
          7.75,
          7.67,
          7.67,
          7.75,
          7.5,
          7.92,
          7.58,
          7.67,
          7.83,
          7.67,
          7.5,
          7.58,
          7.5,
          7.67,
          7.75,
          7.58,
          7.58,
          7.58,
          7.83,
          7.67,
          7.92,
          7.58,
          7.58,
          7.75,
          7.67,
          7.5,
          7.67,
          7.42,
          7.5,
          7.5,
          7.58,
          7.58,
          7.67,
          7.67,
          7.42,
          7.58,
          7.5,
          7.5,
          7.5,
          7.58,
          7.58,
          7.58,
          7.58,
          7.58,
          7.5,
          7.58,
          7.58,
          7.42,
          7.58,
          7.58,
          7.67,
          7.75,
          7.75,
          7.33,
          7.67,
          7.5,
          7.58,
          7.42,
          7.5,
          7.5,
          7.83,
          7.42,
          7.67,
          7.5,
          7.67,
          7.58,
          7.58,
          7.5,
          7.5,
          7.42,
          7.83,
          7.33,
          7.33,
          7.33,
          7.25,
          7.5,
          7.25,
          7.42,
          7.25,
          7.58,
          7.58,
          7.5,
          7.42,
          7.33,
          7.58,
          7.42,
          7.42,
          7.33,
          7.33,
          7.42,
          7.5,
          7.42,
          7.33,
          7.33,
          7.5,
          7.33,
          7.42,
          7.17,
          7.17,
          7.08,
          7.08,
          7.42,
          7,
          7.17,
          7.42,
          7.17,
          7.42,
          7.42,
          7.08,
          7.08,
          6.83
         ],
         "xaxis": "x5",
         "yaxis": "y5"
        },
        {
         "name": "Balance",
         "nbinsx": 50,
         "type": "histogram",
         "x": [
          8.42,
          8.25,
          8.17,
          8.08,
          7.92,
          8.17,
          8.25,
          8.08,
          8,
          8,
          7.92,
          8.17,
          8,
          8,
          8,
          7.92,
          7.92,
          7.92,
          8,
          7.75,
          8,
          7.83,
          8,
          7.83,
          7.92,
          7.83,
          7.92,
          7.83,
          7.92,
          8,
          7.92,
          7.83,
          7.92,
          8,
          7.75,
          7.75,
          7.83,
          7.75,
          8,
          7.92,
          7.75,
          7.83,
          7.83,
          7.92,
          7.75,
          7.75,
          7.83,
          7.83,
          7.75,
          7.83,
          7.75,
          7.83,
          7.83,
          7.83,
          8,
          7.83,
          7.83,
          7.75,
          7.75,
          7.67,
          7.75,
          7.67,
          7.75,
          7.67,
          7.75,
          7.75,
          7.75,
          7.83,
          7.75,
          7.75,
          7.75,
          7.67,
          7.58,
          7.75,
          7.75,
          7.67,
          7.5,
          7.67,
          7.67,
          7.75,
          7.75,
          7.67,
          7.75,
          7.67,
          7.67,
          8,
          7.67,
          7.58,
          7.67,
          7.75,
          7.67,
          7.75,
          7.67,
          7.58,
          7.58,
          7.75,
          7.67,
          7.67,
          7.67,
          7.67,
          7.67,
          7.67,
          7.75,
          7.67,
          7.58,
          7.67,
          7.67,
          7.58,
          7.67,
          7.67,
          7.67,
          7.67,
          7.58,
          7.67,
          7.5,
          7.75,
          7.67,
          7.67,
          7.58,
          7.83,
          7.5,
          7.58,
          7.58,
          7.58,
          7.75,
          7.75,
          7.5,
          7.5,
          7.58,
          7.5,
          7.5,
          7.58,
          7.58,
          7.58,
          7.42,
          7.5,
          7.5,
          7.5,
          7.5,
          7.42,
          7.5,
          7.5,
          7.5,
          7.58,
          7.5,
          7.67,
          7.75,
          8.17,
          7.58,
          7.5,
          7.67,
          7.58,
          7.5,
          7.5,
          7.5,
          7.58,
          7.5,
          7.42,
          7.42,
          7.58,
          7.42,
          7.42,
          7.5,
          7.5,
          7.42,
          7.67,
          7.42,
          7.42,
          7.42,
          7.5,
          7.5,
          7.33,
          7.33,
          7.5,
          7.42,
          7.5,
          7.33,
          7.42,
          7.25,
          7.33,
          7.42,
          7.42,
          7.42,
          7.33,
          7.25,
          7.42,
          7.33,
          7.33,
          7.33,
          7.25,
          7.42,
          7.33,
          7.42,
          7.33,
          7.25,
          7,
          7.25,
          7.17,
          7.17,
          7.08,
          7.08,
          7.17,
          7.17,
          7.17,
          7.08,
          7,
          6.67
         ],
         "xaxis": "x6",
         "yaxis": "y6"
        },
        {
         "name": "Overall",
         "nbinsx": 50,
         "type": "histogram",
         "x": [
          8.58,
          8.5,
          8.33,
          8.25,
          8.25,
          8.25,
          8.25,
          8.08,
          8.25,
          8,
          8,
          8,
          8,
          8,
          8,
          8,
          8.08,
          8.17,
          8.17,
          7.92,
          8.08,
          7.92,
          8.08,
          8,
          7.92,
          8,
          8,
          7.92,
          7.92,
          8,
          8.08,
          8,
          8,
          8,
          7.83,
          7.83,
          7.92,
          7.92,
          8,
          8,
          7.92,
          7.83,
          7.92,
          7.92,
          7.83,
          7.83,
          7.83,
          7.83,
          7.92,
          7.83,
          7.92,
          7.83,
          7.75,
          7.83,
          8,
          7.83,
          7.83,
          7.83,
          7.75,
          7.92,
          7.83,
          8.58,
          7.92,
          7.75,
          8,
          7.92,
          7.92,
          7.92,
          7.92,
          7.75,
          7.75,
          7.83,
          7.83,
          7.83,
          7.75,
          7.75,
          7.75,
          7.67,
          7.83,
          7.83,
          7.75,
          7.83,
          7.75,
          7.75,
          7.67,
          7.92,
          7.67,
          7.75,
          7.67,
          7.75,
          7.75,
          7.75,
          7.67,
          7.75,
          7.75,
          7.75,
          7.75,
          7.67,
          7.75,
          7.75,
          7.75,
          7.58,
          7.75,
          7.58,
          7.75,
          7.67,
          7.67,
          7.58,
          7.67,
          7.67,
          7.67,
          7.67,
          7.75,
          7.67,
          7.58,
          7.58,
          7.67,
          7.67,
          7.75,
          7.92,
          7.67,
          7.75,
          7.5,
          7.75,
          7.58,
          7.67,
          7.5,
          7.33,
          7.5,
          7.67,
          7.58,
          7.5,
          7.5,
          7.67,
          7.5,
          7.67,
          7.58,
          7.58,
          7.5,
          7.33,
          7.58,
          7.5,
          7.58,
          7.58,
          7.5,
          7.42,
          7.33,
          7.33,
          7.42,
          7.5,
          7.33,
          7.58,
          7.5,
          7.5,
          7.5,
          7.42,
          7.33,
          7.42,
          7.33,
          7.5,
          7.33,
          7.5,
          7.58,
          7.42,
          7.58,
          7.42,
          7.17,
          7.42,
          7.42,
          7.33,
          7.5,
          7.42,
          7.5,
          7.5,
          7.42,
          7.42,
          7.5,
          7.5,
          7.42,
          7.42,
          7.42,
          7.42,
          7.33,
          7.42,
          7.33,
          7.33,
          7.33,
          7.42,
          7.33,
          7.33,
          7.17,
          7.25,
          7.17,
          7.33,
          7.25,
          7.17,
          7.17,
          7.17,
          7.25,
          7,
          7,
          7.17,
          7.08,
          7.08,
          7,
          6.83,
          6.67
         ],
         "xaxis": "x7",
         "yaxis": "y7"
        },
        {
         "name": "Total Cup Points",
         "nbinsx": 50,
         "type": "histogram",
         "x": [
          89.33,
          87.58,
          87.42,
          87.17,
          87.08,
          87,
          86.92,
          86.75,
          86.67,
          86.5,
          86.25,
          86.25,
          86.25,
          86.17,
          86.17,
          86.08,
          86.08,
          86.08,
          85.92,
          85.83,
          85.75,
          85.67,
          85.67,
          85.67,
          85.58,
          85.5,
          85.5,
          85.5,
          85.5,
          85.42,
          85.42,
          85.33,
          85.33,
          85.33,
          85.33,
          85.25,
          85.25,
          85.25,
          85.25,
          85.17,
          85.08,
          85.08,
          85.08,
          85,
          85,
          85,
          85,
          85,
          84.92,
          84.92,
          84.83,
          84.83,
          84.83,
          84.83,
          84.83,
          84.75,
          84.75,
          84.75,
          84.75,
          84.67,
          84.67,
          84.67,
          84.58,
          84.58,
          84.58,
          84.58,
          84.58,
          84.58,
          84.5,
          84.5,
          84.5,
          84.5,
          84.5,
          84.42,
          84.33,
          84.33,
          84.33,
          84.33,
          84.33,
          84.25,
          84.25,
          84.25,
          84.17,
          84.08,
          84.08,
          84.08,
          84.08,
          84,
          84,
          84,
          84,
          84,
          84,
          83.92,
          83.92,
          83.92,
          83.92,
          83.83,
          83.83,
          83.83,
          83.83,
          83.83,
          83.83,
          83.75,
          83.75,
          83.67,
          83.67,
          83.67,
          83.67,
          83.67,
          83.58,
          83.58,
          83.58,
          83.5,
          83.5,
          83.5,
          83.5,
          83.42,
          83.42,
          83.42,
          83.33,
          83.33,
          83.33,
          83.33,
          83.33,
          83.33,
          83.33,
          83.33,
          83.25,
          83.25,
          83.25,
          83.25,
          83.25,
          83.25,
          83.17,
          83.17,
          83.08,
          83.08,
          83.08,
          83,
          82.92,
          82.92,
          82.92,
          82.92,
          82.83,
          82.83,
          82.83,
          82.75,
          82.75,
          82.67,
          82.67,
          82.67,
          82.67,
          82.58,
          82.58,
          82.58,
          82.5,
          82.5,
          82.5,
          82.5,
          82.5,
          82.5,
          82.5,
          82.42,
          82.33,
          82.33,
          82.33,
          82.33,
          82.25,
          82.17,
          82.17,
          82.17,
          82.08,
          82.08,
          82,
          82,
          82,
          82,
          82,
          81.92,
          81.92,
          81.83,
          81.83,
          81.83,
          81.75,
          81.75,
          81.67,
          81.58,
          81.58,
          81.5,
          81.42,
          81.33,
          81.17,
          81.17,
          81,
          80.83,
          80.5,
          80.42,
          80.42,
          80.33,
          80.33,
          80.17,
          80.08,
          80,
          79.67,
          78.08,
          78
         ],
         "xaxis": "x8",
         "yaxis": "y8"
        },
        {
         "name": "Moisture Percentage",
         "nbinsx": 50,
         "type": "histogram",
         "x": [
          11.8,
          10.5,
          10.4,
          11.8,
          11.6,
          10.7,
          9.1,
          10,
          10.8,
          11,
          11.8,
          11.5,
          11.9,
          11.6,
          10.6,
          10.2,
          11.3,
          10.3,
          11,
          10,
          11.6,
          10.4,
          9.8,
          11.3,
          10.6,
          11.3,
          9.1,
          10.6,
          10.2,
          9.3,
          11.4,
          10.8,
          11.3,
          9.9,
          12.3,
          9.4,
          9.5,
          11.3,
          9.2,
          10.3,
          10,
          10.5,
          10,
          11,
          10.9,
          10.1,
          9.9,
          11.3,
          11.7,
          9.5,
          9.7,
          11.9,
          10.7,
          11.2,
          9.5,
          10.4,
          11.2,
          10.3,
          10,
          10.6,
          10.9,
          10,
          9.6,
          11.5,
          9.9,
          11.2,
          10.3,
          11.6,
          11.7,
          11.3,
          9.8,
          10.9,
          10.2,
          10.1,
          9.2,
          10.1,
          11,
          10.3,
          11.6,
          11.5,
          10,
          12.1,
          10.2,
          11,
          10.8,
          10.6,
          11,
          11,
          9.4,
          9.8,
          11.3,
          11.6,
          13.3,
          9.5,
          11.9,
          10,
          11.6,
          11.9,
          10.8,
          10.9,
          12,
          12.1,
          11.8,
          10.6,
          11.7,
          12.4,
          10,
          10.2,
          9.2,
          11.1,
          8.4,
          9.1,
          10.9,
          11.2,
          12.2,
          13.1,
          10.4,
          11.6,
          10.1,
          10.1,
          11.1,
          9.7,
          11.4,
          9.6,
          13.5,
          0,
          10.7,
          12.3,
          10.4,
          11.6,
          9.6,
          10.9,
          10.5,
          11.3,
          9.7,
          11.8,
          11.8,
          10.6,
          9.6,
          13.1,
          8.9,
          11.9,
          11.5,
          10.2,
          10,
          11.8,
          13.3,
          10.5,
          11.8,
          11.8,
          13,
          11.2,
          9.6,
          9.8,
          8.4,
          10.1,
          11.3,
          10,
          11.8,
          11.7,
          10.7,
          10.6,
          8.4,
          11.4,
          10.5,
          12,
          11.8,
          10.8,
          11.7,
          10.6,
          11.2,
          10.6,
          9.7,
          8.1,
          8.2,
          9.8,
          10.5,
          11.5,
          12.5,
          11.6,
          10.3,
          11.3,
          11.2,
          11.3,
          11.1,
          11.2,
          11.8,
          9.7,
          9,
          8.5,
          11.6,
          10.5,
          10.4,
          11.4,
          10.6,
          10.5,
          11.5,
          11.2,
          11,
          11.8,
          11.5,
          11.6,
          11.4,
          10.4,
          11.6,
          11,
          11.3
         ],
         "xaxis": "x9",
         "yaxis": "y9"
        },
        {
         "name": "Coffee Age",
         "nbinsx": 50,
         "type": "histogram",
         "x": [
          993,
          1048,
          1048,
          628,
          794,
          683,
          1048,
          1048,
          1048,
          761,
          880,
          1048,
          1048,
          967,
          1048,
          1048,
          826,
          661,
          1026,
          761,
          1048,
          710,
          957,
          826,
          1048,
          735,
          1048,
          1048,
          1048,
          1048,
          710,
          710,
          523,
          886,
          1002,
          1075,
          1048,
          523,
          788,
          2487,
          710,
          1093,
          1100,
          909,
          1075,
          1048,
          836,
          783,
          902,
          1100,
          1100,
          630,
          683,
          677,
          1048,
          1048,
          773,
          845,
          1093,
          847,
          868,
          838,
          1100,
          523,
          889,
          1048,
          1048,
          1048,
          641,
          1100,
          844,
          964,
          1075,
          1048,
          845,
          677,
          991,
          1048,
          860,
          628,
          836,
          710,
          844,
          868,
          1100,
          1048,
          810,
          810,
          1048,
          732,
          1051,
          689,
          572,
          838,
          1048,
          836,
          628,
          836,
          862,
          868,
          981,
          782,
          683,
          683,
          824,
          633,
          661,
          683,
          1100,
          1048,
          1100,
          1100,
          868,
          958,
          747,
          559,
          1063,
          531,
          917,
          1048,
          973,
          1100,
          1093,
          1100,
          1002,
          838,
          1048,
          559,
          732,
          773,
          1100,
          826,
          1048,
          958,
          1100,
          1100,
          728,
          872,
          844,
          742,
          1100,
          952,
          896,
          661,
          843,
          559,
          883,
          759,
          1048,
          556,
          559,
          894,
          844,
          1100,
          1100,
          900,
          791,
          874,
          671,
          683,
          1048,
          872,
          1100,
          1093,
          881,
          781,
          917,
          1100,
          556,
          677,
          826,
          872,
          1100,
          1100,
          1100,
          559,
          2278,
          1061,
          598,
          556,
          671,
          1100,
          829,
          826,
          1093,
          1093,
          952,
          817,
          1100,
          1100,
          559,
          1048,
          559,
          1085,
          836,
          431,
          921,
          839,
          794,
          525,
          431,
          930,
          762,
          791,
          1044,
          431,
          1051
         ],
         "xaxis": "x10",
         "yaxis": "y10"
        }
       ],
       "layout": {
        "height": 2000,
        "template": {
         "data": {
          "bar": [
           {
            "error_x": {
             "color": "#2a3f5f"
            },
            "error_y": {
             "color": "#2a3f5f"
            },
            "marker": {
             "line": {
              "color": "#E5ECF6",
              "width": 0.5
             },
             "pattern": {
              "fillmode": "overlay",
              "size": 10,
              "solidity": 0.2
             }
            },
            "type": "bar"
           }
          ],
          "barpolar": [
           {
            "marker": {
             "line": {
              "color": "#E5ECF6",
              "width": 0.5
             },
             "pattern": {
              "fillmode": "overlay",
              "size": 10,
              "solidity": 0.2
             }
            },
            "type": "barpolar"
           }
          ],
          "carpet": [
           {
            "aaxis": {
             "endlinecolor": "#2a3f5f",
             "gridcolor": "white",
             "linecolor": "white",
             "minorgridcolor": "white",
             "startlinecolor": "#2a3f5f"
            },
            "baxis": {
             "endlinecolor": "#2a3f5f",
             "gridcolor": "white",
             "linecolor": "white",
             "minorgridcolor": "white",
             "startlinecolor": "#2a3f5f"
            },
            "type": "carpet"
           }
          ],
          "choropleth": [
           {
            "colorbar": {
             "outlinewidth": 0,
             "ticks": ""
            },
            "type": "choropleth"
           }
          ],
          "contour": [
           {
            "colorbar": {
             "outlinewidth": 0,
             "ticks": ""
            },
            "colorscale": [
             [
              0,
              "#0d0887"
             ],
             [
              0.1111111111111111,
              "#46039f"
             ],
             [
              0.2222222222222222,
              "#7201a8"
             ],
             [
              0.3333333333333333,
              "#9c179e"
             ],
             [
              0.4444444444444444,
              "#bd3786"
             ],
             [
              0.5555555555555556,
              "#d8576b"
             ],
             [
              0.6666666666666666,
              "#ed7953"
             ],
             [
              0.7777777777777778,
              "#fb9f3a"
             ],
             [
              0.8888888888888888,
              "#fdca26"
             ],
             [
              1,
              "#f0f921"
             ]
            ],
            "type": "contour"
           }
          ],
          "contourcarpet": [
           {
            "colorbar": {
             "outlinewidth": 0,
             "ticks": ""
            },
            "type": "contourcarpet"
           }
          ],
          "heatmap": [
           {
            "colorbar": {
             "outlinewidth": 0,
             "ticks": ""
            },
            "colorscale": [
             [
              0,
              "#0d0887"
             ],
             [
              0.1111111111111111,
              "#46039f"
             ],
             [
              0.2222222222222222,
              "#7201a8"
             ],
             [
              0.3333333333333333,
              "#9c179e"
             ],
             [
              0.4444444444444444,
              "#bd3786"
             ],
             [
              0.5555555555555556,
              "#d8576b"
             ],
             [
              0.6666666666666666,
              "#ed7953"
             ],
             [
              0.7777777777777778,
              "#fb9f3a"
             ],
             [
              0.8888888888888888,
              "#fdca26"
             ],
             [
              1,
              "#f0f921"
             ]
            ],
            "type": "heatmap"
           }
          ],
          "heatmapgl": [
           {
            "colorbar": {
             "outlinewidth": 0,
             "ticks": ""
            },
            "colorscale": [
             [
              0,
              "#0d0887"
             ],
             [
              0.1111111111111111,
              "#46039f"
             ],
             [
              0.2222222222222222,
              "#7201a8"
             ],
             [
              0.3333333333333333,
              "#9c179e"
             ],
             [
              0.4444444444444444,
              "#bd3786"
             ],
             [
              0.5555555555555556,
              "#d8576b"
             ],
             [
              0.6666666666666666,
              "#ed7953"
             ],
             [
              0.7777777777777778,
              "#fb9f3a"
             ],
             [
              0.8888888888888888,
              "#fdca26"
             ],
             [
              1,
              "#f0f921"
             ]
            ],
            "type": "heatmapgl"
           }
          ],
          "histogram": [
           {
            "marker": {
             "pattern": {
              "fillmode": "overlay",
              "size": 10,
              "solidity": 0.2
             }
            },
            "type": "histogram"
           }
          ],
          "histogram2d": [
           {
            "colorbar": {
             "outlinewidth": 0,
             "ticks": ""
            },
            "colorscale": [
             [
              0,
              "#0d0887"
             ],
             [
              0.1111111111111111,
              "#46039f"
             ],
             [
              0.2222222222222222,
              "#7201a8"
             ],
             [
              0.3333333333333333,
              "#9c179e"
             ],
             [
              0.4444444444444444,
              "#bd3786"
             ],
             [
              0.5555555555555556,
              "#d8576b"
             ],
             [
              0.6666666666666666,
              "#ed7953"
             ],
             [
              0.7777777777777778,
              "#fb9f3a"
             ],
             [
              0.8888888888888888,
              "#fdca26"
             ],
             [
              1,
              "#f0f921"
             ]
            ],
            "type": "histogram2d"
           }
          ],
          "histogram2dcontour": [
           {
            "colorbar": {
             "outlinewidth": 0,
             "ticks": ""
            },
            "colorscale": [
             [
              0,
              "#0d0887"
             ],
             [
              0.1111111111111111,
              "#46039f"
             ],
             [
              0.2222222222222222,
              "#7201a8"
             ],
             [
              0.3333333333333333,
              "#9c179e"
             ],
             [
              0.4444444444444444,
              "#bd3786"
             ],
             [
              0.5555555555555556,
              "#d8576b"
             ],
             [
              0.6666666666666666,
              "#ed7953"
             ],
             [
              0.7777777777777778,
              "#fb9f3a"
             ],
             [
              0.8888888888888888,
              "#fdca26"
             ],
             [
              1,
              "#f0f921"
             ]
            ],
            "type": "histogram2dcontour"
           }
          ],
          "mesh3d": [
           {
            "colorbar": {
             "outlinewidth": 0,
             "ticks": ""
            },
            "type": "mesh3d"
           }
          ],
          "parcoords": [
           {
            "line": {
             "colorbar": {
              "outlinewidth": 0,
              "ticks": ""
             }
            },
            "type": "parcoords"
           }
          ],
          "pie": [
           {
            "automargin": true,
            "type": "pie"
           }
          ],
          "scatter": [
           {
            "fillpattern": {
             "fillmode": "overlay",
             "size": 10,
             "solidity": 0.2
            },
            "type": "scatter"
           }
          ],
          "scatter3d": [
           {
            "line": {
             "colorbar": {
              "outlinewidth": 0,
              "ticks": ""
             }
            },
            "marker": {
             "colorbar": {
              "outlinewidth": 0,
              "ticks": ""
             }
            },
            "type": "scatter3d"
           }
          ],
          "scattercarpet": [
           {
            "marker": {
             "colorbar": {
              "outlinewidth": 0,
              "ticks": ""
             }
            },
            "type": "scattercarpet"
           }
          ],
          "scattergeo": [
           {
            "marker": {
             "colorbar": {
              "outlinewidth": 0,
              "ticks": ""
             }
            },
            "type": "scattergeo"
           }
          ],
          "scattergl": [
           {
            "marker": {
             "colorbar": {
              "outlinewidth": 0,
              "ticks": ""
             }
            },
            "type": "scattergl"
           }
          ],
          "scattermapbox": [
           {
            "marker": {
             "colorbar": {
              "outlinewidth": 0,
              "ticks": ""
             }
            },
            "type": "scattermapbox"
           }
          ],
          "scatterpolar": [
           {
            "marker": {
             "colorbar": {
              "outlinewidth": 0,
              "ticks": ""
             }
            },
            "type": "scatterpolar"
           }
          ],
          "scatterpolargl": [
           {
            "marker": {
             "colorbar": {
              "outlinewidth": 0,
              "ticks": ""
             }
            },
            "type": "scatterpolargl"
           }
          ],
          "scatterternary": [
           {
            "marker": {
             "colorbar": {
              "outlinewidth": 0,
              "ticks": ""
             }
            },
            "type": "scatterternary"
           }
          ],
          "surface": [
           {
            "colorbar": {
             "outlinewidth": 0,
             "ticks": ""
            },
            "colorscale": [
             [
              0,
              "#0d0887"
             ],
             [
              0.1111111111111111,
              "#46039f"
             ],
             [
              0.2222222222222222,
              "#7201a8"
             ],
             [
              0.3333333333333333,
              "#9c179e"
             ],
             [
              0.4444444444444444,
              "#bd3786"
             ],
             [
              0.5555555555555556,
              "#d8576b"
             ],
             [
              0.6666666666666666,
              "#ed7953"
             ],
             [
              0.7777777777777778,
              "#fb9f3a"
             ],
             [
              0.8888888888888888,
              "#fdca26"
             ],
             [
              1,
              "#f0f921"
             ]
            ],
            "type": "surface"
           }
          ],
          "table": [
           {
            "cells": {
             "fill": {
              "color": "#EBF0F8"
             },
             "line": {
              "color": "white"
             }
            },
            "header": {
             "fill": {
              "color": "#C8D4E3"
             },
             "line": {
              "color": "white"
             }
            },
            "type": "table"
           }
          ]
         },
         "layout": {
          "annotationdefaults": {
           "arrowcolor": "#2a3f5f",
           "arrowhead": 0,
           "arrowwidth": 1
          },
          "autotypenumbers": "strict",
          "coloraxis": {
           "colorbar": {
            "outlinewidth": 0,
            "ticks": ""
           }
          },
          "colorscale": {
           "diverging": [
            [
             0,
             "#8e0152"
            ],
            [
             0.1,
             "#c51b7d"
            ],
            [
             0.2,
             "#de77ae"
            ],
            [
             0.3,
             "#f1b6da"
            ],
            [
             0.4,
             "#fde0ef"
            ],
            [
             0.5,
             "#f7f7f7"
            ],
            [
             0.6,
             "#e6f5d0"
            ],
            [
             0.7,
             "#b8e186"
            ],
            [
             0.8,
             "#7fbc41"
            ],
            [
             0.9,
             "#4d9221"
            ],
            [
             1,
             "#276419"
            ]
           ],
           "sequential": [
            [
             0,
             "#0d0887"
            ],
            [
             0.1111111111111111,
             "#46039f"
            ],
            [
             0.2222222222222222,
             "#7201a8"
            ],
            [
             0.3333333333333333,
             "#9c179e"
            ],
            [
             0.4444444444444444,
             "#bd3786"
            ],
            [
             0.5555555555555556,
             "#d8576b"
            ],
            [
             0.6666666666666666,
             "#ed7953"
            ],
            [
             0.7777777777777778,
             "#fb9f3a"
            ],
            [
             0.8888888888888888,
             "#fdca26"
            ],
            [
             1,
             "#f0f921"
            ]
           ],
           "sequentialminus": [
            [
             0,
             "#0d0887"
            ],
            [
             0.1111111111111111,
             "#46039f"
            ],
            [
             0.2222222222222222,
             "#7201a8"
            ],
            [
             0.3333333333333333,
             "#9c179e"
            ],
            [
             0.4444444444444444,
             "#bd3786"
            ],
            [
             0.5555555555555556,
             "#d8576b"
            ],
            [
             0.6666666666666666,
             "#ed7953"
            ],
            [
             0.7777777777777778,
             "#fb9f3a"
            ],
            [
             0.8888888888888888,
             "#fdca26"
            ],
            [
             1,
             "#f0f921"
            ]
           ]
          },
          "colorway": [
           "#636efa",
           "#EF553B",
           "#00cc96",
           "#ab63fa",
           "#FFA15A",
           "#19d3f3",
           "#FF6692",
           "#B6E880",
           "#FF97FF",
           "#FECB52"
          ],
          "font": {
           "color": "#2a3f5f"
          },
          "geo": {
           "bgcolor": "white",
           "lakecolor": "white",
           "landcolor": "#E5ECF6",
           "showlakes": true,
           "showland": true,
           "subunitcolor": "white"
          },
          "hoverlabel": {
           "align": "left"
          },
          "hovermode": "closest",
          "mapbox": {
           "style": "light"
          },
          "paper_bgcolor": "white",
          "plot_bgcolor": "#E5ECF6",
          "polar": {
           "angularaxis": {
            "gridcolor": "white",
            "linecolor": "white",
            "ticks": ""
           },
           "bgcolor": "#E5ECF6",
           "radialaxis": {
            "gridcolor": "white",
            "linecolor": "white",
            "ticks": ""
           }
          },
          "scene": {
           "xaxis": {
            "backgroundcolor": "#E5ECF6",
            "gridcolor": "white",
            "gridwidth": 2,
            "linecolor": "white",
            "showbackground": true,
            "ticks": "",
            "zerolinecolor": "white"
           },
           "yaxis": {
            "backgroundcolor": "#E5ECF6",
            "gridcolor": "white",
            "gridwidth": 2,
            "linecolor": "white",
            "showbackground": true,
            "ticks": "",
            "zerolinecolor": "white"
           },
           "zaxis": {
            "backgroundcolor": "#E5ECF6",
            "gridcolor": "white",
            "gridwidth": 2,
            "linecolor": "white",
            "showbackground": true,
            "ticks": "",
            "zerolinecolor": "white"
           }
          },
          "shapedefaults": {
           "line": {
            "color": "#2a3f5f"
           }
          },
          "ternary": {
           "aaxis": {
            "gridcolor": "white",
            "linecolor": "white",
            "ticks": ""
           },
           "baxis": {
            "gridcolor": "white",
            "linecolor": "white",
            "ticks": ""
           },
           "bgcolor": "#E5ECF6",
           "caxis": {
            "gridcolor": "white",
            "linecolor": "white",
            "ticks": ""
           }
          },
          "title": {
           "x": 0.05
          },
          "xaxis": {
           "automargin": true,
           "gridcolor": "white",
           "linecolor": "white",
           "ticks": "",
           "title": {
            "standoff": 15
           },
           "zerolinecolor": "white",
           "zerolinewidth": 2
          },
          "yaxis": {
           "automargin": true,
           "gridcolor": "white",
           "linecolor": "white",
           "ticks": "",
           "title": {
            "standoff": 15
           },
           "zerolinecolor": "white",
           "zerolinewidth": 2
          }
         }
        },
        "title": {
         "text": "Histogramas de Atributos Numéricos"
        },
        "width": 800,
        "xaxis": {
         "anchor": "y",
         "domain": [
          0,
          1
         ]
        },
        "xaxis10": {
         "anchor": "y10",
         "domain": [
          0,
          1
         ]
        },
        "xaxis2": {
         "anchor": "y2",
         "domain": [
          0,
          1
         ]
        },
        "xaxis3": {
         "anchor": "y3",
         "domain": [
          0,
          1
         ]
        },
        "xaxis4": {
         "anchor": "y4",
         "domain": [
          0,
          1
         ]
        },
        "xaxis5": {
         "anchor": "y5",
         "domain": [
          0,
          1
         ]
        },
        "xaxis6": {
         "anchor": "y6",
         "domain": [
          0,
          1
         ]
        },
        "xaxis7": {
         "anchor": "y7",
         "domain": [
          0,
          1
         ]
        },
        "xaxis8": {
         "anchor": "y8",
         "domain": [
          0,
          1
         ]
        },
        "xaxis9": {
         "anchor": "y9",
         "domain": [
          0,
          1
         ]
        },
        "yaxis": {
         "anchor": "x",
         "domain": [
          0.9269999999999999,
          0.9999999999999999
         ]
        },
        "yaxis10": {
         "anchor": "x10",
         "domain": [
          0,
          0.073
         ]
        },
        "yaxis2": {
         "anchor": "x2",
         "domain": [
          0.824,
          0.8969999999999999
         ]
        },
        "yaxis3": {
         "anchor": "x3",
         "domain": [
          0.721,
          0.7939999999999999
         ]
        },
        "yaxis4": {
         "anchor": "x4",
         "domain": [
          0.618,
          0.691
         ]
        },
        "yaxis5": {
         "anchor": "x5",
         "domain": [
          0.515,
          0.588
         ]
        },
        "yaxis6": {
         "anchor": "x6",
         "domain": [
          0.412,
          0.485
         ]
        },
        "yaxis7": {
         "anchor": "x7",
         "domain": [
          0.30899999999999994,
          0.38199999999999995
         ]
        },
        "yaxis8": {
         "anchor": "x8",
         "domain": [
          0.206,
          0.27899999999999997
         ]
        },
        "yaxis9": {
         "anchor": "x9",
         "domain": [
          0.103,
          0.176
         ]
        }
       }
      },
      "text/html": [
       "<div>                            <div id=\"b08b0c99-a767-423a-8440-848ced0ee59d\" class=\"plotly-graph-div\" style=\"height:2000px; width:800px;\"></div>            <script type=\"text/javascript\">                require([\"plotly\"], function(Plotly) {                    window.PLOTLYENV=window.PLOTLYENV || {};                                    if (document.getElementById(\"b08b0c99-a767-423a-8440-848ced0ee59d\")) {                    Plotly.newPlot(                        \"b08b0c99-a767-423a-8440-848ced0ee59d\",                        [{\"name\":\"Aroma\",\"nbinsx\":50,\"x\":[8.58,8.5,8.33,8.08,8.33,8.33,8.33,8.25,8.08,8.08,8.08,8.08,8.08,7.67,8.08,8.17,8.17,8.0,8.08,8.17,8.0,8.08,7.67,8.08,7.83,7.83,7.92,8.17,8.0,8.0,8.0,7.92,8.08,7.67,8.0,7.92,8.0,8.25,8.17,7.75,8.0,8.0,8.0,8.0,7.92,8.17,7.67,7.67,7.83,7.92,8.0,7.83,8.0,7.92,7.83,7.67,7.83,7.83,7.92,7.67,7.83,7.58,7.83,8.17,7.92,8.08,7.83,8.0,7.75,7.75,7.83,7.92,8.08,7.83,7.67,7.92,7.83,7.83,7.75,7.67,7.58,7.92,7.75,7.58,7.83,7.92,7.67,7.67,7.75,7.58,8.0,7.75,7.67,7.67,7.83,7.58,7.75,7.67,7.58,7.58,7.83,7.92,7.67,7.67,7.67,7.83,7.67,7.83,7.58,7.67,7.58,7.58,7.58,7.75,7.75,7.42,7.42,7.67,7.75,7.75,7.75,7.58,7.5,7.58,7.67,7.58,7.75,7.92,7.92,7.58,7.75,7.67,7.67,7.75,7.75,7.67,7.67,7.67,7.75,8.0,7.5,7.75,7.58,7.67,7.67,7.17,7.58,7.33,7.33,7.58,7.33,7.5,7.67,7.67,7.67,7.5,7.67,7.75,7.5,7.33,7.67,7.58,7.42,7.58,7.5,7.5,7.33,7.67,7.67,7.75,7.5,7.67,7.5,7.33,7.5,7.17,7.42,7.42,7.67,7.5,7.33,7.25,7.5,7.5,7.42,7.33,7.58,7.33,7.42,7.33,7.33,7.42,7.25,7.42,7.42,7.42,7.25,7.42,7.25,7.5,7.08,7.25,7.17,7.33,7.25,6.5,7.25],\"type\":\"histogram\",\"xaxis\":\"x\",\"yaxis\":\"y\"},{\"name\":\"Flavor\",\"nbinsx\":50,\"x\":[8.5,8.5,8.42,8.17,8.33,8.33,8.17,8.25,8.08,8.17,8.25,8.0,8.0,8.17,8.0,8.08,8.08,8.17,8.17,8.0,7.92,8.0,8.0,8.0,8.0,8.08,7.92,8.08,8.0,7.92,8.0,8.0,8.17,7.83,8.08,7.75,7.92,8.08,7.75,7.92,7.92,8.08,7.92,7.92,8.0,8.08,8.08,8.0,7.92,7.92,8.0,7.92,8.0,7.75,7.83,7.92,7.92,7.83,8.08,8.0,8.0,7.83,7.83,7.83,7.75,7.83,8.0,7.83,7.83,7.92,7.92,7.83,7.92,8.0,7.83,7.83,7.75,7.83,7.75,7.67,7.92,7.92,7.75,7.92,7.92,7.75,7.83,7.92,7.75,7.67,7.75,7.58,7.83,7.92,7.83,7.83,7.67,7.75,7.83,7.92,7.67,7.75,7.92,7.92,7.67,7.75,7.67,7.83,7.75,7.67,7.67,7.75,7.83,7.67,7.75,7.83,7.42,7.67,7.75,7.92,7.67,7.67,7.75,7.67,7.67,7.75,7.83,7.92,7.67,7.5,7.75,7.67,7.75,7.58,7.75,7.67,7.75,7.67,7.58,7.67,7.67,7.5,7.5,7.5,7.58,7.92,7.42,7.58,7.5,7.67,7.58,7.58,7.58,7.67,7.58,7.58,7.33,7.67,7.58,7.58,7.42,7.58,7.42,7.58,7.5,7.5,7.67,7.58,7.5,7.42,7.5,7.5,7.67,7.42,7.58,7.5,7.42,7.42,7.33,7.5,7.42,7.42,7.5,7.5,7.5,7.5,7.42,7.42,7.5,7.5,7.42,7.25,7.25,7.25,7.42,7.33,7.25,7.17,7.25,7.25,7.25,7.17,7.17,7.08,7.17,6.75,7.08],\"type\":\"histogram\",\"xaxis\":\"x2\",\"yaxis\":\"y2\"},{\"name\":\"Aftertaste\",\"nbinsx\":50,\"x\":[8.42,7.92,8.08,8.17,8.08,8.25,8.08,8.17,8.25,8.08,8.0,8.0,8.08,8.0,8.08,8.0,7.92,8.0,7.75,7.92,8.08,7.92,7.83,7.83,7.92,7.83,8.0,7.92,8.0,8.0,7.83,7.83,7.67,7.83,8.0,7.83,7.83,7.83,7.83,7.75,7.83,7.67,7.67,7.75,7.92,7.83,7.67,7.75,7.75,7.83,7.75,7.75,7.83,7.75,7.67,7.92,7.75,7.75,7.67,7.67,7.67,7.5,7.75,7.67,7.67,7.67,7.67,7.75,7.67,7.83,7.75,7.75,7.75,7.5,7.75,7.75,7.58,7.83,7.75,7.83,7.67,7.58,7.58,7.58,7.83,7.67,7.67,7.67,7.75,7.75,7.5,7.58,7.58,7.58,7.58,7.58,7.58,7.67,7.67,7.5,7.5,7.42,7.58,7.67,7.58,7.5,7.75,7.67,7.67,7.58,7.5,7.58,7.58,7.58,7.5,7.58,7.42,7.5,7.5,7.67,7.58,7.5,7.58,7.58,7.42,7.42,7.58,7.75,7.42,7.5,7.58,7.58,7.67,7.58,7.5,7.5,7.33,7.5,7.58,7.42,7.58,7.42,7.5,7.42,7.5,7.58,7.58,7.25,7.25,7.58,7.58,7.5,7.33,7.42,7.42,7.42,7.17,7.17,7.5,7.5,7.5,7.33,7.58,7.42,7.33,7.42,7.25,7.42,7.33,7.33,7.42,7.25,7.33,7.42,7.42,7.42,7.42,7.42,7.25,7.33,7.33,7.42,7.25,7.42,7.58,7.33,7.25,7.25,7.33,7.42,7.25,7.33,7.42,7.25,7.25,7.33,7.17,7.0,7.17,7.17,7.08,7.17,6.92,6.75,7.08,6.75,6.67],\"type\":\"histogram\",\"xaxis\":\"x3\",\"yaxis\":\"y3\"},{\"name\":\"Acidity\",\"nbinsx\":50,\"x\":[8.58,8.0,8.17,8.25,8.25,7.83,8.0,8.0,8.08,8.17,8.08,7.75,8.08,8.33,7.92,7.92,8.17,7.92,7.92,7.92,7.92,7.92,8.0,8.17,8.0,7.92,7.92,8.0,7.92,7.83,7.83,7.92,7.83,8.0,8.0,8.17,7.92,7.75,7.58,8.0,7.92,7.75,8.0,7.75,8.0,7.67,8.0,7.92,8.0,7.83,7.75,7.83,7.83,7.92,7.67,7.83,7.92,7.92,7.92,7.83,7.83,7.67,7.75,7.83,7.67,7.67,7.75,7.67,7.83,7.75,7.75,7.92,7.83,7.75,7.75,7.92,7.92,7.83,7.75,7.83,7.75,7.75,7.83,7.83,7.58,7.75,7.83,7.75,7.67,7.75,7.67,7.92,7.92,7.75,7.67,7.75,7.75,7.75,7.67,7.67,7.92,7.58,7.58,7.58,7.67,7.58,7.75,7.58,7.83,7.75,7.75,7.75,7.67,7.58,7.58,7.67,8.0,7.67,7.5,7.92,7.5,7.75,7.75,7.75,7.75,7.67,7.58,7.33,7.5,7.83,7.67,7.67,7.58,7.58,7.75,7.58,7.67,7.58,7.58,7.58,7.58,7.67,7.67,7.75,7.5,7.5,7.5,7.33,7.92,7.5,7.5,7.42,7.5,7.42,7.42,7.58,7.67,7.67,7.5,7.5,7.5,7.5,7.42,7.42,7.5,7.42,7.67,7.5,7.58,7.5,7.5,7.5,7.5,7.5,7.42,7.42,7.33,7.33,7.67,7.5,7.42,7.5,7.42,7.33,7.33,7.42,7.25,7.42,7.33,7.33,7.33,7.42,7.25,7.42,7.25,7.5,7.33,7.08,7.33,7.17,7.42,7.08,7.17,7.17,7.0,7.17,6.83],\"type\":\"histogram\",\"xaxis\":\"x4\",\"yaxis\":\"y4\"},{\"name\":\"Body\",\"nbinsx\":50,\"x\":[8.25,7.92,7.92,8.17,7.92,7.83,7.83,7.92,7.92,8.0,7.92,8.25,8.0,8.0,8.08,8.0,7.75,7.92,7.83,8.17,7.75,8.0,8.08,7.75,8.0,8.0,7.83,7.58,7.75,7.67,7.75,7.83,7.67,8.0,7.67,8.0,7.83,7.67,7.92,7.83,7.75,7.92,7.75,7.75,7.58,7.67,7.92,8.0,7.75,7.75,7.67,7.83,7.58,7.83,7.83,7.75,7.67,7.83,7.67,7.92,7.75,7.83,7.75,7.67,7.83,7.67,7.67,7.58,7.75,7.75,7.75,7.58,7.5,7.75,7.83,7.5,8.0,7.67,7.83,7.67,7.83,7.58,7.75,7.75,7.58,7.75,7.75,7.67,7.75,7.75,7.67,7.67,7.67,7.67,7.67,7.67,7.75,7.67,7.67,7.75,7.5,7.92,7.58,7.67,7.83,7.67,7.5,7.58,7.5,7.67,7.75,7.58,7.58,7.58,7.83,7.67,7.92,7.58,7.58,7.75,7.67,7.5,7.67,7.42,7.5,7.5,7.58,7.58,7.67,7.67,7.42,7.58,7.5,7.5,7.5,7.58,7.58,7.58,7.58,7.58,7.5,7.58,7.58,7.42,7.58,7.58,7.67,7.75,7.75,7.33,7.67,7.5,7.58,7.42,7.5,7.5,7.83,7.42,7.67,7.5,7.67,7.58,7.58,7.5,7.5,7.42,7.83,7.33,7.33,7.33,7.25,7.5,7.25,7.42,7.25,7.58,7.58,7.5,7.42,7.33,7.58,7.42,7.42,7.33,7.33,7.42,7.5,7.42,7.33,7.33,7.5,7.33,7.42,7.17,7.17,7.08,7.08,7.42,7.0,7.17,7.42,7.17,7.42,7.42,7.08,7.08,6.83],\"type\":\"histogram\",\"xaxis\":\"x5\",\"yaxis\":\"y5\"},{\"name\":\"Balance\",\"nbinsx\":50,\"x\":[8.42,8.25,8.17,8.08,7.92,8.17,8.25,8.08,8.0,8.0,7.92,8.17,8.0,8.0,8.0,7.92,7.92,7.92,8.0,7.75,8.0,7.83,8.0,7.83,7.92,7.83,7.92,7.83,7.92,8.0,7.92,7.83,7.92,8.0,7.75,7.75,7.83,7.75,8.0,7.92,7.75,7.83,7.83,7.92,7.75,7.75,7.83,7.83,7.75,7.83,7.75,7.83,7.83,7.83,8.0,7.83,7.83,7.75,7.75,7.67,7.75,7.67,7.75,7.67,7.75,7.75,7.75,7.83,7.75,7.75,7.75,7.67,7.58,7.75,7.75,7.67,7.5,7.67,7.67,7.75,7.75,7.67,7.75,7.67,7.67,8.0,7.67,7.58,7.67,7.75,7.67,7.75,7.67,7.58,7.58,7.75,7.67,7.67,7.67,7.67,7.67,7.67,7.75,7.67,7.58,7.67,7.67,7.58,7.67,7.67,7.67,7.67,7.58,7.67,7.5,7.75,7.67,7.67,7.58,7.83,7.5,7.58,7.58,7.58,7.75,7.75,7.5,7.5,7.58,7.5,7.5,7.58,7.58,7.58,7.42,7.5,7.5,7.5,7.5,7.42,7.5,7.5,7.5,7.58,7.5,7.67,7.75,8.17,7.58,7.5,7.67,7.58,7.5,7.5,7.5,7.58,7.5,7.42,7.42,7.58,7.42,7.42,7.5,7.5,7.42,7.67,7.42,7.42,7.42,7.5,7.5,7.33,7.33,7.5,7.42,7.5,7.33,7.42,7.25,7.33,7.42,7.42,7.42,7.33,7.25,7.42,7.33,7.33,7.33,7.25,7.42,7.33,7.42,7.33,7.25,7.0,7.25,7.17,7.17,7.08,7.08,7.17,7.17,7.17,7.08,7.0,6.67],\"type\":\"histogram\",\"xaxis\":\"x6\",\"yaxis\":\"y6\"},{\"name\":\"Overall\",\"nbinsx\":50,\"x\":[8.58,8.5,8.33,8.25,8.25,8.25,8.25,8.08,8.25,8.0,8.0,8.0,8.0,8.0,8.0,8.0,8.08,8.17,8.17,7.92,8.08,7.92,8.08,8.0,7.92,8.0,8.0,7.92,7.92,8.0,8.08,8.0,8.0,8.0,7.83,7.83,7.92,7.92,8.0,8.0,7.92,7.83,7.92,7.92,7.83,7.83,7.83,7.83,7.92,7.83,7.92,7.83,7.75,7.83,8.0,7.83,7.83,7.83,7.75,7.92,7.83,8.58,7.92,7.75,8.0,7.92,7.92,7.92,7.92,7.75,7.75,7.83,7.83,7.83,7.75,7.75,7.75,7.67,7.83,7.83,7.75,7.83,7.75,7.75,7.67,7.92,7.67,7.75,7.67,7.75,7.75,7.75,7.67,7.75,7.75,7.75,7.75,7.67,7.75,7.75,7.75,7.58,7.75,7.58,7.75,7.67,7.67,7.58,7.67,7.67,7.67,7.67,7.75,7.67,7.58,7.58,7.67,7.67,7.75,7.92,7.67,7.75,7.5,7.75,7.58,7.67,7.5,7.33,7.5,7.67,7.58,7.5,7.5,7.67,7.5,7.67,7.58,7.58,7.5,7.33,7.58,7.5,7.58,7.58,7.5,7.42,7.33,7.33,7.42,7.5,7.33,7.58,7.5,7.5,7.5,7.42,7.33,7.42,7.33,7.5,7.33,7.5,7.58,7.42,7.58,7.42,7.17,7.42,7.42,7.33,7.5,7.42,7.5,7.5,7.42,7.42,7.5,7.5,7.42,7.42,7.42,7.42,7.33,7.42,7.33,7.33,7.33,7.42,7.33,7.33,7.17,7.25,7.17,7.33,7.25,7.17,7.17,7.17,7.25,7.0,7.0,7.17,7.08,7.08,7.0,6.83,6.67],\"type\":\"histogram\",\"xaxis\":\"x7\",\"yaxis\":\"y7\"},{\"name\":\"Total Cup Points\",\"nbinsx\":50,\"x\":[89.33,87.58,87.42,87.17,87.08,87.0,86.92,86.75,86.67,86.5,86.25,86.25,86.25,86.17,86.17,86.08,86.08,86.08,85.92,85.83,85.75,85.67,85.67,85.67,85.58,85.5,85.5,85.5,85.5,85.42,85.42,85.33,85.33,85.33,85.33,85.25,85.25,85.25,85.25,85.17,85.08,85.08,85.08,85.0,85.0,85.0,85.0,85.0,84.92,84.92,84.83,84.83,84.83,84.83,84.83,84.75,84.75,84.75,84.75,84.67,84.67,84.67,84.58,84.58,84.58,84.58,84.58,84.58,84.5,84.5,84.5,84.5,84.5,84.42,84.33,84.33,84.33,84.33,84.33,84.25,84.25,84.25,84.17,84.08,84.08,84.08,84.08,84.0,84.0,84.0,84.0,84.0,84.0,83.92,83.92,83.92,83.92,83.83,83.83,83.83,83.83,83.83,83.83,83.75,83.75,83.67,83.67,83.67,83.67,83.67,83.58,83.58,83.58,83.5,83.5,83.5,83.5,83.42,83.42,83.42,83.33,83.33,83.33,83.33,83.33,83.33,83.33,83.33,83.25,83.25,83.25,83.25,83.25,83.25,83.17,83.17,83.08,83.08,83.08,83.0,82.92,82.92,82.92,82.92,82.83,82.83,82.83,82.75,82.75,82.67,82.67,82.67,82.67,82.58,82.58,82.58,82.5,82.5,82.5,82.5,82.5,82.5,82.5,82.42,82.33,82.33,82.33,82.33,82.25,82.17,82.17,82.17,82.08,82.08,82.0,82.0,82.0,82.0,82.0,81.92,81.92,81.83,81.83,81.83,81.75,81.75,81.67,81.58,81.58,81.5,81.42,81.33,81.17,81.17,81.0,80.83,80.5,80.42,80.42,80.33,80.33,80.17,80.08,80.0,79.67,78.08,78.0],\"type\":\"histogram\",\"xaxis\":\"x8\",\"yaxis\":\"y8\"},{\"name\":\"Moisture Percentage\",\"nbinsx\":50,\"x\":[11.8,10.5,10.4,11.8,11.6,10.7,9.1,10.0,10.8,11.0,11.8,11.5,11.9,11.6,10.6,10.2,11.3,10.3,11.0,10.0,11.6,10.4,9.8,11.3,10.6,11.3,9.1,10.6,10.2,9.3,11.4,10.8,11.3,9.9,12.3,9.4,9.5,11.3,9.2,10.3,10.0,10.5,10.0,11.0,10.9,10.1,9.9,11.3,11.7,9.5,9.7,11.9,10.7,11.2,9.5,10.4,11.2,10.3,10.0,10.6,10.9,10.0,9.6,11.5,9.9,11.2,10.3,11.6,11.7,11.3,9.8,10.9,10.2,10.1,9.2,10.1,11.0,10.3,11.6,11.5,10.0,12.1,10.2,11.0,10.8,10.6,11.0,11.0,9.4,9.8,11.3,11.6,13.3,9.5,11.9,10.0,11.6,11.9,10.8,10.9,12.0,12.1,11.8,10.6,11.7,12.4,10.0,10.2,9.2,11.1,8.4,9.1,10.9,11.2,12.2,13.1,10.4,11.6,10.1,10.1,11.1,9.7,11.4,9.6,13.5,0.0,10.7,12.3,10.4,11.6,9.6,10.9,10.5,11.3,9.7,11.8,11.8,10.6,9.6,13.1,8.9,11.9,11.5,10.2,10.0,11.8,13.3,10.5,11.8,11.8,13.0,11.2,9.6,9.8,8.4,10.1,11.3,10.0,11.8,11.7,10.7,10.6,8.4,11.4,10.5,12.0,11.8,10.8,11.7,10.6,11.2,10.6,9.7,8.1,8.2,9.8,10.5,11.5,12.5,11.6,10.3,11.3,11.2,11.3,11.1,11.2,11.8,9.7,9.0,8.5,11.6,10.5,10.4,11.4,10.6,10.5,11.5,11.2,11.0,11.8,11.5,11.6,11.4,10.4,11.6,11.0,11.3],\"type\":\"histogram\",\"xaxis\":\"x9\",\"yaxis\":\"y9\"},{\"name\":\"Coffee Age\",\"nbinsx\":50,\"x\":[993,1048,1048,628,794,683,1048,1048,1048,761,880,1048,1048,967,1048,1048,826,661,1026,761,1048,710,957,826,1048,735,1048,1048,1048,1048,710,710,523,886,1002,1075,1048,523,788,2487,710,1093,1100,909,1075,1048,836,783,902,1100,1100,630,683,677,1048,1048,773,845,1093,847,868,838,1100,523,889,1048,1048,1048,641,1100,844,964,1075,1048,845,677,991,1048,860,628,836,710,844,868,1100,1048,810,810,1048,732,1051,689,572,838,1048,836,628,836,862,868,981,782,683,683,824,633,661,683,1100,1048,1100,1100,868,958,747,559,1063,531,917,1048,973,1100,1093,1100,1002,838,1048,559,732,773,1100,826,1048,958,1100,1100,728,872,844,742,1100,952,896,661,843,559,883,759,1048,556,559,894,844,1100,1100,900,791,874,671,683,1048,872,1100,1093,881,781,917,1100,556,677,826,872,1100,1100,1100,559,2278,1061,598,556,671,1100,829,826,1093,1093,952,817,1100,1100,559,1048,559,1085,836,431,921,839,794,525,431,930,762,791,1044,431,1051],\"type\":\"histogram\",\"xaxis\":\"x10\",\"yaxis\":\"y10\"}],                        {\"template\":{\"data\":{\"histogram2dcontour\":[{\"type\":\"histogram2dcontour\",\"colorbar\":{\"outlinewidth\":0,\"ticks\":\"\"},\"colorscale\":[[0.0,\"#0d0887\"],[0.1111111111111111,\"#46039f\"],[0.2222222222222222,\"#7201a8\"],[0.3333333333333333,\"#9c179e\"],[0.4444444444444444,\"#bd3786\"],[0.5555555555555556,\"#d8576b\"],[0.6666666666666666,\"#ed7953\"],[0.7777777777777778,\"#fb9f3a\"],[0.8888888888888888,\"#fdca26\"],[1.0,\"#f0f921\"]]}],\"choropleth\":[{\"type\":\"choropleth\",\"colorbar\":{\"outlinewidth\":0,\"ticks\":\"\"}}],\"histogram2d\":[{\"type\":\"histogram2d\",\"colorbar\":{\"outlinewidth\":0,\"ticks\":\"\"},\"colorscale\":[[0.0,\"#0d0887\"],[0.1111111111111111,\"#46039f\"],[0.2222222222222222,\"#7201a8\"],[0.3333333333333333,\"#9c179e\"],[0.4444444444444444,\"#bd3786\"],[0.5555555555555556,\"#d8576b\"],[0.6666666666666666,\"#ed7953\"],[0.7777777777777778,\"#fb9f3a\"],[0.8888888888888888,\"#fdca26\"],[1.0,\"#f0f921\"]]}],\"heatmap\":[{\"type\":\"heatmap\",\"colorbar\":{\"outlinewidth\":0,\"ticks\":\"\"},\"colorscale\":[[0.0,\"#0d0887\"],[0.1111111111111111,\"#46039f\"],[0.2222222222222222,\"#7201a8\"],[0.3333333333333333,\"#9c179e\"],[0.4444444444444444,\"#bd3786\"],[0.5555555555555556,\"#d8576b\"],[0.6666666666666666,\"#ed7953\"],[0.7777777777777778,\"#fb9f3a\"],[0.8888888888888888,\"#fdca26\"],[1.0,\"#f0f921\"]]}],\"heatmapgl\":[{\"type\":\"heatmapgl\",\"colorbar\":{\"outlinewidth\":0,\"ticks\":\"\"},\"colorscale\":[[0.0,\"#0d0887\"],[0.1111111111111111,\"#46039f\"],[0.2222222222222222,\"#7201a8\"],[0.3333333333333333,\"#9c179e\"],[0.4444444444444444,\"#bd3786\"],[0.5555555555555556,\"#d8576b\"],[0.6666666666666666,\"#ed7953\"],[0.7777777777777778,\"#fb9f3a\"],[0.8888888888888888,\"#fdca26\"],[1.0,\"#f0f921\"]]}],\"contourcarpet\":[{\"type\":\"contourcarpet\",\"colorbar\":{\"outlinewidth\":0,\"ticks\":\"\"}}],\"contour\":[{\"type\":\"contour\",\"colorbar\":{\"outlinewidth\":0,\"ticks\":\"\"},\"colorscale\":[[0.0,\"#0d0887\"],[0.1111111111111111,\"#46039f\"],[0.2222222222222222,\"#7201a8\"],[0.3333333333333333,\"#9c179e\"],[0.4444444444444444,\"#bd3786\"],[0.5555555555555556,\"#d8576b\"],[0.6666666666666666,\"#ed7953\"],[0.7777777777777778,\"#fb9f3a\"],[0.8888888888888888,\"#fdca26\"],[1.0,\"#f0f921\"]]}],\"surface\":[{\"type\":\"surface\",\"colorbar\":{\"outlinewidth\":0,\"ticks\":\"\"},\"colorscale\":[[0.0,\"#0d0887\"],[0.1111111111111111,\"#46039f\"],[0.2222222222222222,\"#7201a8\"],[0.3333333333333333,\"#9c179e\"],[0.4444444444444444,\"#bd3786\"],[0.5555555555555556,\"#d8576b\"],[0.6666666666666666,\"#ed7953\"],[0.7777777777777778,\"#fb9f3a\"],[0.8888888888888888,\"#fdca26\"],[1.0,\"#f0f921\"]]}],\"mesh3d\":[{\"type\":\"mesh3d\",\"colorbar\":{\"outlinewidth\":0,\"ticks\":\"\"}}],\"scatter\":[{\"fillpattern\":{\"fillmode\":\"overlay\",\"size\":10,\"solidity\":0.2},\"type\":\"scatter\"}],\"parcoords\":[{\"type\":\"parcoords\",\"line\":{\"colorbar\":{\"outlinewidth\":0,\"ticks\":\"\"}}}],\"scatterpolargl\":[{\"type\":\"scatterpolargl\",\"marker\":{\"colorbar\":{\"outlinewidth\":0,\"ticks\":\"\"}}}],\"bar\":[{\"error_x\":{\"color\":\"#2a3f5f\"},\"error_y\":{\"color\":\"#2a3f5f\"},\"marker\":{\"line\":{\"color\":\"#E5ECF6\",\"width\":0.5},\"pattern\":{\"fillmode\":\"overlay\",\"size\":10,\"solidity\":0.2}},\"type\":\"bar\"}],\"scattergeo\":[{\"type\":\"scattergeo\",\"marker\":{\"colorbar\":{\"outlinewidth\":0,\"ticks\":\"\"}}}],\"scatterpolar\":[{\"type\":\"scatterpolar\",\"marker\":{\"colorbar\":{\"outlinewidth\":0,\"ticks\":\"\"}}}],\"histogram\":[{\"marker\":{\"pattern\":{\"fillmode\":\"overlay\",\"size\":10,\"solidity\":0.2}},\"type\":\"histogram\"}],\"scattergl\":[{\"type\":\"scattergl\",\"marker\":{\"colorbar\":{\"outlinewidth\":0,\"ticks\":\"\"}}}],\"scatter3d\":[{\"type\":\"scatter3d\",\"line\":{\"colorbar\":{\"outlinewidth\":0,\"ticks\":\"\"}},\"marker\":{\"colorbar\":{\"outlinewidth\":0,\"ticks\":\"\"}}}],\"scattermapbox\":[{\"type\":\"scattermapbox\",\"marker\":{\"colorbar\":{\"outlinewidth\":0,\"ticks\":\"\"}}}],\"scatterternary\":[{\"type\":\"scatterternary\",\"marker\":{\"colorbar\":{\"outlinewidth\":0,\"ticks\":\"\"}}}],\"scattercarpet\":[{\"type\":\"scattercarpet\",\"marker\":{\"colorbar\":{\"outlinewidth\":0,\"ticks\":\"\"}}}],\"carpet\":[{\"aaxis\":{\"endlinecolor\":\"#2a3f5f\",\"gridcolor\":\"white\",\"linecolor\":\"white\",\"minorgridcolor\":\"white\",\"startlinecolor\":\"#2a3f5f\"},\"baxis\":{\"endlinecolor\":\"#2a3f5f\",\"gridcolor\":\"white\",\"linecolor\":\"white\",\"minorgridcolor\":\"white\",\"startlinecolor\":\"#2a3f5f\"},\"type\":\"carpet\"}],\"table\":[{\"cells\":{\"fill\":{\"color\":\"#EBF0F8\"},\"line\":{\"color\":\"white\"}},\"header\":{\"fill\":{\"color\":\"#C8D4E3\"},\"line\":{\"color\":\"white\"}},\"type\":\"table\"}],\"barpolar\":[{\"marker\":{\"line\":{\"color\":\"#E5ECF6\",\"width\":0.5},\"pattern\":{\"fillmode\":\"overlay\",\"size\":10,\"solidity\":0.2}},\"type\":\"barpolar\"}],\"pie\":[{\"automargin\":true,\"type\":\"pie\"}]},\"layout\":{\"autotypenumbers\":\"strict\",\"colorway\":[\"#636efa\",\"#EF553B\",\"#00cc96\",\"#ab63fa\",\"#FFA15A\",\"#19d3f3\",\"#FF6692\",\"#B6E880\",\"#FF97FF\",\"#FECB52\"],\"font\":{\"color\":\"#2a3f5f\"},\"hovermode\":\"closest\",\"hoverlabel\":{\"align\":\"left\"},\"paper_bgcolor\":\"white\",\"plot_bgcolor\":\"#E5ECF6\",\"polar\":{\"bgcolor\":\"#E5ECF6\",\"angularaxis\":{\"gridcolor\":\"white\",\"linecolor\":\"white\",\"ticks\":\"\"},\"radialaxis\":{\"gridcolor\":\"white\",\"linecolor\":\"white\",\"ticks\":\"\"}},\"ternary\":{\"bgcolor\":\"#E5ECF6\",\"aaxis\":{\"gridcolor\":\"white\",\"linecolor\":\"white\",\"ticks\":\"\"},\"baxis\":{\"gridcolor\":\"white\",\"linecolor\":\"white\",\"ticks\":\"\"},\"caxis\":{\"gridcolor\":\"white\",\"linecolor\":\"white\",\"ticks\":\"\"}},\"coloraxis\":{\"colorbar\":{\"outlinewidth\":0,\"ticks\":\"\"}},\"colorscale\":{\"sequential\":[[0.0,\"#0d0887\"],[0.1111111111111111,\"#46039f\"],[0.2222222222222222,\"#7201a8\"],[0.3333333333333333,\"#9c179e\"],[0.4444444444444444,\"#bd3786\"],[0.5555555555555556,\"#d8576b\"],[0.6666666666666666,\"#ed7953\"],[0.7777777777777778,\"#fb9f3a\"],[0.8888888888888888,\"#fdca26\"],[1.0,\"#f0f921\"]],\"sequentialminus\":[[0.0,\"#0d0887\"],[0.1111111111111111,\"#46039f\"],[0.2222222222222222,\"#7201a8\"],[0.3333333333333333,\"#9c179e\"],[0.4444444444444444,\"#bd3786\"],[0.5555555555555556,\"#d8576b\"],[0.6666666666666666,\"#ed7953\"],[0.7777777777777778,\"#fb9f3a\"],[0.8888888888888888,\"#fdca26\"],[1.0,\"#f0f921\"]],\"diverging\":[[0,\"#8e0152\"],[0.1,\"#c51b7d\"],[0.2,\"#de77ae\"],[0.3,\"#f1b6da\"],[0.4,\"#fde0ef\"],[0.5,\"#f7f7f7\"],[0.6,\"#e6f5d0\"],[0.7,\"#b8e186\"],[0.8,\"#7fbc41\"],[0.9,\"#4d9221\"],[1,\"#276419\"]]},\"xaxis\":{\"gridcolor\":\"white\",\"linecolor\":\"white\",\"ticks\":\"\",\"title\":{\"standoff\":15},\"zerolinecolor\":\"white\",\"automargin\":true,\"zerolinewidth\":2},\"yaxis\":{\"gridcolor\":\"white\",\"linecolor\":\"white\",\"ticks\":\"\",\"title\":{\"standoff\":15},\"zerolinecolor\":\"white\",\"automargin\":true,\"zerolinewidth\":2},\"scene\":{\"xaxis\":{\"backgroundcolor\":\"#E5ECF6\",\"gridcolor\":\"white\",\"linecolor\":\"white\",\"showbackground\":true,\"ticks\":\"\",\"zerolinecolor\":\"white\",\"gridwidth\":2},\"yaxis\":{\"backgroundcolor\":\"#E5ECF6\",\"gridcolor\":\"white\",\"linecolor\":\"white\",\"showbackground\":true,\"ticks\":\"\",\"zerolinecolor\":\"white\",\"gridwidth\":2},\"zaxis\":{\"backgroundcolor\":\"#E5ECF6\",\"gridcolor\":\"white\",\"linecolor\":\"white\",\"showbackground\":true,\"ticks\":\"\",\"zerolinecolor\":\"white\",\"gridwidth\":2}},\"shapedefaults\":{\"line\":{\"color\":\"#2a3f5f\"}},\"annotationdefaults\":{\"arrowcolor\":\"#2a3f5f\",\"arrowhead\":0,\"arrowwidth\":1},\"geo\":{\"bgcolor\":\"white\",\"landcolor\":\"#E5ECF6\",\"subunitcolor\":\"white\",\"showland\":true,\"showlakes\":true,\"lakecolor\":\"white\"},\"title\":{\"x\":0.05},\"mapbox\":{\"style\":\"light\"}}},\"xaxis\":{\"anchor\":\"y\",\"domain\":[0.0,1.0]},\"yaxis\":{\"anchor\":\"x\",\"domain\":[0.9269999999999999,0.9999999999999999]},\"xaxis2\":{\"anchor\":\"y2\",\"domain\":[0.0,1.0]},\"yaxis2\":{\"anchor\":\"x2\",\"domain\":[0.824,0.8969999999999999]},\"xaxis3\":{\"anchor\":\"y3\",\"domain\":[0.0,1.0]},\"yaxis3\":{\"anchor\":\"x3\",\"domain\":[0.721,0.7939999999999999]},\"xaxis4\":{\"anchor\":\"y4\",\"domain\":[0.0,1.0]},\"yaxis4\":{\"anchor\":\"x4\",\"domain\":[0.618,0.691]},\"xaxis5\":{\"anchor\":\"y5\",\"domain\":[0.0,1.0]},\"yaxis5\":{\"anchor\":\"x5\",\"domain\":[0.515,0.588]},\"xaxis6\":{\"anchor\":\"y6\",\"domain\":[0.0,1.0]},\"yaxis6\":{\"anchor\":\"x6\",\"domain\":[0.412,0.485]},\"xaxis7\":{\"anchor\":\"y7\",\"domain\":[0.0,1.0]},\"yaxis7\":{\"anchor\":\"x7\",\"domain\":[0.30899999999999994,0.38199999999999995]},\"xaxis8\":{\"anchor\":\"y8\",\"domain\":[0.0,1.0]},\"yaxis8\":{\"anchor\":\"x8\",\"domain\":[0.206,0.27899999999999997]},\"xaxis9\":{\"anchor\":\"y9\",\"domain\":[0.0,1.0]},\"yaxis9\":{\"anchor\":\"x9\",\"domain\":[0.103,0.176]},\"xaxis10\":{\"anchor\":\"y10\",\"domain\":[0.0,1.0]},\"yaxis10\":{\"anchor\":\"x10\",\"domain\":[0.0,0.073]},\"title\":{\"text\":\"Histogramas de Atributos Num\\u00e9ricos\"},\"height\":2000,\"width\":800},                        {\"responsive\": true}                    ).then(function(){\n",
       "                            \n",
       "var gd = document.getElementById('b08b0c99-a767-423a-8440-848ced0ee59d');\n",
       "var x = new MutationObserver(function (mutations, observer) {{\n",
       "        var display = window.getComputedStyle(gd).display;\n",
       "        if (!display || display === 'none') {{\n",
       "            console.log([gd, 'removed!']);\n",
       "            Plotly.purge(gd);\n",
       "            observer.disconnect();\n",
       "        }}\n",
       "}});\n",
       "\n",
       "// Listen for the removal of the full notebook cells\n",
       "var notebookContainer = gd.closest('#notebook-container');\n",
       "if (notebookContainer) {{\n",
       "    x.observe(notebookContainer, {childList: true});\n",
       "}}\n",
       "\n",
       "// Listen for the clearing of the current output cell\n",
       "var outputEl = gd.closest('.output');\n",
       "if (outputEl) {{\n",
       "    x.observe(outputEl, {childList: true});\n",
       "}}\n",
       "\n",
       "                        })                };                });            </script>        </div>"
      ]
     },
     "metadata": {},
     "output_type": "display_data"
    }
   ],
   "source": [
    "# List of numeric attributes\n",
    "numeric_attributes = ['Aroma', 'Flavor', 'Aftertaste', 'Acidity', 'Body', 'Balance', 'Overall', 'Total Cup Points', 'Moisture Percentage','Coffee Age']\n",
    "\n",
    "# Create a subplot for each numeric attribute\n",
    "fig = make_subplots(rows=len(numeric_attributes), cols=1)\n",
    "\n",
    "# Add a histogram to the subplot for each numeric attribute\n",
    "for i, attribute in enumerate(numeric_attributes):\n",
    "    fig.add_trace(go.Histogram(x=df[attribute], nbinsx=50, name=attribute), row=i+1, col=1)\n",
    "\n",
    "fig.update_layout(height=200*len(numeric_attributes), width=800, title_text=\"Histogramas de Atributos Numéricos\")\n",
    "fig.show()"
   ]
  },
  {
   "cell_type": "markdown",
   "id": "d11c6bfb",
   "metadata": {},
   "source": [
    "## <div style=\"padding: 20px;color:white;margin:10;font-size:90%;text-align:left;display:fill;border-radius:10px;overflow:hidden;background-image: url(https://w0.peakpx.com/wallpaper/957/661/HD-wallpaper-white-marble-white-stone-texture-marble-stone-background-white-stone.jpg)\"><b><span style='color:black'> 2. Análise Geoespacial</span></b> </div>"
   ]
  },
  {
   "cell_type": "code",
   "execution_count": 21,
   "id": "734e40f5",
   "metadata": {},
   "outputs": [
    {
     "data": {
      "application/vnd.plotly.v1+json": {
       "config": {
        "plotlyServerURL": "https://plot.ly"
       },
       "data": [
        {
         "coloraxis": "coloraxis",
         "geo": "geo",
         "hovertemplate": "<b>%{hovertext}</b><br><br>Country of Origin=%{location}<br>Total Cup Points=%{z}<extra></extra>",
         "hovertext": [
          "Brazil",
          "Colombia",
          "Costa Rica",
          "El Salvador",
          "Ethiopia",
          "Guatemala",
          "Honduras",
          "Indonesia",
          "Kenya",
          "Laos",
          "Madagascar",
          "Mexico",
          "Myanmar",
          "Nicaragua",
          "Panama",
          "Peru",
          "Taiwan",
          "Tanzania, United Republic Of",
          "Thailand",
          "Uganda",
          "United States (Hawaii)",
          "Vietnam"
         ],
         "locationmode": "country names",
         "locations": [
          "Brazil",
          "Colombia",
          "Costa Rica",
          "El Salvador",
          "Ethiopia",
          "Guatemala",
          "Honduras",
          "Indonesia",
          "Kenya",
          "Laos",
          "Madagascar",
          "Mexico",
          "Myanmar",
          "Nicaragua",
          "Panama",
          "Peru",
          "Taiwan",
          "Tanzania, United Republic Of",
          "Thailand",
          "Uganda",
          "United States (Hawaii)",
          "Vietnam"
         ],
         "name": "",
         "type": "choropleth",
         "z": [
          81.88300000000001,
          83.87736842105264,
          83.74,
          81.53285714285714,
          84.96090909090908,
          84.30142857142857,
          83.2823076923077,
          83.69333333333333,
          83.71000000000001,
          83.39,
          84.25,
          82.71000000000001,
          83.67,
          81.89285714285714,
          83.625,
          82.3325,
          84.35032786885246,
          84.735,
          82.8275,
          83.91666666666667,
          83.65,
          82.8925
         ]
        }
       ],
       "layout": {
        "coloraxis": {
         "colorbar": {
          "title": {
           "text": "Total Cup Points"
          }
         },
         "colorscale": [
          [
           0,
           "#0d0887"
          ],
          [
           0.1111111111111111,
           "#46039f"
          ],
          [
           0.2222222222222222,
           "#7201a8"
          ],
          [
           0.3333333333333333,
           "#9c179e"
          ],
          [
           0.4444444444444444,
           "#bd3786"
          ],
          [
           0.5555555555555556,
           "#d8576b"
          ],
          [
           0.6666666666666666,
           "#ed7953"
          ],
          [
           0.7777777777777778,
           "#fb9f3a"
          ],
          [
           0.8888888888888888,
           "#fdca26"
          ],
          [
           1,
           "#f0f921"
          ]
         ]
        },
        "geo": {
         "center": {},
         "domain": {
          "x": [
           0,
           1
          ],
          "y": [
           0,
           1
          ]
         }
        },
        "legend": {
         "tracegroupgap": 0
        },
        "template": {
         "data": {
          "bar": [
           {
            "error_x": {
             "color": "#2a3f5f"
            },
            "error_y": {
             "color": "#2a3f5f"
            },
            "marker": {
             "line": {
              "color": "#E5ECF6",
              "width": 0.5
             },
             "pattern": {
              "fillmode": "overlay",
              "size": 10,
              "solidity": 0.2
             }
            },
            "type": "bar"
           }
          ],
          "barpolar": [
           {
            "marker": {
             "line": {
              "color": "#E5ECF6",
              "width": 0.5
             },
             "pattern": {
              "fillmode": "overlay",
              "size": 10,
              "solidity": 0.2
             }
            },
            "type": "barpolar"
           }
          ],
          "carpet": [
           {
            "aaxis": {
             "endlinecolor": "#2a3f5f",
             "gridcolor": "white",
             "linecolor": "white",
             "minorgridcolor": "white",
             "startlinecolor": "#2a3f5f"
            },
            "baxis": {
             "endlinecolor": "#2a3f5f",
             "gridcolor": "white",
             "linecolor": "white",
             "minorgridcolor": "white",
             "startlinecolor": "#2a3f5f"
            },
            "type": "carpet"
           }
          ],
          "choropleth": [
           {
            "colorbar": {
             "outlinewidth": 0,
             "ticks": ""
            },
            "type": "choropleth"
           }
          ],
          "contour": [
           {
            "colorbar": {
             "outlinewidth": 0,
             "ticks": ""
            },
            "colorscale": [
             [
              0,
              "#0d0887"
             ],
             [
              0.1111111111111111,
              "#46039f"
             ],
             [
              0.2222222222222222,
              "#7201a8"
             ],
             [
              0.3333333333333333,
              "#9c179e"
             ],
             [
              0.4444444444444444,
              "#bd3786"
             ],
             [
              0.5555555555555556,
              "#d8576b"
             ],
             [
              0.6666666666666666,
              "#ed7953"
             ],
             [
              0.7777777777777778,
              "#fb9f3a"
             ],
             [
              0.8888888888888888,
              "#fdca26"
             ],
             [
              1,
              "#f0f921"
             ]
            ],
            "type": "contour"
           }
          ],
          "contourcarpet": [
           {
            "colorbar": {
             "outlinewidth": 0,
             "ticks": ""
            },
            "type": "contourcarpet"
           }
          ],
          "heatmap": [
           {
            "colorbar": {
             "outlinewidth": 0,
             "ticks": ""
            },
            "colorscale": [
             [
              0,
              "#0d0887"
             ],
             [
              0.1111111111111111,
              "#46039f"
             ],
             [
              0.2222222222222222,
              "#7201a8"
             ],
             [
              0.3333333333333333,
              "#9c179e"
             ],
             [
              0.4444444444444444,
              "#bd3786"
             ],
             [
              0.5555555555555556,
              "#d8576b"
             ],
             [
              0.6666666666666666,
              "#ed7953"
             ],
             [
              0.7777777777777778,
              "#fb9f3a"
             ],
             [
              0.8888888888888888,
              "#fdca26"
             ],
             [
              1,
              "#f0f921"
             ]
            ],
            "type": "heatmap"
           }
          ],
          "heatmapgl": [
           {
            "colorbar": {
             "outlinewidth": 0,
             "ticks": ""
            },
            "colorscale": [
             [
              0,
              "#0d0887"
             ],
             [
              0.1111111111111111,
              "#46039f"
             ],
             [
              0.2222222222222222,
              "#7201a8"
             ],
             [
              0.3333333333333333,
              "#9c179e"
             ],
             [
              0.4444444444444444,
              "#bd3786"
             ],
             [
              0.5555555555555556,
              "#d8576b"
             ],
             [
              0.6666666666666666,
              "#ed7953"
             ],
             [
              0.7777777777777778,
              "#fb9f3a"
             ],
             [
              0.8888888888888888,
              "#fdca26"
             ],
             [
              1,
              "#f0f921"
             ]
            ],
            "type": "heatmapgl"
           }
          ],
          "histogram": [
           {
            "marker": {
             "pattern": {
              "fillmode": "overlay",
              "size": 10,
              "solidity": 0.2
             }
            },
            "type": "histogram"
           }
          ],
          "histogram2d": [
           {
            "colorbar": {
             "outlinewidth": 0,
             "ticks": ""
            },
            "colorscale": [
             [
              0,
              "#0d0887"
             ],
             [
              0.1111111111111111,
              "#46039f"
             ],
             [
              0.2222222222222222,
              "#7201a8"
             ],
             [
              0.3333333333333333,
              "#9c179e"
             ],
             [
              0.4444444444444444,
              "#bd3786"
             ],
             [
              0.5555555555555556,
              "#d8576b"
             ],
             [
              0.6666666666666666,
              "#ed7953"
             ],
             [
              0.7777777777777778,
              "#fb9f3a"
             ],
             [
              0.8888888888888888,
              "#fdca26"
             ],
             [
              1,
              "#f0f921"
             ]
            ],
            "type": "histogram2d"
           }
          ],
          "histogram2dcontour": [
           {
            "colorbar": {
             "outlinewidth": 0,
             "ticks": ""
            },
            "colorscale": [
             [
              0,
              "#0d0887"
             ],
             [
              0.1111111111111111,
              "#46039f"
             ],
             [
              0.2222222222222222,
              "#7201a8"
             ],
             [
              0.3333333333333333,
              "#9c179e"
             ],
             [
              0.4444444444444444,
              "#bd3786"
             ],
             [
              0.5555555555555556,
              "#d8576b"
             ],
             [
              0.6666666666666666,
              "#ed7953"
             ],
             [
              0.7777777777777778,
              "#fb9f3a"
             ],
             [
              0.8888888888888888,
              "#fdca26"
             ],
             [
              1,
              "#f0f921"
             ]
            ],
            "type": "histogram2dcontour"
           }
          ],
          "mesh3d": [
           {
            "colorbar": {
             "outlinewidth": 0,
             "ticks": ""
            },
            "type": "mesh3d"
           }
          ],
          "parcoords": [
           {
            "line": {
             "colorbar": {
              "outlinewidth": 0,
              "ticks": ""
             }
            },
            "type": "parcoords"
           }
          ],
          "pie": [
           {
            "automargin": true,
            "type": "pie"
           }
          ],
          "scatter": [
           {
            "fillpattern": {
             "fillmode": "overlay",
             "size": 10,
             "solidity": 0.2
            },
            "type": "scatter"
           }
          ],
          "scatter3d": [
           {
            "line": {
             "colorbar": {
              "outlinewidth": 0,
              "ticks": ""
             }
            },
            "marker": {
             "colorbar": {
              "outlinewidth": 0,
              "ticks": ""
             }
            },
            "type": "scatter3d"
           }
          ],
          "scattercarpet": [
           {
            "marker": {
             "colorbar": {
              "outlinewidth": 0,
              "ticks": ""
             }
            },
            "type": "scattercarpet"
           }
          ],
          "scattergeo": [
           {
            "marker": {
             "colorbar": {
              "outlinewidth": 0,
              "ticks": ""
             }
            },
            "type": "scattergeo"
           }
          ],
          "scattergl": [
           {
            "marker": {
             "colorbar": {
              "outlinewidth": 0,
              "ticks": ""
             }
            },
            "type": "scattergl"
           }
          ],
          "scattermapbox": [
           {
            "marker": {
             "colorbar": {
              "outlinewidth": 0,
              "ticks": ""
             }
            },
            "type": "scattermapbox"
           }
          ],
          "scatterpolar": [
           {
            "marker": {
             "colorbar": {
              "outlinewidth": 0,
              "ticks": ""
             }
            },
            "type": "scatterpolar"
           }
          ],
          "scatterpolargl": [
           {
            "marker": {
             "colorbar": {
              "outlinewidth": 0,
              "ticks": ""
             }
            },
            "type": "scatterpolargl"
           }
          ],
          "scatterternary": [
           {
            "marker": {
             "colorbar": {
              "outlinewidth": 0,
              "ticks": ""
             }
            },
            "type": "scatterternary"
           }
          ],
          "surface": [
           {
            "colorbar": {
             "outlinewidth": 0,
             "ticks": ""
            },
            "colorscale": [
             [
              0,
              "#0d0887"
             ],
             [
              0.1111111111111111,
              "#46039f"
             ],
             [
              0.2222222222222222,
              "#7201a8"
             ],
             [
              0.3333333333333333,
              "#9c179e"
             ],
             [
              0.4444444444444444,
              "#bd3786"
             ],
             [
              0.5555555555555556,
              "#d8576b"
             ],
             [
              0.6666666666666666,
              "#ed7953"
             ],
             [
              0.7777777777777778,
              "#fb9f3a"
             ],
             [
              0.8888888888888888,
              "#fdca26"
             ],
             [
              1,
              "#f0f921"
             ]
            ],
            "type": "surface"
           }
          ],
          "table": [
           {
            "cells": {
             "fill": {
              "color": "#EBF0F8"
             },
             "line": {
              "color": "white"
             }
            },
            "header": {
             "fill": {
              "color": "#C8D4E3"
             },
             "line": {
              "color": "white"
             }
            },
            "type": "table"
           }
          ]
         },
         "layout": {
          "annotationdefaults": {
           "arrowcolor": "#2a3f5f",
           "arrowhead": 0,
           "arrowwidth": 1
          },
          "autotypenumbers": "strict",
          "coloraxis": {
           "colorbar": {
            "outlinewidth": 0,
            "ticks": ""
           }
          },
          "colorscale": {
           "diverging": [
            [
             0,
             "#8e0152"
            ],
            [
             0.1,
             "#c51b7d"
            ],
            [
             0.2,
             "#de77ae"
            ],
            [
             0.3,
             "#f1b6da"
            ],
            [
             0.4,
             "#fde0ef"
            ],
            [
             0.5,
             "#f7f7f7"
            ],
            [
             0.6,
             "#e6f5d0"
            ],
            [
             0.7,
             "#b8e186"
            ],
            [
             0.8,
             "#7fbc41"
            ],
            [
             0.9,
             "#4d9221"
            ],
            [
             1,
             "#276419"
            ]
           ],
           "sequential": [
            [
             0,
             "#0d0887"
            ],
            [
             0.1111111111111111,
             "#46039f"
            ],
            [
             0.2222222222222222,
             "#7201a8"
            ],
            [
             0.3333333333333333,
             "#9c179e"
            ],
            [
             0.4444444444444444,
             "#bd3786"
            ],
            [
             0.5555555555555556,
             "#d8576b"
            ],
            [
             0.6666666666666666,
             "#ed7953"
            ],
            [
             0.7777777777777778,
             "#fb9f3a"
            ],
            [
             0.8888888888888888,
             "#fdca26"
            ],
            [
             1,
             "#f0f921"
            ]
           ],
           "sequentialminus": [
            [
             0,
             "#0d0887"
            ],
            [
             0.1111111111111111,
             "#46039f"
            ],
            [
             0.2222222222222222,
             "#7201a8"
            ],
            [
             0.3333333333333333,
             "#9c179e"
            ],
            [
             0.4444444444444444,
             "#bd3786"
            ],
            [
             0.5555555555555556,
             "#d8576b"
            ],
            [
             0.6666666666666666,
             "#ed7953"
            ],
            [
             0.7777777777777778,
             "#fb9f3a"
            ],
            [
             0.8888888888888888,
             "#fdca26"
            ],
            [
             1,
             "#f0f921"
            ]
           ]
          },
          "colorway": [
           "#636efa",
           "#EF553B",
           "#00cc96",
           "#ab63fa",
           "#FFA15A",
           "#19d3f3",
           "#FF6692",
           "#B6E880",
           "#FF97FF",
           "#FECB52"
          ],
          "font": {
           "color": "#2a3f5f"
          },
          "geo": {
           "bgcolor": "white",
           "lakecolor": "white",
           "landcolor": "#E5ECF6",
           "showlakes": true,
           "showland": true,
           "subunitcolor": "white"
          },
          "hoverlabel": {
           "align": "left"
          },
          "hovermode": "closest",
          "mapbox": {
           "style": "light"
          },
          "paper_bgcolor": "white",
          "plot_bgcolor": "#E5ECF6",
          "polar": {
           "angularaxis": {
            "gridcolor": "white",
            "linecolor": "white",
            "ticks": ""
           },
           "bgcolor": "#E5ECF6",
           "radialaxis": {
            "gridcolor": "white",
            "linecolor": "white",
            "ticks": ""
           }
          },
          "scene": {
           "xaxis": {
            "backgroundcolor": "#E5ECF6",
            "gridcolor": "white",
            "gridwidth": 2,
            "linecolor": "white",
            "showbackground": true,
            "ticks": "",
            "zerolinecolor": "white"
           },
           "yaxis": {
            "backgroundcolor": "#E5ECF6",
            "gridcolor": "white",
            "gridwidth": 2,
            "linecolor": "white",
            "showbackground": true,
            "ticks": "",
            "zerolinecolor": "white"
           },
           "zaxis": {
            "backgroundcolor": "#E5ECF6",
            "gridcolor": "white",
            "gridwidth": 2,
            "linecolor": "white",
            "showbackground": true,
            "ticks": "",
            "zerolinecolor": "white"
           }
          },
          "shapedefaults": {
           "line": {
            "color": "#2a3f5f"
           }
          },
          "ternary": {
           "aaxis": {
            "gridcolor": "white",
            "linecolor": "white",
            "ticks": ""
           },
           "baxis": {
            "gridcolor": "white",
            "linecolor": "white",
            "ticks": ""
           },
           "bgcolor": "#E5ECF6",
           "caxis": {
            "gridcolor": "white",
            "linecolor": "white",
            "ticks": ""
           }
          },
          "title": {
           "x": 0.05
          },
          "xaxis": {
           "automargin": true,
           "gridcolor": "white",
           "linecolor": "white",
           "ticks": "",
           "title": {
            "standoff": 15
           },
           "zerolinecolor": "white",
           "zerolinewidth": 2
          },
          "yaxis": {
           "automargin": true,
           "gridcolor": "white",
           "linecolor": "white",
           "ticks": "",
           "title": {
            "standoff": 15
           },
           "zerolinecolor": "white",
           "zerolinewidth": 2
          }
         }
        },
        "title": {
         "text": "Average Total Cup Points by Country"
        }
       }
      },
      "text/html": [
       "<div>                            <div id=\"84dccdf4-120a-4c7d-b911-19ad2dbc8f05\" class=\"plotly-graph-div\" style=\"height:525px; width:100%;\"></div>            <script type=\"text/javascript\">                require([\"plotly\"], function(Plotly) {                    window.PLOTLYENV=window.PLOTLYENV || {};                                    if (document.getElementById(\"84dccdf4-120a-4c7d-b911-19ad2dbc8f05\")) {                    Plotly.newPlot(                        \"84dccdf4-120a-4c7d-b911-19ad2dbc8f05\",                        [{\"coloraxis\":\"coloraxis\",\"geo\":\"geo\",\"hovertemplate\":\"<b>%{hovertext}</b><br><br>Country of Origin=%{location}<br>Total Cup Points=%{z}<extra></extra>\",\"hovertext\":[\"Brazil\",\"Colombia\",\"Costa Rica\",\"El Salvador\",\"Ethiopia\",\"Guatemala\",\"Honduras\",\"Indonesia\",\"Kenya\",\"Laos\",\"Madagascar\",\"Mexico\",\"Myanmar\",\"Nicaragua\",\"Panama\",\"Peru\",\"Taiwan\",\"Tanzania, United Republic Of\",\"Thailand\",\"Uganda\",\"United States (Hawaii)\",\"Vietnam\"],\"locationmode\":\"country names\",\"locations\":[\"Brazil\",\"Colombia\",\"Costa Rica\",\"El Salvador\",\"Ethiopia\",\"Guatemala\",\"Honduras\",\"Indonesia\",\"Kenya\",\"Laos\",\"Madagascar\",\"Mexico\",\"Myanmar\",\"Nicaragua\",\"Panama\",\"Peru\",\"Taiwan\",\"Tanzania, United Republic Of\",\"Thailand\",\"Uganda\",\"United States (Hawaii)\",\"Vietnam\"],\"name\":\"\",\"z\":[81.88300000000001,83.87736842105264,83.74,81.53285714285714,84.96090909090908,84.30142857142857,83.2823076923077,83.69333333333333,83.71000000000001,83.39,84.25,82.71000000000001,83.67,81.89285714285714,83.625,82.3325,84.35032786885246,84.735,82.8275,83.91666666666667,83.65,82.8925],\"type\":\"choropleth\"}],                        {\"template\":{\"data\":{\"histogram2dcontour\":[{\"type\":\"histogram2dcontour\",\"colorbar\":{\"outlinewidth\":0,\"ticks\":\"\"},\"colorscale\":[[0.0,\"#0d0887\"],[0.1111111111111111,\"#46039f\"],[0.2222222222222222,\"#7201a8\"],[0.3333333333333333,\"#9c179e\"],[0.4444444444444444,\"#bd3786\"],[0.5555555555555556,\"#d8576b\"],[0.6666666666666666,\"#ed7953\"],[0.7777777777777778,\"#fb9f3a\"],[0.8888888888888888,\"#fdca26\"],[1.0,\"#f0f921\"]]}],\"choropleth\":[{\"type\":\"choropleth\",\"colorbar\":{\"outlinewidth\":0,\"ticks\":\"\"}}],\"histogram2d\":[{\"type\":\"histogram2d\",\"colorbar\":{\"outlinewidth\":0,\"ticks\":\"\"},\"colorscale\":[[0.0,\"#0d0887\"],[0.1111111111111111,\"#46039f\"],[0.2222222222222222,\"#7201a8\"],[0.3333333333333333,\"#9c179e\"],[0.4444444444444444,\"#bd3786\"],[0.5555555555555556,\"#d8576b\"],[0.6666666666666666,\"#ed7953\"],[0.7777777777777778,\"#fb9f3a\"],[0.8888888888888888,\"#fdca26\"],[1.0,\"#f0f921\"]]}],\"heatmap\":[{\"type\":\"heatmap\",\"colorbar\":{\"outlinewidth\":0,\"ticks\":\"\"},\"colorscale\":[[0.0,\"#0d0887\"],[0.1111111111111111,\"#46039f\"],[0.2222222222222222,\"#7201a8\"],[0.3333333333333333,\"#9c179e\"],[0.4444444444444444,\"#bd3786\"],[0.5555555555555556,\"#d8576b\"],[0.6666666666666666,\"#ed7953\"],[0.7777777777777778,\"#fb9f3a\"],[0.8888888888888888,\"#fdca26\"],[1.0,\"#f0f921\"]]}],\"heatmapgl\":[{\"type\":\"heatmapgl\",\"colorbar\":{\"outlinewidth\":0,\"ticks\":\"\"},\"colorscale\":[[0.0,\"#0d0887\"],[0.1111111111111111,\"#46039f\"],[0.2222222222222222,\"#7201a8\"],[0.3333333333333333,\"#9c179e\"],[0.4444444444444444,\"#bd3786\"],[0.5555555555555556,\"#d8576b\"],[0.6666666666666666,\"#ed7953\"],[0.7777777777777778,\"#fb9f3a\"],[0.8888888888888888,\"#fdca26\"],[1.0,\"#f0f921\"]]}],\"contourcarpet\":[{\"type\":\"contourcarpet\",\"colorbar\":{\"outlinewidth\":0,\"ticks\":\"\"}}],\"contour\":[{\"type\":\"contour\",\"colorbar\":{\"outlinewidth\":0,\"ticks\":\"\"},\"colorscale\":[[0.0,\"#0d0887\"],[0.1111111111111111,\"#46039f\"],[0.2222222222222222,\"#7201a8\"],[0.3333333333333333,\"#9c179e\"],[0.4444444444444444,\"#bd3786\"],[0.5555555555555556,\"#d8576b\"],[0.6666666666666666,\"#ed7953\"],[0.7777777777777778,\"#fb9f3a\"],[0.8888888888888888,\"#fdca26\"],[1.0,\"#f0f921\"]]}],\"surface\":[{\"type\":\"surface\",\"colorbar\":{\"outlinewidth\":0,\"ticks\":\"\"},\"colorscale\":[[0.0,\"#0d0887\"],[0.1111111111111111,\"#46039f\"],[0.2222222222222222,\"#7201a8\"],[0.3333333333333333,\"#9c179e\"],[0.4444444444444444,\"#bd3786\"],[0.5555555555555556,\"#d8576b\"],[0.6666666666666666,\"#ed7953\"],[0.7777777777777778,\"#fb9f3a\"],[0.8888888888888888,\"#fdca26\"],[1.0,\"#f0f921\"]]}],\"mesh3d\":[{\"type\":\"mesh3d\",\"colorbar\":{\"outlinewidth\":0,\"ticks\":\"\"}}],\"scatter\":[{\"fillpattern\":{\"fillmode\":\"overlay\",\"size\":10,\"solidity\":0.2},\"type\":\"scatter\"}],\"parcoords\":[{\"type\":\"parcoords\",\"line\":{\"colorbar\":{\"outlinewidth\":0,\"ticks\":\"\"}}}],\"scatterpolargl\":[{\"type\":\"scatterpolargl\",\"marker\":{\"colorbar\":{\"outlinewidth\":0,\"ticks\":\"\"}}}],\"bar\":[{\"error_x\":{\"color\":\"#2a3f5f\"},\"error_y\":{\"color\":\"#2a3f5f\"},\"marker\":{\"line\":{\"color\":\"#E5ECF6\",\"width\":0.5},\"pattern\":{\"fillmode\":\"overlay\",\"size\":10,\"solidity\":0.2}},\"type\":\"bar\"}],\"scattergeo\":[{\"type\":\"scattergeo\",\"marker\":{\"colorbar\":{\"outlinewidth\":0,\"ticks\":\"\"}}}],\"scatterpolar\":[{\"type\":\"scatterpolar\",\"marker\":{\"colorbar\":{\"outlinewidth\":0,\"ticks\":\"\"}}}],\"histogram\":[{\"marker\":{\"pattern\":{\"fillmode\":\"overlay\",\"size\":10,\"solidity\":0.2}},\"type\":\"histogram\"}],\"scattergl\":[{\"type\":\"scattergl\",\"marker\":{\"colorbar\":{\"outlinewidth\":0,\"ticks\":\"\"}}}],\"scatter3d\":[{\"type\":\"scatter3d\",\"line\":{\"colorbar\":{\"outlinewidth\":0,\"ticks\":\"\"}},\"marker\":{\"colorbar\":{\"outlinewidth\":0,\"ticks\":\"\"}}}],\"scattermapbox\":[{\"type\":\"scattermapbox\",\"marker\":{\"colorbar\":{\"outlinewidth\":0,\"ticks\":\"\"}}}],\"scatterternary\":[{\"type\":\"scatterternary\",\"marker\":{\"colorbar\":{\"outlinewidth\":0,\"ticks\":\"\"}}}],\"scattercarpet\":[{\"type\":\"scattercarpet\",\"marker\":{\"colorbar\":{\"outlinewidth\":0,\"ticks\":\"\"}}}],\"carpet\":[{\"aaxis\":{\"endlinecolor\":\"#2a3f5f\",\"gridcolor\":\"white\",\"linecolor\":\"white\",\"minorgridcolor\":\"white\",\"startlinecolor\":\"#2a3f5f\"},\"baxis\":{\"endlinecolor\":\"#2a3f5f\",\"gridcolor\":\"white\",\"linecolor\":\"white\",\"minorgridcolor\":\"white\",\"startlinecolor\":\"#2a3f5f\"},\"type\":\"carpet\"}],\"table\":[{\"cells\":{\"fill\":{\"color\":\"#EBF0F8\"},\"line\":{\"color\":\"white\"}},\"header\":{\"fill\":{\"color\":\"#C8D4E3\"},\"line\":{\"color\":\"white\"}},\"type\":\"table\"}],\"barpolar\":[{\"marker\":{\"line\":{\"color\":\"#E5ECF6\",\"width\":0.5},\"pattern\":{\"fillmode\":\"overlay\",\"size\":10,\"solidity\":0.2}},\"type\":\"barpolar\"}],\"pie\":[{\"automargin\":true,\"type\":\"pie\"}]},\"layout\":{\"autotypenumbers\":\"strict\",\"colorway\":[\"#636efa\",\"#EF553B\",\"#00cc96\",\"#ab63fa\",\"#FFA15A\",\"#19d3f3\",\"#FF6692\",\"#B6E880\",\"#FF97FF\",\"#FECB52\"],\"font\":{\"color\":\"#2a3f5f\"},\"hovermode\":\"closest\",\"hoverlabel\":{\"align\":\"left\"},\"paper_bgcolor\":\"white\",\"plot_bgcolor\":\"#E5ECF6\",\"polar\":{\"bgcolor\":\"#E5ECF6\",\"angularaxis\":{\"gridcolor\":\"white\",\"linecolor\":\"white\",\"ticks\":\"\"},\"radialaxis\":{\"gridcolor\":\"white\",\"linecolor\":\"white\",\"ticks\":\"\"}},\"ternary\":{\"bgcolor\":\"#E5ECF6\",\"aaxis\":{\"gridcolor\":\"white\",\"linecolor\":\"white\",\"ticks\":\"\"},\"baxis\":{\"gridcolor\":\"white\",\"linecolor\":\"white\",\"ticks\":\"\"},\"caxis\":{\"gridcolor\":\"white\",\"linecolor\":\"white\",\"ticks\":\"\"}},\"coloraxis\":{\"colorbar\":{\"outlinewidth\":0,\"ticks\":\"\"}},\"colorscale\":{\"sequential\":[[0.0,\"#0d0887\"],[0.1111111111111111,\"#46039f\"],[0.2222222222222222,\"#7201a8\"],[0.3333333333333333,\"#9c179e\"],[0.4444444444444444,\"#bd3786\"],[0.5555555555555556,\"#d8576b\"],[0.6666666666666666,\"#ed7953\"],[0.7777777777777778,\"#fb9f3a\"],[0.8888888888888888,\"#fdca26\"],[1.0,\"#f0f921\"]],\"sequentialminus\":[[0.0,\"#0d0887\"],[0.1111111111111111,\"#46039f\"],[0.2222222222222222,\"#7201a8\"],[0.3333333333333333,\"#9c179e\"],[0.4444444444444444,\"#bd3786\"],[0.5555555555555556,\"#d8576b\"],[0.6666666666666666,\"#ed7953\"],[0.7777777777777778,\"#fb9f3a\"],[0.8888888888888888,\"#fdca26\"],[1.0,\"#f0f921\"]],\"diverging\":[[0,\"#8e0152\"],[0.1,\"#c51b7d\"],[0.2,\"#de77ae\"],[0.3,\"#f1b6da\"],[0.4,\"#fde0ef\"],[0.5,\"#f7f7f7\"],[0.6,\"#e6f5d0\"],[0.7,\"#b8e186\"],[0.8,\"#7fbc41\"],[0.9,\"#4d9221\"],[1,\"#276419\"]]},\"xaxis\":{\"gridcolor\":\"white\",\"linecolor\":\"white\",\"ticks\":\"\",\"title\":{\"standoff\":15},\"zerolinecolor\":\"white\",\"automargin\":true,\"zerolinewidth\":2},\"yaxis\":{\"gridcolor\":\"white\",\"linecolor\":\"white\",\"ticks\":\"\",\"title\":{\"standoff\":15},\"zerolinecolor\":\"white\",\"automargin\":true,\"zerolinewidth\":2},\"scene\":{\"xaxis\":{\"backgroundcolor\":\"#E5ECF6\",\"gridcolor\":\"white\",\"linecolor\":\"white\",\"showbackground\":true,\"ticks\":\"\",\"zerolinecolor\":\"white\",\"gridwidth\":2},\"yaxis\":{\"backgroundcolor\":\"#E5ECF6\",\"gridcolor\":\"white\",\"linecolor\":\"white\",\"showbackground\":true,\"ticks\":\"\",\"zerolinecolor\":\"white\",\"gridwidth\":2},\"zaxis\":{\"backgroundcolor\":\"#E5ECF6\",\"gridcolor\":\"white\",\"linecolor\":\"white\",\"showbackground\":true,\"ticks\":\"\",\"zerolinecolor\":\"white\",\"gridwidth\":2}},\"shapedefaults\":{\"line\":{\"color\":\"#2a3f5f\"}},\"annotationdefaults\":{\"arrowcolor\":\"#2a3f5f\",\"arrowhead\":0,\"arrowwidth\":1},\"geo\":{\"bgcolor\":\"white\",\"landcolor\":\"#E5ECF6\",\"subunitcolor\":\"white\",\"showland\":true,\"showlakes\":true,\"lakecolor\":\"white\"},\"title\":{\"x\":0.05},\"mapbox\":{\"style\":\"light\"}}},\"geo\":{\"domain\":{\"x\":[0.0,1.0],\"y\":[0.0,1.0]},\"center\":{}},\"coloraxis\":{\"colorbar\":{\"title\":{\"text\":\"Total Cup Points\"}},\"colorscale\":[[0.0,\"#0d0887\"],[0.1111111111111111,\"#46039f\"],[0.2222222222222222,\"#7201a8\"],[0.3333333333333333,\"#9c179e\"],[0.4444444444444444,\"#bd3786\"],[0.5555555555555556,\"#d8576b\"],[0.6666666666666666,\"#ed7953\"],[0.7777777777777778,\"#fb9f3a\"],[0.8888888888888888,\"#fdca26\"],[1.0,\"#f0f921\"]]},\"legend\":{\"tracegroupgap\":0},\"title\":{\"text\":\"Average Total Cup Points by Country\"}},                        {\"responsive\": true}                    ).then(function(){\n",
       "                            \n",
       "var gd = document.getElementById('84dccdf4-120a-4c7d-b911-19ad2dbc8f05');\n",
       "var x = new MutationObserver(function (mutations, observer) {{\n",
       "        var display = window.getComputedStyle(gd).display;\n",
       "        if (!display || display === 'none') {{\n",
       "            console.log([gd, 'removed!']);\n",
       "            Plotly.purge(gd);\n",
       "            observer.disconnect();\n",
       "        }}\n",
       "}});\n",
       "\n",
       "// Listen for the removal of the full notebook cells\n",
       "var notebookContainer = gd.closest('#notebook-container');\n",
       "if (notebookContainer) {{\n",
       "    x.observe(notebookContainer, {childList: true});\n",
       "}}\n",
       "\n",
       "// Listen for the clearing of the current output cell\n",
       "var outputEl = gd.closest('.output');\n",
       "if (outputEl) {{\n",
       "    x.observe(outputEl, {childList: true});\n",
       "}}\n",
       "\n",
       "                        })                };                });            </script>        </div>"
      ]
     },
     "metadata": {},
     "output_type": "display_data"
    },
    {
     "data": {
      "image/png": "[encoded data removed]",
      "text/plain": [
       "<Figure size 1000x500 with 1 Axes>"
      ]
     },
     "metadata": {},
     "output_type": "display_data"
    }
   ],
   "source": [
    "# Group the data by country and calculate the mean of Total Cup Points\n",
    "df_grouped = df.groupby('Country of Origin')['Total Cup Points'].mean().reset_index()\n",
    "\n",
    "# Create a Choropleth map\n",
    "fig = px.choropleth(df_grouped, \n",
    "                    locations='Country of Origin', \n",
    "                    locationmode='country names',\n",
    "                    color='Total Cup Points',\n",
    "                    hover_name='Country of Origin',\n",
    "                    color_continuous_scale=px.colors.sequential.Plasma,\n",
    "                    title='Average Total Cup Points by Country')\n",
    "\n",
    "fig.show()\n",
    "\n",
    "# Create a bar plot with gray color\n",
    "plt.figure(figsize=(10, 5))\n",
    "sns.barplot(x=df_grouped['Country of Origin'], y=df_grouped['Total Cup Points'], color='gray')\n",
    "plt.title('Average Total Cup Points by Country')\n",
    "plt.xlabel('Country of Origin')\n",
    "plt.ylabel('Average Total Cup Points')\n",
    "plt.xticks(rotation=90)\n",
    "plt.show()"
   ]
  },
  {
   "cell_type": "code",
   "execution_count": 22,
   "id": "5b47f496",
   "metadata": {},
   "outputs": [
    {
     "data": {
      "application/vnd.plotly.v1+json": {
       "config": {
        "plotlyServerURL": "https://plot.ly"
       },
       "data": [
        {
         "coloraxis": "coloraxis",
         "geo": "geo",
         "hovertemplate": "<b>%{hovertext}</b><br><br>Country of Origin=%{location}<br>Coffee Age=%{z}<extra></extra>",
         "hovertext": [
          "Brazil",
          "Colombia",
          "Costa Rica",
          "El Salvador",
          "Ethiopia",
          "Guatemala",
          "Honduras",
          "Indonesia",
          "Kenya",
          "Laos",
          "Madagascar",
          "Mexico",
          "Myanmar",
          "Nicaragua",
          "Panama",
          "Peru",
          "Taiwan",
          "Tanzania, United Republic Of",
          "Thailand",
          "Uganda",
          "United States (Hawaii)",
          "Vietnam"
         ],
         "locationmode": "country names",
         "locations": [
          "Brazil",
          "Colombia",
          "Costa Rica",
          "El Salvador",
          "Ethiopia",
          "Guatemala",
          "Honduras",
          "Indonesia",
          "Kenya",
          "Laos",
          "Madagascar",
          "Mexico",
          "Myanmar",
          "Nicaragua",
          "Panama",
          "Peru",
          "Taiwan",
          "Tanzania, United Republic Of",
          "Thailand",
          "Uganda",
          "United States (Hawaii)",
          "Vietnam"
         ],
         "name": "",
         "type": "choropleth",
         "z": [
          845,
          829.8947368421053,
          990.75,
          690,
          971.4545454545455,
          880.5238095238095,
          915,
          618.6666666666666,
          807,
          940,
          710,
          944,
          683,
          884.5714285714286,
          859.5,
          580,
          1027.8852459016393,
          725.3333333333334,
          664.25,
          933,
          753.6,
          910.25
         ]
        }
       ],
       "layout": {
        "coloraxis": {
         "colorbar": {
          "title": {
           "text": "Coffee Age"
          }
         },
         "colorscale": [
          [
           0,
           "#0d0887"
          ],
          [
           0.1111111111111111,
           "#46039f"
          ],
          [
           0.2222222222222222,
           "#7201a8"
          ],
          [
           0.3333333333333333,
           "#9c179e"
          ],
          [
           0.4444444444444444,
           "#bd3786"
          ],
          [
           0.5555555555555556,
           "#d8576b"
          ],
          [
           0.6666666666666666,
           "#ed7953"
          ],
          [
           0.7777777777777778,
           "#fb9f3a"
          ],
          [
           0.8888888888888888,
           "#fdca26"
          ],
          [
           1,
           "#f0f921"
          ]
         ]
        },
        "geo": {
         "center": {},
         "domain": {
          "x": [
           0,
           1
          ],
          "y": [
           0,
           1
          ]
         }
        },
        "legend": {
         "tracegroupgap": 0
        },
        "template": {
         "data": {
          "bar": [
           {
            "error_x": {
             "color": "#2a3f5f"
            },
            "error_y": {
             "color": "#2a3f5f"
            },
            "marker": {
             "line": {
              "color": "#E5ECF6",
              "width": 0.5
             },
             "pattern": {
              "fillmode": "overlay",
              "size": 10,
              "solidity": 0.2
             }
            },
            "type": "bar"
           }
          ],
          "barpolar": [
           {
            "marker": {
             "line": {
              "color": "#E5ECF6",
              "width": 0.5
             },
             "pattern": {
              "fillmode": "overlay",
              "size": 10,
              "solidity": 0.2
             }
            },
            "type": "barpolar"
           }
          ],
          "carpet": [
           {
            "aaxis": {
             "endlinecolor": "#2a3f5f",
             "gridcolor": "white",
             "linecolor": "white",
             "minorgridcolor": "white",
             "startlinecolor": "#2a3f5f"
            },
            "baxis": {
             "endlinecolor": "#2a3f5f",
             "gridcolor": "white",
             "linecolor": "white",
             "minorgridcolor": "white",
             "startlinecolor": "#2a3f5f"
            },
            "type": "carpet"
           }
          ],
          "choropleth": [
           {
            "colorbar": {
             "outlinewidth": 0,
             "ticks": ""
            },
            "type": "choropleth"
           }
          ],
          "contour": [
           {
            "colorbar": {
             "outlinewidth": 0,
             "ticks": ""
            },
            "colorscale": [
             [
              0,
              "#0d0887"
             ],
             [
              0.1111111111111111,
              "#46039f"
             ],
             [
              0.2222222222222222,
              "#7201a8"
             ],
             [
              0.3333333333333333,
              "#9c179e"
             ],
             [
              0.4444444444444444,
              "#bd3786"
             ],
             [
              0.5555555555555556,
              "#d8576b"
             ],
             [
              0.6666666666666666,
              "#ed7953"
             ],
             [
              0.7777777777777778,
              "#fb9f3a"
             ],
             [
              0.8888888888888888,
              "#fdca26"
             ],
             [
              1,
              "#f0f921"
             ]
            ],
            "type": "contour"
           }
          ],
          "contourcarpet": [
           {
            "colorbar": {
             "outlinewidth": 0,
             "ticks": ""
            },
            "type": "contourcarpet"
           }
          ],
          "heatmap": [
           {
            "colorbar": {
             "outlinewidth": 0,
             "ticks": ""
            },
            "colorscale": [
             [
              0,
              "#0d0887"
             ],
             [
              0.1111111111111111,
              "#46039f"
             ],
             [
              0.2222222222222222,
              "#7201a8"
             ],
             [
              0.3333333333333333,
              "#9c179e"
             ],
             [
              0.4444444444444444,
              "#bd3786"
             ],
             [
              0.5555555555555556,
              "#d8576b"
             ],
             [
              0.6666666666666666,
              "#ed7953"
             ],
             [
              0.7777777777777778,
              "#fb9f3a"
             ],
             [
              0.8888888888888888,
              "#fdca26"
             ],
             [
              1,
              "#f0f921"
             ]
            ],
            "type": "heatmap"
           }
          ],
          "heatmapgl": [
           {
            "colorbar": {
             "outlinewidth": 0,
             "ticks": ""
            },
            "colorscale": [
             [
              0,
              "#0d0887"
             ],
             [
              0.1111111111111111,
              "#46039f"
             ],
             [
              0.2222222222222222,
              "#7201a8"
             ],
             [
              0.3333333333333333,
              "#9c179e"
             ],
             [
              0.4444444444444444,
              "#bd3786"
             ],
             [
              0.5555555555555556,
              "#d8576b"
             ],
             [
              0.6666666666666666,
              "#ed7953"
             ],
             [
              0.7777777777777778,
              "#fb9f3a"
             ],
             [
              0.8888888888888888,
              "#fdca26"
             ],
             [
              1,
              "#f0f921"
             ]
            ],
            "type": "heatmapgl"
           }
          ],
          "histogram": [
           {
            "marker": {
             "pattern": {
              "fillmode": "overlay",
              "size": 10,
              "solidity": 0.2
             }
            },
            "type": "histogram"
           }
          ],
          "histogram2d": [
           {
            "colorbar": {
             "outlinewidth": 0,
             "ticks": ""
            },
            "colorscale": [
             [
              0,
              "#0d0887"
             ],
             [
              0.1111111111111111,
              "#46039f"
             ],
             [
              0.2222222222222222,
              "#7201a8"
             ],
             [
              0.3333333333333333,
              "#9c179e"
             ],
             [
              0.4444444444444444,
              "#bd3786"
             ],
             [
              0.5555555555555556,
              "#d8576b"
             ],
             [
              0.6666666666666666,
              "#ed7953"
             ],
             [
              0.7777777777777778,
              "#fb9f3a"
             ],
             [
              0.8888888888888888,
              "#fdca26"
             ],
             [
              1,
              "#f0f921"
             ]
            ],
            "type": "histogram2d"
           }
          ],
          "histogram2dcontour": [
           {
            "colorbar": {
             "outlinewidth": 0,
             "ticks": ""
            },
            "colorscale": [
             [
              0,
              "#0d0887"
             ],
             [
              0.1111111111111111,
              "#46039f"
             ],
             [
              0.2222222222222222,
              "#7201a8"
             ],
             [
              0.3333333333333333,
              "#9c179e"
             ],
             [
              0.4444444444444444,
              "#bd3786"
             ],
             [
              0.5555555555555556,
              "#d8576b"
             ],
             [
              0.6666666666666666,
              "#ed7953"
             ],
             [
              0.7777777777777778,
              "#fb9f3a"
             ],
             [
              0.8888888888888888,
              "#fdca26"
             ],
             [
              1,
              "#f0f921"
             ]
            ],
            "type": "histogram2dcontour"
           }
          ],
          "mesh3d": [
           {
            "colorbar": {
             "outlinewidth": 0,
             "ticks": ""
            },
            "type": "mesh3d"
           }
          ],
          "parcoords": [
           {
            "line": {
             "colorbar": {
              "outlinewidth": 0,
              "ticks": ""
             }
            },
            "type": "parcoords"
           }
          ],
          "pie": [
           {
            "automargin": true,
            "type": "pie"
           }
          ],
          "scatter": [
           {
            "fillpattern": {
             "fillmode": "overlay",
             "size": 10,
             "solidity": 0.2
            },
            "type": "scatter"
           }
          ],
          "scatter3d": [
           {
            "line": {
             "colorbar": {
              "outlinewidth": 0,
              "ticks": ""
             }
            },
            "marker": {
             "colorbar": {
              "outlinewidth": 0,
              "ticks": ""
             }
            },
            "type": "scatter3d"
           }
          ],
          "scattercarpet": [
           {
            "marker": {
             "colorbar": {
              "outlinewidth": 0,
              "ticks": ""
             }
            },
            "type": "scattercarpet"
           }
          ],
          "scattergeo": [
           {
            "marker": {
             "colorbar": {
              "outlinewidth": 0,
              "ticks": ""
             }
            },
            "type": "scattergeo"
           }
          ],
          "scattergl": [
           {
            "marker": {
             "colorbar": {
              "outlinewidth": 0,
              "ticks": ""
             }
            },
            "type": "scattergl"
           }
          ],
          "scattermapbox": [
           {
            "marker": {
             "colorbar": {
              "outlinewidth": 0,
              "ticks": ""
             }
            },
            "type": "scattermapbox"
           }
          ],
          "scatterpolar": [
           {
            "marker": {
             "colorbar": {
              "outlinewidth": 0,
              "ticks": ""
             }
            },
            "type": "scatterpolar"
           }
          ],
          "scatterpolargl": [
           {
            "marker": {
             "colorbar": {
              "outlinewidth": 0,
              "ticks": ""
             }
            },
            "type": "scatterpolargl"
           }
          ],
          "scatterternary": [
           {
            "marker": {
             "colorbar": {
              "outlinewidth": 0,
              "ticks": ""
             }
            },
            "type": "scatterternary"
           }
          ],
          "surface": [
           {
            "colorbar": {
             "outlinewidth": 0,
             "ticks": ""
            },
            "colorscale": [
             [
              0,
              "#0d0887"
             ],
             [
              0.1111111111111111,
              "#46039f"
             ],
             [
              0.2222222222222222,
              "#7201a8"
             ],
             [
              0.3333333333333333,
              "#9c179e"
             ],
             [
              0.4444444444444444,
              "#bd3786"
             ],
             [
              0.5555555555555556,
              "#d8576b"
             ],
             [
              0.6666666666666666,
              "#ed7953"
             ],
             [
              0.7777777777777778,
              "#fb9f3a"
             ],
             [
              0.8888888888888888,
              "#fdca26"
             ],
             [
              1,
              "#f0f921"
             ]
            ],
            "type": "surface"
           }
          ],
          "table": [
           {
            "cells": {
             "fill": {
              "color": "#EBF0F8"
             },
             "line": {
              "color": "white"
             }
            },
            "header": {
             "fill": {
              "color": "#C8D4E3"
             },
             "line": {
              "color": "white"
             }
            },
            "type": "table"
           }
          ]
         },
         "layout": {
          "annotationdefaults": {
           "arrowcolor": "#2a3f5f",
           "arrowhead": 0,
           "arrowwidth": 1
          },
          "autotypenumbers": "strict",
          "coloraxis": {
           "colorbar": {
            "outlinewidth": 0,
            "ticks": ""
           }
          },
          "colorscale": {
           "diverging": [
            [
             0,
             "#8e0152"
            ],
            [
             0.1,
             "#c51b7d"
            ],
            [
             0.2,
             "#de77ae"
            ],
            [
             0.3,
             "#f1b6da"
            ],
            [
             0.4,
             "#fde0ef"
            ],
            [
             0.5,
             "#f7f7f7"
            ],
            [
             0.6,
             "#e6f5d0"
            ],
            [
             0.7,
             "#b8e186"
            ],
            [
             0.8,
             "#7fbc41"
            ],
            [
             0.9,
             "#4d9221"
            ],
            [
             1,
             "#276419"
            ]
           ],
           "sequential": [
            [
             0,
             "#0d0887"
            ],
            [
             0.1111111111111111,
             "#46039f"
            ],
            [
             0.2222222222222222,
             "#7201a8"
            ],
            [
             0.3333333333333333,
             "#9c179e"
            ],
            [
             0.4444444444444444,
             "#bd3786"
            ],
            [
             0.5555555555555556,
             "#d8576b"
            ],
            [
             0.6666666666666666,
             "#ed7953"
            ],
            [
             0.7777777777777778,
             "#fb9f3a"
            ],
            [
             0.8888888888888888,
             "#fdca26"
            ],
            [
             1,
             "#f0f921"
            ]
           ],
           "sequentialminus": [
            [
             0,
             "#0d0887"
            ],
            [
             0.1111111111111111,
             "#46039f"
            ],
            [
             0.2222222222222222,
             "#7201a8"
            ],
            [
             0.3333333333333333,
             "#9c179e"
            ],
            [
             0.4444444444444444,
             "#bd3786"
            ],
            [
             0.5555555555555556,
             "#d8576b"
            ],
            [
             0.6666666666666666,
             "#ed7953"
            ],
            [
             0.7777777777777778,
             "#fb9f3a"
            ],
            [
             0.8888888888888888,
             "#fdca26"
            ],
            [
             1,
             "#f0f921"
            ]
           ]
          },
          "colorway": [
           "#636efa",
           "#EF553B",
           "#00cc96",
           "#ab63fa",
           "#FFA15A",
           "#19d3f3",
           "#FF6692",
           "#B6E880",
           "#FF97FF",
           "#FECB52"
          ],
          "font": {
           "color": "#2a3f5f"
          },
          "geo": {
           "bgcolor": "white",
           "lakecolor": "white",
           "landcolor": "#E5ECF6",
           "showlakes": true,
           "showland": true,
           "subunitcolor": "white"
          },
          "hoverlabel": {
           "align": "left"
          },
          "hovermode": "closest",
          "mapbox": {
           "style": "light"
          },
          "paper_bgcolor": "white",
          "plot_bgcolor": "#E5ECF6",
          "polar": {
           "angularaxis": {
            "gridcolor": "white",
            "linecolor": "white",
            "ticks": ""
           },
           "bgcolor": "#E5ECF6",
           "radialaxis": {
            "gridcolor": "white",
            "linecolor": "white",
            "ticks": ""
           }
          },
          "scene": {
           "xaxis": {
            "backgroundcolor": "#E5ECF6",
            "gridcolor": "white",
            "gridwidth": 2,
            "linecolor": "white",
            "showbackground": true,
            "ticks": "",
            "zerolinecolor": "white"
           },
           "yaxis": {
            "backgroundcolor": "#E5ECF6",
            "gridcolor": "white",
            "gridwidth": 2,
            "linecolor": "white",
            "showbackground": true,
            "ticks": "",
            "zerolinecolor": "white"
           },
           "zaxis": {
            "backgroundcolor": "#E5ECF6",
            "gridcolor": "white",
            "gridwidth": 2,
            "linecolor": "white",
            "showbackground": true,
            "ticks": "",
            "zerolinecolor": "white"
           }
          },
          "shapedefaults": {
           "line": {
            "color": "#2a3f5f"
           }
          },
          "ternary": {
           "aaxis": {
            "gridcolor": "white",
            "linecolor": "white",
            "ticks": ""
           },
           "baxis": {
            "gridcolor": "white",
            "linecolor": "white",
            "ticks": ""
           },
           "bgcolor": "#E5ECF6",
           "caxis": {
            "gridcolor": "white",
            "linecolor": "white",
            "ticks": ""
           }
          },
          "title": {
           "x": 0.05
          },
          "xaxis": {
           "automargin": true,
           "gridcolor": "white",
           "linecolor": "white",
           "ticks": "",
           "title": {
            "standoff": 15
           },
           "zerolinecolor": "white",
           "zerolinewidth": 2
          },
          "yaxis": {
           "automargin": true,
           "gridcolor": "white",
           "linecolor": "white",
           "ticks": "",
           "title": {
            "standoff": 15
           },
           "zerolinecolor": "white",
           "zerolinewidth": 2
          }
         }
        },
        "title": {
         "text": "Average Coffee Shelter Life by Country (Days)"
        }
       }
      },
      "text/html": [
       "<div>                            <div id=\"24e6b721-9f0b-4ac8-b4b9-b09ed2f9224c\" class=\"plotly-graph-div\" style=\"height:525px; width:100%;\"></div>            <script type=\"text/javascript\">                require([\"plotly\"], function(Plotly) {                    window.PLOTLYENV=window.PLOTLYENV || {};                                    if (document.getElementById(\"24e6b721-9f0b-4ac8-b4b9-b09ed2f9224c\")) {                    Plotly.newPlot(                        \"24e6b721-9f0b-4ac8-b4b9-b09ed2f9224c\",                        [{\"coloraxis\":\"coloraxis\",\"geo\":\"geo\",\"hovertemplate\":\"<b>%{hovertext}</b><br><br>Country of Origin=%{location}<br>Coffee Age=%{z}<extra></extra>\",\"hovertext\":[\"Brazil\",\"Colombia\",\"Costa Rica\",\"El Salvador\",\"Ethiopia\",\"Guatemala\",\"Honduras\",\"Indonesia\",\"Kenya\",\"Laos\",\"Madagascar\",\"Mexico\",\"Myanmar\",\"Nicaragua\",\"Panama\",\"Peru\",\"Taiwan\",\"Tanzania, United Republic Of\",\"Thailand\",\"Uganda\",\"United States (Hawaii)\",\"Vietnam\"],\"locationmode\":\"country names\",\"locations\":[\"Brazil\",\"Colombia\",\"Costa Rica\",\"El Salvador\",\"Ethiopia\",\"Guatemala\",\"Honduras\",\"Indonesia\",\"Kenya\",\"Laos\",\"Madagascar\",\"Mexico\",\"Myanmar\",\"Nicaragua\",\"Panama\",\"Peru\",\"Taiwan\",\"Tanzania, United Republic Of\",\"Thailand\",\"Uganda\",\"United States (Hawaii)\",\"Vietnam\"],\"name\":\"\",\"z\":[845.0,829.8947368421053,990.75,690.0,971.4545454545455,880.5238095238095,915.0,618.6666666666666,807.0,940.0,710.0,944.0,683.0,884.5714285714286,859.5,580.0,1027.8852459016393,725.3333333333334,664.25,933.0,753.6,910.25],\"type\":\"choropleth\"}],                        {\"template\":{\"data\":{\"histogram2dcontour\":[{\"type\":\"histogram2dcontour\",\"colorbar\":{\"outlinewidth\":0,\"ticks\":\"\"},\"colorscale\":[[0.0,\"#0d0887\"],[0.1111111111111111,\"#46039f\"],[0.2222222222222222,\"#7201a8\"],[0.3333333333333333,\"#9c179e\"],[0.4444444444444444,\"#bd3786\"],[0.5555555555555556,\"#d8576b\"],[0.6666666666666666,\"#ed7953\"],[0.7777777777777778,\"#fb9f3a\"],[0.8888888888888888,\"#fdca26\"],[1.0,\"#f0f921\"]]}],\"choropleth\":[{\"type\":\"choropleth\",\"colorbar\":{\"outlinewidth\":0,\"ticks\":\"\"}}],\"histogram2d\":[{\"type\":\"histogram2d\",\"colorbar\":{\"outlinewidth\":0,\"ticks\":\"\"},\"colorscale\":[[0.0,\"#0d0887\"],[0.1111111111111111,\"#46039f\"],[0.2222222222222222,\"#7201a8\"],[0.3333333333333333,\"#9c179e\"],[0.4444444444444444,\"#bd3786\"],[0.5555555555555556,\"#d8576b\"],[0.6666666666666666,\"#ed7953\"],[0.7777777777777778,\"#fb9f3a\"],[0.8888888888888888,\"#fdca26\"],[1.0,\"#f0f921\"]]}],\"heatmap\":[{\"type\":\"heatmap\",\"colorbar\":{\"outlinewidth\":0,\"ticks\":\"\"},\"colorscale\":[[0.0,\"#0d0887\"],[0.1111111111111111,\"#46039f\"],[0.2222222222222222,\"#7201a8\"],[0.3333333333333333,\"#9c179e\"],[0.4444444444444444,\"#bd3786\"],[0.5555555555555556,\"#d8576b\"],[0.6666666666666666,\"#ed7953\"],[0.7777777777777778,\"#fb9f3a\"],[0.8888888888888888,\"#fdca26\"],[1.0,\"#f0f921\"]]}],\"heatmapgl\":[{\"type\":\"heatmapgl\",\"colorbar\":{\"outlinewidth\":0,\"ticks\":\"\"},\"colorscale\":[[0.0,\"#0d0887\"],[0.1111111111111111,\"#46039f\"],[0.2222222222222222,\"#7201a8\"],[0.3333333333333333,\"#9c179e\"],[0.4444444444444444,\"#bd3786\"],[0.5555555555555556,\"#d8576b\"],[0.6666666666666666,\"#ed7953\"],[0.7777777777777778,\"#fb9f3a\"],[0.8888888888888888,\"#fdca26\"],[1.0,\"#f0f921\"]]}],\"contourcarpet\":[{\"type\":\"contourcarpet\",\"colorbar\":{\"outlinewidth\":0,\"ticks\":\"\"}}],\"contour\":[{\"type\":\"contour\",\"colorbar\":{\"outlinewidth\":0,\"ticks\":\"\"},\"colorscale\":[[0.0,\"#0d0887\"],[0.1111111111111111,\"#46039f\"],[0.2222222222222222,\"#7201a8\"],[0.3333333333333333,\"#9c179e\"],[0.4444444444444444,\"#bd3786\"],[0.5555555555555556,\"#d8576b\"],[0.6666666666666666,\"#ed7953\"],[0.7777777777777778,\"#fb9f3a\"],[0.8888888888888888,\"#fdca26\"],[1.0,\"#f0f921\"]]}],\"surface\":[{\"type\":\"surface\",\"colorbar\":{\"outlinewidth\":0,\"ticks\":\"\"},\"colorscale\":[[0.0,\"#0d0887\"],[0.1111111111111111,\"#46039f\"],[0.2222222222222222,\"#7201a8\"],[0.3333333333333333,\"#9c179e\"],[0.4444444444444444,\"#bd3786\"],[0.5555555555555556,\"#d8576b\"],[0.6666666666666666,\"#ed7953\"],[0.7777777777777778,\"#fb9f3a\"],[0.8888888888888888,\"#fdca26\"],[1.0,\"#f0f921\"]]}],\"mesh3d\":[{\"type\":\"mesh3d\",\"colorbar\":{\"outlinewidth\":0,\"ticks\":\"\"}}],\"scatter\":[{\"fillpattern\":{\"fillmode\":\"overlay\",\"size\":10,\"solidity\":0.2},\"type\":\"scatter\"}],\"parcoords\":[{\"type\":\"parcoords\",\"line\":{\"colorbar\":{\"outlinewidth\":0,\"ticks\":\"\"}}}],\"scatterpolargl\":[{\"type\":\"scatterpolargl\",\"marker\":{\"colorbar\":{\"outlinewidth\":0,\"ticks\":\"\"}}}],\"bar\":[{\"error_x\":{\"color\":\"#2a3f5f\"},\"error_y\":{\"color\":\"#2a3f5f\"},\"marker\":{\"line\":{\"color\":\"#E5ECF6\",\"width\":0.5},\"pattern\":{\"fillmode\":\"overlay\",\"size\":10,\"solidity\":0.2}},\"type\":\"bar\"}],\"scattergeo\":[{\"type\":\"scattergeo\",\"marker\":{\"colorbar\":{\"outlinewidth\":0,\"ticks\":\"\"}}}],\"scatterpolar\":[{\"type\":\"scatterpolar\",\"marker\":{\"colorbar\":{\"outlinewidth\":0,\"ticks\":\"\"}}}],\"histogram\":[{\"marker\":{\"pattern\":{\"fillmode\":\"overlay\",\"size\":10,\"solidity\":0.2}},\"type\":\"histogram\"}],\"scattergl\":[{\"type\":\"scattergl\",\"marker\":{\"colorbar\":{\"outlinewidth\":0,\"ticks\":\"\"}}}],\"scatter3d\":[{\"type\":\"scatter3d\",\"line\":{\"colorbar\":{\"outlinewidth\":0,\"ticks\":\"\"}},\"marker\":{\"colorbar\":{\"outlinewidth\":0,\"ticks\":\"\"}}}],\"scattermapbox\":[{\"type\":\"scattermapbox\",\"marker\":{\"colorbar\":{\"outlinewidth\":0,\"ticks\":\"\"}}}],\"scatterternary\":[{\"type\":\"scatterternary\",\"marker\":{\"colorbar\":{\"outlinewidth\":0,\"ticks\":\"\"}}}],\"scattercarpet\":[{\"type\":\"scattercarpet\",\"marker\":{\"colorbar\":{\"outlinewidth\":0,\"ticks\":\"\"}}}],\"carpet\":[{\"aaxis\":{\"endlinecolor\":\"#2a3f5f\",\"gridcolor\":\"white\",\"linecolor\":\"white\",\"minorgridcolor\":\"white\",\"startlinecolor\":\"#2a3f5f\"},\"baxis\":{\"endlinecolor\":\"#2a3f5f\",\"gridcolor\":\"white\",\"linecolor\":\"white\",\"minorgridcolor\":\"white\",\"startlinecolor\":\"#2a3f5f\"},\"type\":\"carpet\"}],\"table\":[{\"cells\":{\"fill\":{\"color\":\"#EBF0F8\"},\"line\":{\"color\":\"white\"}},\"header\":{\"fill\":{\"color\":\"#C8D4E3\"},\"line\":{\"color\":\"white\"}},\"type\":\"table\"}],\"barpolar\":[{\"marker\":{\"line\":{\"color\":\"#E5ECF6\",\"width\":0.5},\"pattern\":{\"fillmode\":\"overlay\",\"size\":10,\"solidity\":0.2}},\"type\":\"barpolar\"}],\"pie\":[{\"automargin\":true,\"type\":\"pie\"}]},\"layout\":{\"autotypenumbers\":\"strict\",\"colorway\":[\"#636efa\",\"#EF553B\",\"#00cc96\",\"#ab63fa\",\"#FFA15A\",\"#19d3f3\",\"#FF6692\",\"#B6E880\",\"#FF97FF\",\"#FECB52\"],\"font\":{\"color\":\"#2a3f5f\"},\"hovermode\":\"closest\",\"hoverlabel\":{\"align\":\"left\"},\"paper_bgcolor\":\"white\",\"plot_bgcolor\":\"#E5ECF6\",\"polar\":{\"bgcolor\":\"#E5ECF6\",\"angularaxis\":{\"gridcolor\":\"white\",\"linecolor\":\"white\",\"ticks\":\"\"},\"radialaxis\":{\"gridcolor\":\"white\",\"linecolor\":\"white\",\"ticks\":\"\"}},\"ternary\":{\"bgcolor\":\"#E5ECF6\",\"aaxis\":{\"gridcolor\":\"white\",\"linecolor\":\"white\",\"ticks\":\"\"},\"baxis\":{\"gridcolor\":\"white\",\"linecolor\":\"white\",\"ticks\":\"\"},\"caxis\":{\"gridcolor\":\"white\",\"linecolor\":\"white\",\"ticks\":\"\"}},\"coloraxis\":{\"colorbar\":{\"outlinewidth\":0,\"ticks\":\"\"}},\"colorscale\":{\"sequential\":[[0.0,\"#0d0887\"],[0.1111111111111111,\"#46039f\"],[0.2222222222222222,\"#7201a8\"],[0.3333333333333333,\"#9c179e\"],[0.4444444444444444,\"#bd3786\"],[0.5555555555555556,\"#d8576b\"],[0.6666666666666666,\"#ed7953\"],[0.7777777777777778,\"#fb9f3a\"],[0.8888888888888888,\"#fdca26\"],[1.0,\"#f0f921\"]],\"sequentialminus\":[[0.0,\"#0d0887\"],[0.1111111111111111,\"#46039f\"],[0.2222222222222222,\"#7201a8\"],[0.3333333333333333,\"#9c179e\"],[0.4444444444444444,\"#bd3786\"],[0.5555555555555556,\"#d8576b\"],[0.6666666666666666,\"#ed7953\"],[0.7777777777777778,\"#fb9f3a\"],[0.8888888888888888,\"#fdca26\"],[1.0,\"#f0f921\"]],\"diverging\":[[0,\"#8e0152\"],[0.1,\"#c51b7d\"],[0.2,\"#de77ae\"],[0.3,\"#f1b6da\"],[0.4,\"#fde0ef\"],[0.5,\"#f7f7f7\"],[0.6,\"#e6f5d0\"],[0.7,\"#b8e186\"],[0.8,\"#7fbc41\"],[0.9,\"#4d9221\"],[1,\"#276419\"]]},\"xaxis\":{\"gridcolor\":\"white\",\"linecolor\":\"white\",\"ticks\":\"\",\"title\":{\"standoff\":15},\"zerolinecolor\":\"white\",\"automargin\":true,\"zerolinewidth\":2},\"yaxis\":{\"gridcolor\":\"white\",\"linecolor\":\"white\",\"ticks\":\"\",\"title\":{\"standoff\":15},\"zerolinecolor\":\"white\",\"automargin\":true,\"zerolinewidth\":2},\"scene\":{\"xaxis\":{\"backgroundcolor\":\"#E5ECF6\",\"gridcolor\":\"white\",\"linecolor\":\"white\",\"showbackground\":true,\"ticks\":\"\",\"zerolinecolor\":\"white\",\"gridwidth\":2},\"yaxis\":{\"backgroundcolor\":\"#E5ECF6\",\"gridcolor\":\"white\",\"linecolor\":\"white\",\"showbackground\":true,\"ticks\":\"\",\"zerolinecolor\":\"white\",\"gridwidth\":2},\"zaxis\":{\"backgroundcolor\":\"#E5ECF6\",\"gridcolor\":\"white\",\"linecolor\":\"white\",\"showbackground\":true,\"ticks\":\"\",\"zerolinecolor\":\"white\",\"gridwidth\":2}},\"shapedefaults\":{\"line\":{\"color\":\"#2a3f5f\"}},\"annotationdefaults\":{\"arrowcolor\":\"#2a3f5f\",\"arrowhead\":0,\"arrowwidth\":1},\"geo\":{\"bgcolor\":\"white\",\"landcolor\":\"#E5ECF6\",\"subunitcolor\":\"white\",\"showland\":true,\"showlakes\":true,\"lakecolor\":\"white\"},\"title\":{\"x\":0.05},\"mapbox\":{\"style\":\"light\"}}},\"geo\":{\"domain\":{\"x\":[0.0,1.0],\"y\":[0.0,1.0]},\"center\":{}},\"coloraxis\":{\"colorbar\":{\"title\":{\"text\":\"Coffee Age\"}},\"colorscale\":[[0.0,\"#0d0887\"],[0.1111111111111111,\"#46039f\"],[0.2222222222222222,\"#7201a8\"],[0.3333333333333333,\"#9c179e\"],[0.4444444444444444,\"#bd3786\"],[0.5555555555555556,\"#d8576b\"],[0.6666666666666666,\"#ed7953\"],[0.7777777777777778,\"#fb9f3a\"],[0.8888888888888888,\"#fdca26\"],[1.0,\"#f0f921\"]]},\"legend\":{\"tracegroupgap\":0},\"title\":{\"text\":\"Average Coffee Shelter Life by Country (Days)\"}},                        {\"responsive\": true}                    ).then(function(){\n",
       "                            \n",
       "var gd = document.getElementById('24e6b721-9f0b-4ac8-b4b9-b09ed2f9224c');\n",
       "var x = new MutationObserver(function (mutations, observer) {{\n",
       "        var display = window.getComputedStyle(gd).display;\n",
       "        if (!display || display === 'none') {{\n",
       "            console.log([gd, 'removed!']);\n",
       "            Plotly.purge(gd);\n",
       "            observer.disconnect();\n",
       "        }}\n",
       "}});\n",
       "\n",
       "// Listen for the removal of the full notebook cells\n",
       "var notebookContainer = gd.closest('#notebook-container');\n",
       "if (notebookContainer) {{\n",
       "    x.observe(notebookContainer, {childList: true});\n",
       "}}\n",
       "\n",
       "// Listen for the clearing of the current output cell\n",
       "var outputEl = gd.closest('.output');\n",
       "if (outputEl) {{\n",
       "    x.observe(outputEl, {childList: true});\n",
       "}}\n",
       "\n",
       "                        })                };                });            </script>        </div>"
      ]
     },
     "metadata": {},
     "output_type": "display_data"
    },
    {
     "data": {
      "image/png": "[encoded data removed]",
      "text/plain": [
       "<Figure size 1000x500 with 1 Axes>"
      ]
     },
     "metadata": {},
     "output_type": "display_data"
    }
   ],
   "source": [
    "# Group the data by country and calculate the mean of Total Cup Points\n",
    "df_grouped = df.groupby('Country of Origin')['Coffee Age'].mean().reset_index()\n",
    "\n",
    "# Create a Choropleth map\n",
    "fig = px.choropleth(df_grouped, \n",
    "                    locations='Country of Origin', \n",
    "                    locationmode='country names',\n",
    "                    color='Coffee Age',\n",
    "                    hover_name='Country of Origin',\n",
    "                    color_continuous_scale=px.colors.sequential.Plasma,\n",
    "                    title='Average Coffee Shelter Life by Country (Days)')\n",
    "\n",
    "fig.show()\n",
    "\n",
    "# Create a bar plot with gray color\n",
    "plt.figure(figsize=(10, 5))\n",
    "sns.barplot(x=df_grouped['Country of Origin'], y=df_grouped['Coffee Age'], color='gray')\n",
    "plt.title('Average Coffee Shelter Life by Country (Days)')\n",
    "plt.xlabel('Country of Origin')\n",
    "plt.ylabel('Average Coffee Shelter Life')\n",
    "plt.xticks(rotation=90)\n",
    "plt.show()"
   ]
  },
  {
   "cell_type": "code",
   "execution_count": 23,
   "id": "99ae3d94",
   "metadata": {},
   "outputs": [
    {
     "data": {
      "application/vnd.plotly.v1+json": {
       "config": {
        "plotlyServerURL": "https://plot.ly"
       },
       "data": [
        {
         "coloraxis": "coloraxis",
         "geo": "geo",
         "hovertemplate": "<b>%{hovertext}</b><br><br>Country of Origin=%{location}<br>Altitude=%{z}<extra></extra>",
         "hovertext": [
          "Brazil",
          "Colombia",
          "Costa Rica",
          "El Salvador",
          "Ethiopia",
          "Guatemala",
          "Honduras",
          "Indonesia",
          "Kenya",
          "Laos",
          "Madagascar",
          "Mexico",
          "Myanmar",
          "Nicaragua",
          "Panama",
          "Peru",
          "Taiwan",
          "Tanzania, United Republic Of",
          "Thailand",
          "Uganda",
          "United States (Hawaii)",
          "Vietnam"
         ],
         "locationmode": "country names",
         "locations": [
          "Brazil",
          "Colombia",
          "Costa Rica",
          "El Salvador",
          "Ethiopia",
          "Guatemala",
          "Honduras",
          "Indonesia",
          "Kenya",
          "Laos",
          "Madagascar",
          "Mexico",
          "Myanmar",
          "Nicaragua",
          "Panama",
          "Peru",
          "Taiwan",
          "Tanzania, United Republic Of",
          "Thailand",
          "Uganda",
          "United States (Hawaii)",
          "Vietnam"
         ],
         "name": "",
         "type": "choropleth",
         "z": [
          1067.5,
          1629.7368421052631,
          1687.5,
          1285.7142857142858,
          1968.5454545454545,
          2073.2619047619046,
          1437.6923076923076,
          1283.3333333333333,
          1737.5,
          1283.3333333333333,
          1500,
          1272.5,
          1400,
          1210.7142857142858,
          1200,
          1637.5,
          729.0491803278688,
          1594,
          1306.6666666666667,
          1820,
          848,
          1997.5
         ]
        }
       ],
       "layout": {
        "coloraxis": {
         "colorbar": {
          "title": {
           "text": "Altitude"
          }
         },
         "colorscale": [
          [
           0,
           "#0d0887"
          ],
          [
           0.1111111111111111,
           "#46039f"
          ],
          [
           0.2222222222222222,
           "#7201a8"
          ],
          [
           0.3333333333333333,
           "#9c179e"
          ],
          [
           0.4444444444444444,
           "#bd3786"
          ],
          [
           0.5555555555555556,
           "#d8576b"
          ],
          [
           0.6666666666666666,
           "#ed7953"
          ],
          [
           0.7777777777777778,
           "#fb9f3a"
          ],
          [
           0.8888888888888888,
           "#fdca26"
          ],
          [
           1,
           "#f0f921"
          ]
         ]
        },
        "geo": {
         "center": {},
         "domain": {
          "x": [
           0,
           1
          ],
          "y": [
           0,
           1
          ]
         }
        },
        "legend": {
         "tracegroupgap": 0
        },
        "template": {
         "data": {
          "bar": [
           {
            "error_x": {
             "color": "#2a3f5f"
            },
            "error_y": {
             "color": "#2a3f5f"
            },
            "marker": {
             "line": {
              "color": "#E5ECF6",
              "width": 0.5
             },
             "pattern": {
              "fillmode": "overlay",
              "size": 10,
              "solidity": 0.2
             }
            },
            "type": "bar"
           }
          ],
          "barpolar": [
           {
            "marker": {
             "line": {
              "color": "#E5ECF6",
              "width": 0.5
             },
             "pattern": {
              "fillmode": "overlay",
              "size": 10,
              "solidity": 0.2
             }
            },
            "type": "barpolar"
           }
          ],
          "carpet": [
           {
            "aaxis": {
             "endlinecolor": "#2a3f5f",
             "gridcolor": "white",
             "linecolor": "white",
             "minorgridcolor": "white",
             "startlinecolor": "#2a3f5f"
            },
            "baxis": {
             "endlinecolor": "#2a3f5f",
             "gridcolor": "white",
             "linecolor": "white",
             "minorgridcolor": "white",
             "startlinecolor": "#2a3f5f"
            },
            "type": "carpet"
           }
          ],
          "choropleth": [
           {
            "colorbar": {
             "outlinewidth": 0,
             "ticks": ""
            },
            "type": "choropleth"
           }
          ],
          "contour": [
           {
            "colorbar": {
             "outlinewidth": 0,
             "ticks": ""
            },
            "colorscale": [
             [
              0,
              "#0d0887"
             ],
             [
              0.1111111111111111,
              "#46039f"
             ],
             [
              0.2222222222222222,
              "#7201a8"
             ],
             [
              0.3333333333333333,
              "#9c179e"
             ],
             [
              0.4444444444444444,
              "#bd3786"
             ],
             [
              0.5555555555555556,
              "#d8576b"
             ],
             [
              0.6666666666666666,
              "#ed7953"
             ],
             [
              0.7777777777777778,
              "#fb9f3a"
             ],
             [
              0.8888888888888888,
              "#fdca26"
             ],
             [
              1,
              "#f0f921"
             ]
            ],
            "type": "contour"
           }
          ],
          "contourcarpet": [
           {
            "colorbar": {
             "outlinewidth": 0,
             "ticks": ""
            },
            "type": "contourcarpet"
           }
          ],
          "heatmap": [
           {
            "colorbar": {
             "outlinewidth": 0,
             "ticks": ""
            },
            "colorscale": [
             [
              0,
              "#0d0887"
             ],
             [
              0.1111111111111111,
              "#46039f"
             ],
             [
              0.2222222222222222,
              "#7201a8"
             ],
             [
              0.3333333333333333,
              "#9c179e"
             ],
             [
              0.4444444444444444,
              "#bd3786"
             ],
             [
              0.5555555555555556,
              "#d8576b"
             ],
             [
              0.6666666666666666,
              "#ed7953"
             ],
             [
              0.7777777777777778,
              "#fb9f3a"
             ],
             [
              0.8888888888888888,
              "#fdca26"
             ],
             [
              1,
              "#f0f921"
             ]
            ],
            "type": "heatmap"
           }
          ],
          "heatmapgl": [
           {
            "colorbar": {
             "outlinewidth": 0,
             "ticks": ""
            },
            "colorscale": [
             [
              0,
              "#0d0887"
             ],
             [
              0.1111111111111111,
              "#46039f"
             ],
             [
              0.2222222222222222,
              "#7201a8"
             ],
             [
              0.3333333333333333,
              "#9c179e"
             ],
             [
              0.4444444444444444,
              "#bd3786"
             ],
             [
              0.5555555555555556,
              "#d8576b"
             ],
             [
              0.6666666666666666,
              "#ed7953"
             ],
             [
              0.7777777777777778,
              "#fb9f3a"
             ],
             [
              0.8888888888888888,
              "#fdca26"
             ],
             [
              1,
              "#f0f921"
             ]
            ],
            "type": "heatmapgl"
           }
          ],
          "histogram": [
           {
            "marker": {
             "pattern": {
              "fillmode": "overlay",
              "size": 10,
              "solidity": 0.2
             }
            },
            "type": "histogram"
           }
          ],
          "histogram2d": [
           {
            "colorbar": {
             "outlinewidth": 0,
             "ticks": ""
            },
            "colorscale": [
             [
              0,
              "#0d0887"
             ],
             [
              0.1111111111111111,
              "#46039f"
             ],
             [
              0.2222222222222222,
              "#7201a8"
             ],
             [
              0.3333333333333333,
              "#9c179e"
             ],
             [
              0.4444444444444444,
              "#bd3786"
             ],
             [
              0.5555555555555556,
              "#d8576b"
             ],
             [
              0.6666666666666666,
              "#ed7953"
             ],
             [
              0.7777777777777778,
              "#fb9f3a"
             ],
             [
              0.8888888888888888,
              "#fdca26"
             ],
             [
              1,
              "#f0f921"
             ]
            ],
            "type": "histogram2d"
           }
          ],
          "histogram2dcontour": [
           {
            "colorbar": {
             "outlinewidth": 0,
             "ticks": ""
            },
            "colorscale": [
             [
              0,
              "#0d0887"
             ],
             [
              0.1111111111111111,
              "#46039f"
             ],
             [
              0.2222222222222222,
              "#7201a8"
             ],
             [
              0.3333333333333333,
              "#9c179e"
             ],
             [
              0.4444444444444444,
              "#bd3786"
             ],
             [
              0.5555555555555556,
              "#d8576b"
             ],
             [
              0.6666666666666666,
              "#ed7953"
             ],
             [
              0.7777777777777778,
              "#fb9f3a"
             ],
             [
              0.8888888888888888,
              "#fdca26"
             ],
             [
              1,
              "#f0f921"
             ]
            ],
            "type": "histogram2dcontour"
           }
          ],
          "mesh3d": [
           {
            "colorbar": {
             "outlinewidth": 0,
             "ticks": ""
            },
            "type": "mesh3d"
           }
          ],
          "parcoords": [
           {
            "line": {
             "colorbar": {
              "outlinewidth": 0,
              "ticks": ""
             }
            },
            "type": "parcoords"
           }
          ],
          "pie": [
           {
            "automargin": true,
            "type": "pie"
           }
          ],
          "scatter": [
           {
            "fillpattern": {
             "fillmode": "overlay",
             "size": 10,
             "solidity": 0.2
            },
            "type": "scatter"
           }
          ],
          "scatter3d": [
           {
            "line": {
             "colorbar": {
              "outlinewidth": 0,
              "ticks": ""
             }
            },
            "marker": {
             "colorbar": {
              "outlinewidth": 0,
              "ticks": ""
             }
            },
            "type": "scatter3d"
           }
          ],
          "scattercarpet": [
           {
            "marker": {
             "colorbar": {
              "outlinewidth": 0,
              "ticks": ""
             }
            },
            "type": "scattercarpet"
           }
          ],
          "scattergeo": [
           {
            "marker": {
             "colorbar": {
              "outlinewidth": 0,
              "ticks": ""
             }
            },
            "type": "scattergeo"
           }
          ],
          "scattergl": [
           {
            "marker": {
             "colorbar": {
              "outlinewidth": 0,
              "ticks": ""
             }
            },
            "type": "scattergl"
           }
          ],
          "scattermapbox": [
           {
            "marker": {
             "colorbar": {
              "outlinewidth": 0,
              "ticks": ""
             }
            },
            "type": "scattermapbox"
           }
          ],
          "scatterpolar": [
           {
            "marker": {
             "colorbar": {
              "outlinewidth": 0,
              "ticks": ""
             }
            },
            "type": "scatterpolar"
           }
          ],
          "scatterpolargl": [
           {
            "marker": {
             "colorbar": {
              "outlinewidth": 0,
              "ticks": ""
             }
            },
            "type": "scatterpolargl"
           }
          ],
          "scatterternary": [
           {
            "marker": {
             "colorbar": {
              "outlinewidth": 0,
              "ticks": ""
             }
            },
            "type": "scatterternary"
           }
          ],
          "surface": [
           {
            "colorbar": {
             "outlinewidth": 0,
             "ticks": ""
            },
            "colorscale": [
             [
              0,
              "#0d0887"
             ],
             [
              0.1111111111111111,
              "#46039f"
             ],
             [
              0.2222222222222222,
              "#7201a8"
             ],
             [
              0.3333333333333333,
              "#9c179e"
             ],
             [
              0.4444444444444444,
              "#bd3786"
             ],
             [
              0.5555555555555556,
              "#d8576b"
             ],
             [
              0.6666666666666666,
              "#ed7953"
             ],
             [
              0.7777777777777778,
              "#fb9f3a"
             ],
             [
              0.8888888888888888,
              "#fdca26"
             ],
             [
              1,
              "#f0f921"
             ]
            ],
            "type": "surface"
           }
          ],
          "table": [
           {
            "cells": {
             "fill": {
              "color": "#EBF0F8"
             },
             "line": {
              "color": "white"
             }
            },
            "header": {
             "fill": {
              "color": "#C8D4E3"
             },
             "line": {
              "color": "white"
             }
            },
            "type": "table"
           }
          ]
         },
         "layout": {
          "annotationdefaults": {
           "arrowcolor": "#2a3f5f",
           "arrowhead": 0,
           "arrowwidth": 1
          },
          "autotypenumbers": "strict",
          "coloraxis": {
           "colorbar": {
            "outlinewidth": 0,
            "ticks": ""
           }
          },
          "colorscale": {
           "diverging": [
            [
             0,
             "#8e0152"
            ],
            [
             0.1,
             "#c51b7d"
            ],
            [
             0.2,
             "#de77ae"
            ],
            [
             0.3,
             "#f1b6da"
            ],
            [
             0.4,
             "#fde0ef"
            ],
            [
             0.5,
             "#f7f7f7"
            ],
            [
             0.6,
             "#e6f5d0"
            ],
            [
             0.7,
             "#b8e186"
            ],
            [
             0.8,
             "#7fbc41"
            ],
            [
             0.9,
             "#4d9221"
            ],
            [
             1,
             "#276419"
            ]
           ],
           "sequential": [
            [
             0,
             "#0d0887"
            ],
            [
             0.1111111111111111,
             "#46039f"
            ],
            [
             0.2222222222222222,
             "#7201a8"
            ],
            [
             0.3333333333333333,
             "#9c179e"
            ],
            [
             0.4444444444444444,
             "#bd3786"
            ],
            [
             0.5555555555555556,
             "#d8576b"
            ],
            [
             0.6666666666666666,
             "#ed7953"
            ],
            [
             0.7777777777777778,
             "#fb9f3a"
            ],
            [
             0.8888888888888888,
             "#fdca26"
            ],
            [
             1,
             "#f0f921"
            ]
           ],
           "sequentialminus": [
            [
             0,
             "#0d0887"
            ],
            [
             0.1111111111111111,
             "#46039f"
            ],
            [
             0.2222222222222222,
             "#7201a8"
            ],
            [
             0.3333333333333333,
             "#9c179e"
            ],
            [
             0.4444444444444444,
             "#bd3786"
            ],
            [
             0.5555555555555556,
             "#d8576b"
            ],
            [
             0.6666666666666666,
             "#ed7953"
            ],
            [
             0.7777777777777778,
             "#fb9f3a"
            ],
            [
             0.8888888888888888,
             "#fdca26"
            ],
            [
             1,
             "#f0f921"
            ]
           ]
          },
          "colorway": [
           "#636efa",
           "#EF553B",
           "#00cc96",
           "#ab63fa",
           "#FFA15A",
           "#19d3f3",
           "#FF6692",
           "#B6E880",
           "#FF97FF",
           "#FECB52"
          ],
          "font": {
           "color": "#2a3f5f"
          },
          "geo": {
           "bgcolor": "white",
           "lakecolor": "white",
           "landcolor": "#E5ECF6",
           "showlakes": true,
           "showland": true,
           "subunitcolor": "white"
          },
          "hoverlabel": {
           "align": "left"
          },
          "hovermode": "closest",
          "mapbox": {
           "style": "light"
          },
          "paper_bgcolor": "white",
          "plot_bgcolor": "#E5ECF6",
          "polar": {
           "angularaxis": {
            "gridcolor": "white",
            "linecolor": "white",
            "ticks": ""
           },
           "bgcolor": "#E5ECF6",
           "radialaxis": {
            "gridcolor": "white",
            "linecolor": "white",
            "ticks": ""
           }
          },
          "scene": {
           "xaxis": {
            "backgroundcolor": "#E5ECF6",
            "gridcolor": "white",
            "gridwidth": 2,
            "linecolor": "white",
            "showbackground": true,
            "ticks": "",
            "zerolinecolor": "white"
           },
           "yaxis": {
            "backgroundcolor": "#E5ECF6",
            "gridcolor": "white",
            "gridwidth": 2,
            "linecolor": "white",
            "showbackground": true,
            "ticks": "",
            "zerolinecolor": "white"
           },
           "zaxis": {
            "backgroundcolor": "#E5ECF6",
            "gridcolor": "white",
            "gridwidth": 2,
            "linecolor": "white",
            "showbackground": true,
            "ticks": "",
            "zerolinecolor": "white"
           }
          },
          "shapedefaults": {
           "line": {
            "color": "#2a3f5f"
           }
          },
          "ternary": {
           "aaxis": {
            "gridcolor": "white",
            "linecolor": "white",
            "ticks": ""
           },
           "baxis": {
            "gridcolor": "white",
            "linecolor": "white",
            "ticks": ""
           },
           "bgcolor": "#E5ECF6",
           "caxis": {
            "gridcolor": "white",
            "linecolor": "white",
            "ticks": ""
           }
          },
          "title": {
           "x": 0.05
          },
          "xaxis": {
           "automargin": true,
           "gridcolor": "white",
           "linecolor": "white",
           "ticks": "",
           "title": {
            "standoff": 15
           },
           "zerolinecolor": "white",
           "zerolinewidth": 2
          },
          "yaxis": {
           "automargin": true,
           "gridcolor": "white",
           "linecolor": "white",
           "ticks": "",
           "title": {
            "standoff": 15
           },
           "zerolinecolor": "white",
           "zerolinewidth": 2
          }
         }
        },
        "title": {
         "text": "Average Altitude by Country"
        }
       }
      },
      "text/html": [
       "<div>                            <div id=\"e23beeae-c128-44ad-a564-bd5a860905d0\" class=\"plotly-graph-div\" style=\"height:525px; width:100%;\"></div>            <script type=\"text/javascript\">                require([\"plotly\"], function(Plotly) {                    window.PLOTLYENV=window.PLOTLYENV || {};                                    if (document.getElementById(\"e23beeae-c128-44ad-a564-bd5a860905d0\")) {                    Plotly.newPlot(                        \"e23beeae-c128-44ad-a564-bd5a860905d0\",                        [{\"coloraxis\":\"coloraxis\",\"geo\":\"geo\",\"hovertemplate\":\"<b>%{hovertext}</b><br><br>Country of Origin=%{location}<br>Altitude=%{z}<extra></extra>\",\"hovertext\":[\"Brazil\",\"Colombia\",\"Costa Rica\",\"El Salvador\",\"Ethiopia\",\"Guatemala\",\"Honduras\",\"Indonesia\",\"Kenya\",\"Laos\",\"Madagascar\",\"Mexico\",\"Myanmar\",\"Nicaragua\",\"Panama\",\"Peru\",\"Taiwan\",\"Tanzania, United Republic Of\",\"Thailand\",\"Uganda\",\"United States (Hawaii)\",\"Vietnam\"],\"locationmode\":\"country names\",\"locations\":[\"Brazil\",\"Colombia\",\"Costa Rica\",\"El Salvador\",\"Ethiopia\",\"Guatemala\",\"Honduras\",\"Indonesia\",\"Kenya\",\"Laos\",\"Madagascar\",\"Mexico\",\"Myanmar\",\"Nicaragua\",\"Panama\",\"Peru\",\"Taiwan\",\"Tanzania, United Republic Of\",\"Thailand\",\"Uganda\",\"United States (Hawaii)\",\"Vietnam\"],\"name\":\"\",\"z\":[1067.5,1629.7368421052631,1687.5,1285.7142857142858,1968.5454545454545,2073.2619047619046,1437.6923076923076,1283.3333333333333,1737.5,1283.3333333333333,1500.0,1272.5,1400.0,1210.7142857142858,1200.0,1637.5,729.0491803278688,1594.0,1306.6666666666667,1820.0,848.0,1997.5],\"type\":\"choropleth\"}],                        {\"template\":{\"data\":{\"histogram2dcontour\":[{\"type\":\"histogram2dcontour\",\"colorbar\":{\"outlinewidth\":0,\"ticks\":\"\"},\"colorscale\":[[0.0,\"#0d0887\"],[0.1111111111111111,\"#46039f\"],[0.2222222222222222,\"#7201a8\"],[0.3333333333333333,\"#9c179e\"],[0.4444444444444444,\"#bd3786\"],[0.5555555555555556,\"#d8576b\"],[0.6666666666666666,\"#ed7953\"],[0.7777777777777778,\"#fb9f3a\"],[0.8888888888888888,\"#fdca26\"],[1.0,\"#f0f921\"]]}],\"choropleth\":[{\"type\":\"choropleth\",\"colorbar\":{\"outlinewidth\":0,\"ticks\":\"\"}}],\"histogram2d\":[{\"type\":\"histogram2d\",\"colorbar\":{\"outlinewidth\":0,\"ticks\":\"\"},\"colorscale\":[[0.0,\"#0d0887\"],[0.1111111111111111,\"#46039f\"],[0.2222222222222222,\"#7201a8\"],[0.3333333333333333,\"#9c179e\"],[0.4444444444444444,\"#bd3786\"],[0.5555555555555556,\"#d8576b\"],[0.6666666666666666,\"#ed7953\"],[0.7777777777777778,\"#fb9f3a\"],[0.8888888888888888,\"#fdca26\"],[1.0,\"#f0f921\"]]}],\"heatmap\":[{\"type\":\"heatmap\",\"colorbar\":{\"outlinewidth\":0,\"ticks\":\"\"},\"colorscale\":[[0.0,\"#0d0887\"],[0.1111111111111111,\"#46039f\"],[0.2222222222222222,\"#7201a8\"],[0.3333333333333333,\"#9c179e\"],[0.4444444444444444,\"#bd3786\"],[0.5555555555555556,\"#d8576b\"],[0.6666666666666666,\"#ed7953\"],[0.7777777777777778,\"#fb9f3a\"],[0.8888888888888888,\"#fdca26\"],[1.0,\"#f0f921\"]]}],\"heatmapgl\":[{\"type\":\"heatmapgl\",\"colorbar\":{\"outlinewidth\":0,\"ticks\":\"\"},\"colorscale\":[[0.0,\"#0d0887\"],[0.1111111111111111,\"#46039f\"],[0.2222222222222222,\"#7201a8\"],[0.3333333333333333,\"#9c179e\"],[0.4444444444444444,\"#bd3786\"],[0.5555555555555556,\"#d8576b\"],[0.6666666666666666,\"#ed7953\"],[0.7777777777777778,\"#fb9f3a\"],[0.8888888888888888,\"#fdca26\"],[1.0,\"#f0f921\"]]}],\"contourcarpet\":[{\"type\":\"contourcarpet\",\"colorbar\":{\"outlinewidth\":0,\"ticks\":\"\"}}],\"contour\":[{\"type\":\"contour\",\"colorbar\":{\"outlinewidth\":0,\"ticks\":\"\"},\"colorscale\":[[0.0,\"#0d0887\"],[0.1111111111111111,\"#46039f\"],[0.2222222222222222,\"#7201a8\"],[0.3333333333333333,\"#9c179e\"],[0.4444444444444444,\"#bd3786\"],[0.5555555555555556,\"#d8576b\"],[0.6666666666666666,\"#ed7953\"],[0.7777777777777778,\"#fb9f3a\"],[0.8888888888888888,\"#fdca26\"],[1.0,\"#f0f921\"]]}],\"surface\":[{\"type\":\"surface\",\"colorbar\":{\"outlinewidth\":0,\"ticks\":\"\"},\"colorscale\":[[0.0,\"#0d0887\"],[0.1111111111111111,\"#46039f\"],[0.2222222222222222,\"#7201a8\"],[0.3333333333333333,\"#9c179e\"],[0.4444444444444444,\"#bd3786\"],[0.5555555555555556,\"#d8576b\"],[0.6666666666666666,\"#ed7953\"],[0.7777777777777778,\"#fb9f3a\"],[0.8888888888888888,\"#fdca26\"],[1.0,\"#f0f921\"]]}],\"mesh3d\":[{\"type\":\"mesh3d\",\"colorbar\":{\"outlinewidth\":0,\"ticks\":\"\"}}],\"scatter\":[{\"fillpattern\":{\"fillmode\":\"overlay\",\"size\":10,\"solidity\":0.2},\"type\":\"scatter\"}],\"parcoords\":[{\"type\":\"parcoords\",\"line\":{\"colorbar\":{\"outlinewidth\":0,\"ticks\":\"\"}}}],\"scatterpolargl\":[{\"type\":\"scatterpolargl\",\"marker\":{\"colorbar\":{\"outlinewidth\":0,\"ticks\":\"\"}}}],\"bar\":[{\"error_x\":{\"color\":\"#2a3f5f\"},\"error_y\":{\"color\":\"#2a3f5f\"},\"marker\":{\"line\":{\"color\":\"#E5ECF6\",\"width\":0.5},\"pattern\":{\"fillmode\":\"overlay\",\"size\":10,\"solidity\":0.2}},\"type\":\"bar\"}],\"scattergeo\":[{\"type\":\"scattergeo\",\"marker\":{\"colorbar\":{\"outlinewidth\":0,\"ticks\":\"\"}}}],\"scatterpolar\":[{\"type\":\"scatterpolar\",\"marker\":{\"colorbar\":{\"outlinewidth\":0,\"ticks\":\"\"}}}],\"histogram\":[{\"marker\":{\"pattern\":{\"fillmode\":\"overlay\",\"size\":10,\"solidity\":0.2}},\"type\":\"histogram\"}],\"scattergl\":[{\"type\":\"scattergl\",\"marker\":{\"colorbar\":{\"outlinewidth\":0,\"ticks\":\"\"}}}],\"scatter3d\":[{\"type\":\"scatter3d\",\"line\":{\"colorbar\":{\"outlinewidth\":0,\"ticks\":\"\"}},\"marker\":{\"colorbar\":{\"outlinewidth\":0,\"ticks\":\"\"}}}],\"scattermapbox\":[{\"type\":\"scattermapbox\",\"marker\":{\"colorbar\":{\"outlinewidth\":0,\"ticks\":\"\"}}}],\"scatterternary\":[{\"type\":\"scatterternary\",\"marker\":{\"colorbar\":{\"outlinewidth\":0,\"ticks\":\"\"}}}],\"scattercarpet\":[{\"type\":\"scattercarpet\",\"marker\":{\"colorbar\":{\"outlinewidth\":0,\"ticks\":\"\"}}}],\"carpet\":[{\"aaxis\":{\"endlinecolor\":\"#2a3f5f\",\"gridcolor\":\"white\",\"linecolor\":\"white\",\"minorgridcolor\":\"white\",\"startlinecolor\":\"#2a3f5f\"},\"baxis\":{\"endlinecolor\":\"#2a3f5f\",\"gridcolor\":\"white\",\"linecolor\":\"white\",\"minorgridcolor\":\"white\",\"startlinecolor\":\"#2a3f5f\"},\"type\":\"carpet\"}],\"table\":[{\"cells\":{\"fill\":{\"color\":\"#EBF0F8\"},\"line\":{\"color\":\"white\"}},\"header\":{\"fill\":{\"color\":\"#C8D4E3\"},\"line\":{\"color\":\"white\"}},\"type\":\"table\"}],\"barpolar\":[{\"marker\":{\"line\":{\"color\":\"#E5ECF6\",\"width\":0.5},\"pattern\":{\"fillmode\":\"overlay\",\"size\":10,\"solidity\":0.2}},\"type\":\"barpolar\"}],\"pie\":[{\"automargin\":true,\"type\":\"pie\"}]},\"layout\":{\"autotypenumbers\":\"strict\",\"colorway\":[\"#636efa\",\"#EF553B\",\"#00cc96\",\"#ab63fa\",\"#FFA15A\",\"#19d3f3\",\"#FF6692\",\"#B6E880\",\"#FF97FF\",\"#FECB52\"],\"font\":{\"color\":\"#2a3f5f\"},\"hovermode\":\"closest\",\"hoverlabel\":{\"align\":\"left\"},\"paper_bgcolor\":\"white\",\"plot_bgcolor\":\"#E5ECF6\",\"polar\":{\"bgcolor\":\"#E5ECF6\",\"angularaxis\":{\"gridcolor\":\"white\",\"linecolor\":\"white\",\"ticks\":\"\"},\"radialaxis\":{\"gridcolor\":\"white\",\"linecolor\":\"white\",\"ticks\":\"\"}},\"ternary\":{\"bgcolor\":\"#E5ECF6\",\"aaxis\":{\"gridcolor\":\"white\",\"linecolor\":\"white\",\"ticks\":\"\"},\"baxis\":{\"gridcolor\":\"white\",\"linecolor\":\"white\",\"ticks\":\"\"},\"caxis\":{\"gridcolor\":\"white\",\"linecolor\":\"white\",\"ticks\":\"\"}},\"coloraxis\":{\"colorbar\":{\"outlinewidth\":0,\"ticks\":\"\"}},\"colorscale\":{\"sequential\":[[0.0,\"#0d0887\"],[0.1111111111111111,\"#46039f\"],[0.2222222222222222,\"#7201a8\"],[0.3333333333333333,\"#9c179e\"],[0.4444444444444444,\"#bd3786\"],[0.5555555555555556,\"#d8576b\"],[0.6666666666666666,\"#ed7953\"],[0.7777777777777778,\"#fb9f3a\"],[0.8888888888888888,\"#fdca26\"],[1.0,\"#f0f921\"]],\"sequentialminus\":[[0.0,\"#0d0887\"],[0.1111111111111111,\"#46039f\"],[0.2222222222222222,\"#7201a8\"],[0.3333333333333333,\"#9c179e\"],[0.4444444444444444,\"#bd3786\"],[0.5555555555555556,\"#d8576b\"],[0.6666666666666666,\"#ed7953\"],[0.7777777777777778,\"#fb9f3a\"],[0.8888888888888888,\"#fdca26\"],[1.0,\"#f0f921\"]],\"diverging\":[[0,\"#8e0152\"],[0.1,\"#c51b7d\"],[0.2,\"#de77ae\"],[0.3,\"#f1b6da\"],[0.4,\"#fde0ef\"],[0.5,\"#f7f7f7\"],[0.6,\"#e6f5d0\"],[0.7,\"#b8e186\"],[0.8,\"#7fbc41\"],[0.9,\"#4d9221\"],[1,\"#276419\"]]},\"xaxis\":{\"gridcolor\":\"white\",\"linecolor\":\"white\",\"ticks\":\"\",\"title\":{\"standoff\":15},\"zerolinecolor\":\"white\",\"automargin\":true,\"zerolinewidth\":2},\"yaxis\":{\"gridcolor\":\"white\",\"linecolor\":\"white\",\"ticks\":\"\",\"title\":{\"standoff\":15},\"zerolinecolor\":\"white\",\"automargin\":true,\"zerolinewidth\":2},\"scene\":{\"xaxis\":{\"backgroundcolor\":\"#E5ECF6\",\"gridcolor\":\"white\",\"linecolor\":\"white\",\"showbackground\":true,\"ticks\":\"\",\"zerolinecolor\":\"white\",\"gridwidth\":2},\"yaxis\":{\"backgroundcolor\":\"#E5ECF6\",\"gridcolor\":\"white\",\"linecolor\":\"white\",\"showbackground\":true,\"ticks\":\"\",\"zerolinecolor\":\"white\",\"gridwidth\":2},\"zaxis\":{\"backgroundcolor\":\"#E5ECF6\",\"gridcolor\":\"white\",\"linecolor\":\"white\",\"showbackground\":true,\"ticks\":\"\",\"zerolinecolor\":\"white\",\"gridwidth\":2}},\"shapedefaults\":{\"line\":{\"color\":\"#2a3f5f\"}},\"annotationdefaults\":{\"arrowcolor\":\"#2a3f5f\",\"arrowhead\":0,\"arrowwidth\":1},\"geo\":{\"bgcolor\":\"white\",\"landcolor\":\"#E5ECF6\",\"subunitcolor\":\"white\",\"showland\":true,\"showlakes\":true,\"lakecolor\":\"white\"},\"title\":{\"x\":0.05},\"mapbox\":{\"style\":\"light\"}}},\"geo\":{\"domain\":{\"x\":[0.0,1.0],\"y\":[0.0,1.0]},\"center\":{}},\"coloraxis\":{\"colorbar\":{\"title\":{\"text\":\"Altitude\"}},\"colorscale\":[[0.0,\"#0d0887\"],[0.1111111111111111,\"#46039f\"],[0.2222222222222222,\"#7201a8\"],[0.3333333333333333,\"#9c179e\"],[0.4444444444444444,\"#bd3786\"],[0.5555555555555556,\"#d8576b\"],[0.6666666666666666,\"#ed7953\"],[0.7777777777777778,\"#fb9f3a\"],[0.8888888888888888,\"#fdca26\"],[1.0,\"#f0f921\"]]},\"legend\":{\"tracegroupgap\":0},\"title\":{\"text\":\"Average Altitude by Country\"}},                        {\"responsive\": true}                    ).then(function(){\n",
       "                            \n",
       "var gd = document.getElementById('e23beeae-c128-44ad-a564-bd5a860905d0');\n",
       "var x = new MutationObserver(function (mutations, observer) {{\n",
       "        var display = window.getComputedStyle(gd).display;\n",
       "        if (!display || display === 'none') {{\n",
       "            console.log([gd, 'removed!']);\n",
       "            Plotly.purge(gd);\n",
       "            observer.disconnect();\n",
       "        }}\n",
       "}});\n",
       "\n",
       "// Listen for the removal of the full notebook cells\n",
       "var notebookContainer = gd.closest('#notebook-container');\n",
       "if (notebookContainer) {{\n",
       "    x.observe(notebookContainer, {childList: true});\n",
       "}}\n",
       "\n",
       "// Listen for the clearing of the current output cell\n",
       "var outputEl = gd.closest('.output');\n",
       "if (outputEl) {{\n",
       "    x.observe(outputEl, {childList: true});\n",
       "}}\n",
       "\n",
       "                        })                };                });            </script>        </div>"
      ]
     },
     "metadata": {},
     "output_type": "display_data"
    },
    {
     "data": {
      "image/png": "[encoded data removed]",
      "text/plain": [
       "<Figure size 1000x500 with 1 Axes>"
      ]
     },
     "metadata": {},
     "output_type": "display_data"
    }
   ],
   "source": [
    "# Group the data by country and calculate the mean of Altitude\n",
    "df_grouped = df.groupby('Country of Origin')['Altitude'].mean().reset_index()\n",
    "\n",
    "# Create a Choropleth map\n",
    "fig = px.choropleth(df_grouped, \n",
    "                    locations='Country of Origin', \n",
    "                    locationmode='country names',\n",
    "                    color='Altitude',\n",
    "                    hover_name='Country of Origin',\n",
    "                    color_continuous_scale=px.colors.sequential.Plasma,\n",
    "                    title='Average Altitude by Country')\n",
    "\n",
    "fig.show()\n",
    "\n",
    "# Create a bar plot with gray color\n",
    "plt.figure(figsize=(10, 5))\n",
    "sns.barplot(x=df_grouped['Country of Origin'], y=df_grouped['Altitude'], color='gray')\n",
    "plt.title('Average Altitude by Country')\n",
    "plt.xlabel('Country of Origin')\n",
    "plt.ylabel('Average Altitude')\n",
    "plt.xticks(rotation=90)\n",
    "plt.show()"
   ]
  },
  {
   "cell_type": "code",
   "execution_count": 24,
   "id": "aea45f0d",
   "metadata": {},
   "outputs": [
    {
     "data": {
      "application/vnd.plotly.v1+json": {
       "config": {
        "plotlyServerURL": "https://plot.ly"
       },
       "data": [
        {
         "coloraxis": "coloraxis",
         "geo": "geo",
         "hovertemplate": "<b>%{hovertext}</b><br><br>Country of Origin=%{location}<br>Count=%{z}<extra></extra>",
         "hovertext": [
          "Taiwan",
          "Guatemala",
          "Colombia",
          "Honduras",
          "Thailand",
          "Ethiopia",
          "Brazil",
          "Costa Rica",
          "Nicaragua",
          "El Salvador",
          "Tanzania, United Republic Of",
          "United States (Hawaii)",
          "Mexico",
          "Peru",
          "Vietnam",
          "Uganda",
          "Indonesia",
          "Laos",
          "Panama",
          "Kenya",
          "Madagascar",
          "Myanmar"
         ],
         "locationmode": "country names",
         "locations": [
          "Taiwan",
          "Guatemala",
          "Colombia",
          "Honduras",
          "Thailand",
          "Ethiopia",
          "Brazil",
          "Costa Rica",
          "Nicaragua",
          "El Salvador",
          "Tanzania, United Republic Of",
          "United States (Hawaii)",
          "Mexico",
          "Peru",
          "Vietnam",
          "Uganda",
          "Indonesia",
          "Laos",
          "Panama",
          "Kenya",
          "Madagascar",
          "Myanmar"
         ],
         "name": "",
         "type": "choropleth",
         "z": [
          61,
          21,
          19,
          13,
          12,
          11,
          10,
          8,
          7,
          7,
          6,
          5,
          4,
          4,
          4,
          3,
          3,
          3,
          2,
          2,
          1,
          1
         ]
        }
       ],
       "layout": {
        "coloraxis": {
         "colorbar": {
          "title": {
           "text": "Count"
          }
         },
         "colorscale": [
          [
           0,
           "#0d0887"
          ],
          [
           0.1111111111111111,
           "#46039f"
          ],
          [
           0.2222222222222222,
           "#7201a8"
          ],
          [
           0.3333333333333333,
           "#9c179e"
          ],
          [
           0.4444444444444444,
           "#bd3786"
          ],
          [
           0.5555555555555556,
           "#d8576b"
          ],
          [
           0.6666666666666666,
           "#ed7953"
          ],
          [
           0.7777777777777778,
           "#fb9f3a"
          ],
          [
           0.8888888888888888,
           "#fdca26"
          ],
          [
           1,
           "#f0f921"
          ]
         ]
        },
        "geo": {
         "center": {},
         "domain": {
          "x": [
           0,
           1
          ],
          "y": [
           0,
           1
          ]
         }
        },
        "legend": {
         "tracegroupgap": 0
        },
        "template": {
         "data": {
          "bar": [
           {
            "error_x": {
             "color": "#2a3f5f"
            },
            "error_y": {
             "color": "#2a3f5f"
            },
            "marker": {
             "line": {
              "color": "#E5ECF6",
              "width": 0.5
             },
             "pattern": {
              "fillmode": "overlay",
              "size": 10,
              "solidity": 0.2
             }
            },
            "type": "bar"
           }
          ],
          "barpolar": [
           {
            "marker": {
             "line": {
              "color": "#E5ECF6",
              "width": 0.5
             },
             "pattern": {
              "fillmode": "overlay",
              "size": 10,
              "solidity": 0.2
             }
            },
            "type": "barpolar"
           }
          ],
          "carpet": [
           {
            "aaxis": {
             "endlinecolor": "#2a3f5f",
             "gridcolor": "white",
             "linecolor": "white",
             "minorgridcolor": "white",
             "startlinecolor": "#2a3f5f"
            },
            "baxis": {
             "endlinecolor": "#2a3f5f",
             "gridcolor": "white",
             "linecolor": "white",
             "minorgridcolor": "white",
             "startlinecolor": "#2a3f5f"
            },
            "type": "carpet"
           }
          ],
          "choropleth": [
           {
            "colorbar": {
             "outlinewidth": 0,
             "ticks": ""
            },
            "type": "choropleth"
           }
          ],
          "contour": [
           {
            "colorbar": {
             "outlinewidth": 0,
             "ticks": ""
            },
            "colorscale": [
             [
              0,
              "#0d0887"
             ],
             [
              0.1111111111111111,
              "#46039f"
             ],
             [
              0.2222222222222222,
              "#7201a8"
             ],
             [
              0.3333333333333333,
              "#9c179e"
             ],
             [
              0.4444444444444444,
              "#bd3786"
             ],
             [
              0.5555555555555556,
              "#d8576b"
             ],
             [
              0.6666666666666666,
              "#ed7953"
             ],
             [
              0.7777777777777778,
              "#fb9f3a"
             ],
             [
              0.8888888888888888,
              "#fdca26"
             ],
             [
              1,
              "#f0f921"
             ]
            ],
            "type": "contour"
           }
          ],
          "contourcarpet": [
           {
            "colorbar": {
             "outlinewidth": 0,
             "ticks": ""
            },
            "type": "contourcarpet"
           }
          ],
          "heatmap": [
           {
            "colorbar": {
             "outlinewidth": 0,
             "ticks": ""
            },
            "colorscale": [
             [
              0,
              "#0d0887"
             ],
             [
              0.1111111111111111,
              "#46039f"
             ],
             [
              0.2222222222222222,
              "#7201a8"
             ],
             [
              0.3333333333333333,
              "#9c179e"
             ],
             [
              0.4444444444444444,
              "#bd3786"
             ],
             [
              0.5555555555555556,
              "#d8576b"
             ],
             [
              0.6666666666666666,
              "#ed7953"
             ],
             [
              0.7777777777777778,
              "#fb9f3a"
             ],
             [
              0.8888888888888888,
              "#fdca26"
             ],
             [
              1,
              "#f0f921"
             ]
            ],
            "type": "heatmap"
           }
          ],
          "heatmapgl": [
           {
            "colorbar": {
             "outlinewidth": 0,
             "ticks": ""
            },
            "colorscale": [
             [
              0,
              "#0d0887"
             ],
             [
              0.1111111111111111,
              "#46039f"
             ],
             [
              0.2222222222222222,
              "#7201a8"
             ],
             [
              0.3333333333333333,
              "#9c179e"
             ],
             [
              0.4444444444444444,
              "#bd3786"
             ],
             [
              0.5555555555555556,
              "#d8576b"
             ],
             [
              0.6666666666666666,
              "#ed7953"
             ],
             [
              0.7777777777777778,
              "#fb9f3a"
             ],
             [
              0.8888888888888888,
              "#fdca26"
             ],
             [
              1,
              "#f0f921"
             ]
            ],
            "type": "heatmapgl"
           }
          ],
          "histogram": [
           {
            "marker": {
             "pattern": {
              "fillmode": "overlay",
              "size": 10,
              "solidity": 0.2
             }
            },
            "type": "histogram"
           }
          ],
          "histogram2d": [
           {
            "colorbar": {
             "outlinewidth": 0,
             "ticks": ""
            },
            "colorscale": [
             [
              0,
              "#0d0887"
             ],
             [
              0.1111111111111111,
              "#46039f"
             ],
             [
              0.2222222222222222,
              "#7201a8"
             ],
             [
              0.3333333333333333,
              "#9c179e"
             ],
             [
              0.4444444444444444,
              "#bd3786"
             ],
             [
              0.5555555555555556,
              "#d8576b"
             ],
             [
              0.6666666666666666,
              "#ed7953"
             ],
             [
              0.7777777777777778,
              "#fb9f3a"
             ],
             [
              0.8888888888888888,
              "#fdca26"
             ],
             [
              1,
              "#f0f921"
             ]
            ],
            "type": "histogram2d"
           }
          ],
          "histogram2dcontour": [
           {
            "colorbar": {
             "outlinewidth": 0,
             "ticks": ""
            },
            "colorscale": [
             [
              0,
              "#0d0887"
             ],
             [
              0.1111111111111111,
              "#46039f"
             ],
             [
              0.2222222222222222,
              "#7201a8"
             ],
             [
              0.3333333333333333,
              "#9c179e"
             ],
             [
              0.4444444444444444,
              "#bd3786"
             ],
             [
              0.5555555555555556,
              "#d8576b"
             ],
             [
              0.6666666666666666,
              "#ed7953"
             ],
             [
              0.7777777777777778,
              "#fb9f3a"
             ],
             [
              0.8888888888888888,
              "#fdca26"
             ],
             [
              1,
              "#f0f921"
             ]
            ],
            "type": "histogram2dcontour"
           }
          ],
          "mesh3d": [
           {
            "colorbar": {
             "outlinewidth": 0,
             "ticks": ""
            },
            "type": "mesh3d"
           }
          ],
          "parcoords": [
           {
            "line": {
             "colorbar": {
              "outlinewidth": 0,
              "ticks": ""
             }
            },
            "type": "parcoords"
           }
          ],
          "pie": [
           {
            "automargin": true,
            "type": "pie"
           }
          ],
          "scatter": [
           {
            "fillpattern": {
             "fillmode": "overlay",
             "size": 10,
             "solidity": 0.2
            },
            "type": "scatter"
           }
          ],
          "scatter3d": [
           {
            "line": {
             "colorbar": {
              "outlinewidth": 0,
              "ticks": ""
             }
            },
            "marker": {
             "colorbar": {
              "outlinewidth": 0,
              "ticks": ""
             }
            },
            "type": "scatter3d"
           }
          ],
          "scattercarpet": [
           {
            "marker": {
             "colorbar": {
              "outlinewidth": 0,
              "ticks": ""
             }
            },
            "type": "scattercarpet"
           }
          ],
          "scattergeo": [
           {
            "marker": {
             "colorbar": {
              "outlinewidth": 0,
              "ticks": ""
             }
            },
            "type": "scattergeo"
           }
          ],
          "scattergl": [
           {
            "marker": {
             "colorbar": {
              "outlinewidth": 0,
              "ticks": ""
             }
            },
            "type": "scattergl"
           }
          ],
          "scattermapbox": [
           {
            "marker": {
             "colorbar": {
              "outlinewidth": 0,
              "ticks": ""
             }
            },
            "type": "scattermapbox"
           }
          ],
          "scatterpolar": [
           {
            "marker": {
             "colorbar": {
              "outlinewidth": 0,
              "ticks": ""
             }
            },
            "type": "scatterpolar"
           }
          ],
          "scatterpolargl": [
           {
            "marker": {
             "colorbar": {
              "outlinewidth": 0,
              "ticks": ""
             }
            },
            "type": "scatterpolargl"
           }
          ],
          "scatterternary": [
           {
            "marker": {
             "colorbar": {
              "outlinewidth": 0,
              "ticks": ""
             }
            },
            "type": "scatterternary"
           }
          ],
          "surface": [
           {
            "colorbar": {
             "outlinewidth": 0,
             "ticks": ""
            },
            "colorscale": [
             [
              0,
              "#0d0887"
             ],
             [
              0.1111111111111111,
              "#46039f"
             ],
             [
              0.2222222222222222,
              "#7201a8"
             ],
             [
              0.3333333333333333,
              "#9c179e"
             ],
             [
              0.4444444444444444,
              "#bd3786"
             ],
             [
              0.5555555555555556,
              "#d8576b"
             ],
             [
              0.6666666666666666,
              "#ed7953"
             ],
             [
              0.7777777777777778,
              "#fb9f3a"
             ],
             [
              0.8888888888888888,
              "#fdca26"
             ],
             [
              1,
              "#f0f921"
             ]
            ],
            "type": "surface"
           }
          ],
          "table": [
           {
            "cells": {
             "fill": {
              "color": "#EBF0F8"
             },
             "line": {
              "color": "white"
             }
            },
            "header": {
             "fill": {
              "color": "#C8D4E3"
             },
             "line": {
              "color": "white"
             }
            },
            "type": "table"
           }
          ]
         },
         "layout": {
          "annotationdefaults": {
           "arrowcolor": "#2a3f5f",
           "arrowhead": 0,
           "arrowwidth": 1
          },
          "autotypenumbers": "strict",
          "coloraxis": {
           "colorbar": {
            "outlinewidth": 0,
            "ticks": ""
           }
          },
          "colorscale": {
           "diverging": [
            [
             0,
             "#8e0152"
            ],
            [
             0.1,
             "#c51b7d"
            ],
            [
             0.2,
             "#de77ae"
            ],
            [
             0.3,
             "#f1b6da"
            ],
            [
             0.4,
             "#fde0ef"
            ],
            [
             0.5,
             "#f7f7f7"
            ],
            [
             0.6,
             "#e6f5d0"
            ],
            [
             0.7,
             "#b8e186"
            ],
            [
             0.8,
             "#7fbc41"
            ],
            [
             0.9,
             "#4d9221"
            ],
            [
             1,
             "#276419"
            ]
           ],
           "sequential": [
            [
             0,
             "#0d0887"
            ],
            [
             0.1111111111111111,
             "#46039f"
            ],
            [
             0.2222222222222222,
             "#7201a8"
            ],
            [
             0.3333333333333333,
             "#9c179e"
            ],
            [
             0.4444444444444444,
             "#bd3786"
            ],
            [
             0.5555555555555556,
             "#d8576b"
            ],
            [
             0.6666666666666666,
             "#ed7953"
            ],
            [
             0.7777777777777778,
             "#fb9f3a"
            ],
            [
             0.8888888888888888,
             "#fdca26"
            ],
            [
             1,
             "#f0f921"
            ]
           ],
           "sequentialminus": [
            [
             0,
             "#0d0887"
            ],
            [
             0.1111111111111111,
             "#46039f"
            ],
            [
             0.2222222222222222,
             "#7201a8"
            ],
            [
             0.3333333333333333,
             "#9c179e"
            ],
            [
             0.4444444444444444,
             "#bd3786"
            ],
            [
             0.5555555555555556,
             "#d8576b"
            ],
            [
             0.6666666666666666,
             "#ed7953"
            ],
            [
             0.7777777777777778,
             "#fb9f3a"
            ],
            [
             0.8888888888888888,
             "#fdca26"
            ],
            [
             1,
             "#f0f921"
            ]
           ]
          },
          "colorway": [
           "#636efa",
           "#EF553B",
           "#00cc96",
           "#ab63fa",
           "#FFA15A",
           "#19d3f3",
           "#FF6692",
           "#B6E880",
           "#FF97FF",
           "#FECB52"
          ],
          "font": {
           "color": "#2a3f5f"
          },
          "geo": {
           "bgcolor": "white",
           "lakecolor": "white",
           "landcolor": "#E5ECF6",
           "showlakes": true,
           "showland": true,
           "subunitcolor": "white"
          },
          "hoverlabel": {
           "align": "left"
          },
          "hovermode": "closest",
          "mapbox": {
           "style": "light"
          },
          "paper_bgcolor": "white",
          "plot_bgcolor": "#E5ECF6",
          "polar": {
           "angularaxis": {
            "gridcolor": "white",
            "linecolor": "white",
            "ticks": ""
           },
           "bgcolor": "#E5ECF6",
           "radialaxis": {
            "gridcolor": "white",
            "linecolor": "white",
            "ticks": ""
           }
          },
          "scene": {
           "xaxis": {
            "backgroundcolor": "#E5ECF6",
            "gridcolor": "white",
            "gridwidth": 2,
            "linecolor": "white",
            "showbackground": true,
            "ticks": "",
            "zerolinecolor": "white"
           },
           "yaxis": {
            "backgroundcolor": "#E5ECF6",
            "gridcolor": "white",
            "gridwidth": 2,
            "linecolor": "white",
            "showbackground": true,
            "ticks": "",
            "zerolinecolor": "white"
           },
           "zaxis": {
            "backgroundcolor": "#E5ECF6",
            "gridcolor": "white",
            "gridwidth": 2,
            "linecolor": "white",
            "showbackground": true,
            "ticks": "",
            "zerolinecolor": "white"
           }
          },
          "shapedefaults": {
           "line": {
            "color": "#2a3f5f"
           }
          },
          "ternary": {
           "aaxis": {
            "gridcolor": "white",
            "linecolor": "white",
            "ticks": ""
           },
           "baxis": {
            "gridcolor": "white",
            "linecolor": "white",
            "ticks": ""
           },
           "bgcolor": "#E5ECF6",
           "caxis": {
            "gridcolor": "white",
            "linecolor": "white",
            "ticks": ""
           }
          },
          "title": {
           "x": 0.05
          },
          "xaxis": {
           "automargin": true,
           "gridcolor": "white",
           "linecolor": "white",
           "ticks": "",
           "title": {
            "standoff": 15
           },
           "zerolinecolor": "white",
           "zerolinewidth": 2
          },
          "yaxis": {
           "automargin": true,
           "gridcolor": "white",
           "linecolor": "white",
           "ticks": "",
           "title": {
            "standoff": 15
           },
           "zerolinecolor": "white",
           "zerolinewidth": 2
          }
         }
        },
        "title": {
         "text": "Count of Unique Countries"
        }
       }
      },
      "text/html": [
       "<div>                            <div id=\"d397819e-f2a9-4a4c-b5bb-bab1623f27ae\" class=\"plotly-graph-div\" style=\"height:525px; width:100%;\"></div>            <script type=\"text/javascript\">                require([\"plotly\"], function(Plotly) {                    window.PLOTLYENV=window.PLOTLYENV || {};                                    if (document.getElementById(\"d397819e-f2a9-4a4c-b5bb-bab1623f27ae\")) {                    Plotly.newPlot(                        \"d397819e-f2a9-4a4c-b5bb-bab1623f27ae\",                        [{\"coloraxis\":\"coloraxis\",\"geo\":\"geo\",\"hovertemplate\":\"<b>%{hovertext}</b><br><br>Country of Origin=%{location}<br>Count=%{z}<extra></extra>\",\"hovertext\":[\"Taiwan\",\"Guatemala\",\"Colombia\",\"Honduras\",\"Thailand\",\"Ethiopia\",\"Brazil\",\"Costa Rica\",\"Nicaragua\",\"El Salvador\",\"Tanzania, United Republic Of\",\"United States (Hawaii)\",\"Mexico\",\"Peru\",\"Vietnam\",\"Uganda\",\"Indonesia\",\"Laos\",\"Panama\",\"Kenya\",\"Madagascar\",\"Myanmar\"],\"locationmode\":\"country names\",\"locations\":[\"Taiwan\",\"Guatemala\",\"Colombia\",\"Honduras\",\"Thailand\",\"Ethiopia\",\"Brazil\",\"Costa Rica\",\"Nicaragua\",\"El Salvador\",\"Tanzania, United Republic Of\",\"United States (Hawaii)\",\"Mexico\",\"Peru\",\"Vietnam\",\"Uganda\",\"Indonesia\",\"Laos\",\"Panama\",\"Kenya\",\"Madagascar\",\"Myanmar\"],\"name\":\"\",\"z\":[61,21,19,13,12,11,10,8,7,7,6,5,4,4,4,3,3,3,2,2,1,1],\"type\":\"choropleth\"}],                        {\"template\":{\"data\":{\"histogram2dcontour\":[{\"type\":\"histogram2dcontour\",\"colorbar\":{\"outlinewidth\":0,\"ticks\":\"\"},\"colorscale\":[[0.0,\"#0d0887\"],[0.1111111111111111,\"#46039f\"],[0.2222222222222222,\"#7201a8\"],[0.3333333333333333,\"#9c179e\"],[0.4444444444444444,\"#bd3786\"],[0.5555555555555556,\"#d8576b\"],[0.6666666666666666,\"#ed7953\"],[0.7777777777777778,\"#fb9f3a\"],[0.8888888888888888,\"#fdca26\"],[1.0,\"#f0f921\"]]}],\"choropleth\":[{\"type\":\"choropleth\",\"colorbar\":{\"outlinewidth\":0,\"ticks\":\"\"}}],\"histogram2d\":[{\"type\":\"histogram2d\",\"colorbar\":{\"outlinewidth\":0,\"ticks\":\"\"},\"colorscale\":[[0.0,\"#0d0887\"],[0.1111111111111111,\"#46039f\"],[0.2222222222222222,\"#7201a8\"],[0.3333333333333333,\"#9c179e\"],[0.4444444444444444,\"#bd3786\"],[0.5555555555555556,\"#d8576b\"],[0.6666666666666666,\"#ed7953\"],[0.7777777777777778,\"#fb9f3a\"],[0.8888888888888888,\"#fdca26\"],[1.0,\"#f0f921\"]]}],\"heatmap\":[{\"type\":\"heatmap\",\"colorbar\":{\"outlinewidth\":0,\"ticks\":\"\"},\"colorscale\":[[0.0,\"#0d0887\"],[0.1111111111111111,\"#46039f\"],[0.2222222222222222,\"#7201a8\"],[0.3333333333333333,\"#9c179e\"],[0.4444444444444444,\"#bd3786\"],[0.5555555555555556,\"#d8576b\"],[0.6666666666666666,\"#ed7953\"],[0.7777777777777778,\"#fb9f3a\"],[0.8888888888888888,\"#fdca26\"],[1.0,\"#f0f921\"]]}],\"heatmapgl\":[{\"type\":\"heatmapgl\",\"colorbar\":{\"outlinewidth\":0,\"ticks\":\"\"},\"colorscale\":[[0.0,\"#0d0887\"],[0.1111111111111111,\"#46039f\"],[0.2222222222222222,\"#7201a8\"],[0.3333333333333333,\"#9c179e\"],[0.4444444444444444,\"#bd3786\"],[0.5555555555555556,\"#d8576b\"],[0.6666666666666666,\"#ed7953\"],[0.7777777777777778,\"#fb9f3a\"],[0.8888888888888888,\"#fdca26\"],[1.0,\"#f0f921\"]]}],\"contourcarpet\":[{\"type\":\"contourcarpet\",\"colorbar\":{\"outlinewidth\":0,\"ticks\":\"\"}}],\"contour\":[{\"type\":\"contour\",\"colorbar\":{\"outlinewidth\":0,\"ticks\":\"\"},\"colorscale\":[[0.0,\"#0d0887\"],[0.1111111111111111,\"#46039f\"],[0.2222222222222222,\"#7201a8\"],[0.3333333333333333,\"#9c179e\"],[0.4444444444444444,\"#bd3786\"],[0.5555555555555556,\"#d8576b\"],[0.6666666666666666,\"#ed7953\"],[0.7777777777777778,\"#fb9f3a\"],[0.8888888888888888,\"#fdca26\"],[1.0,\"#f0f921\"]]}],\"surface\":[{\"type\":\"surface\",\"colorbar\":{\"outlinewidth\":0,\"ticks\":\"\"},\"colorscale\":[[0.0,\"#0d0887\"],[0.1111111111111111,\"#46039f\"],[0.2222222222222222,\"#7201a8\"],[0.3333333333333333,\"#9c179e\"],[0.4444444444444444,\"#bd3786\"],[0.5555555555555556,\"#d8576b\"],[0.6666666666666666,\"#ed7953\"],[0.7777777777777778,\"#fb9f3a\"],[0.8888888888888888,\"#fdca26\"],[1.0,\"#f0f921\"]]}],\"mesh3d\":[{\"type\":\"mesh3d\",\"colorbar\":{\"outlinewidth\":0,\"ticks\":\"\"}}],\"scatter\":[{\"fillpattern\":{\"fillmode\":\"overlay\",\"size\":10,\"solidity\":0.2},\"type\":\"scatter\"}],\"parcoords\":[{\"type\":\"parcoords\",\"line\":{\"colorbar\":{\"outlinewidth\":0,\"ticks\":\"\"}}}],\"scatterpolargl\":[{\"type\":\"scatterpolargl\",\"marker\":{\"colorbar\":{\"outlinewidth\":0,\"ticks\":\"\"}}}],\"bar\":[{\"error_x\":{\"color\":\"#2a3f5f\"},\"error_y\":{\"color\":\"#2a3f5f\"},\"marker\":{\"line\":{\"color\":\"#E5ECF6\",\"width\":0.5},\"pattern\":{\"fillmode\":\"overlay\",\"size\":10,\"solidity\":0.2}},\"type\":\"bar\"}],\"scattergeo\":[{\"type\":\"scattergeo\",\"marker\":{\"colorbar\":{\"outlinewidth\":0,\"ticks\":\"\"}}}],\"scatterpolar\":[{\"type\":\"scatterpolar\",\"marker\":{\"colorbar\":{\"outlinewidth\":0,\"ticks\":\"\"}}}],\"histogram\":[{\"marker\":{\"pattern\":{\"fillmode\":\"overlay\",\"size\":10,\"solidity\":0.2}},\"type\":\"histogram\"}],\"scattergl\":[{\"type\":\"scattergl\",\"marker\":{\"colorbar\":{\"outlinewidth\":0,\"ticks\":\"\"}}}],\"scatter3d\":[{\"type\":\"scatter3d\",\"line\":{\"colorbar\":{\"outlinewidth\":0,\"ticks\":\"\"}},\"marker\":{\"colorbar\":{\"outlinewidth\":0,\"ticks\":\"\"}}}],\"scattermapbox\":[{\"type\":\"scattermapbox\",\"marker\":{\"colorbar\":{\"outlinewidth\":0,\"ticks\":\"\"}}}],\"scatterternary\":[{\"type\":\"scatterternary\",\"marker\":{\"colorbar\":{\"outlinewidth\":0,\"ticks\":\"\"}}}],\"scattercarpet\":[{\"type\":\"scattercarpet\",\"marker\":{\"colorbar\":{\"outlinewidth\":0,\"ticks\":\"\"}}}],\"carpet\":[{\"aaxis\":{\"endlinecolor\":\"#2a3f5f\",\"gridcolor\":\"white\",\"linecolor\":\"white\",\"minorgridcolor\":\"white\",\"startlinecolor\":\"#2a3f5f\"},\"baxis\":{\"endlinecolor\":\"#2a3f5f\",\"gridcolor\":\"white\",\"linecolor\":\"white\",\"minorgridcolor\":\"white\",\"startlinecolor\":\"#2a3f5f\"},\"type\":\"carpet\"}],\"table\":[{\"cells\":{\"fill\":{\"color\":\"#EBF0F8\"},\"line\":{\"color\":\"white\"}},\"header\":{\"fill\":{\"color\":\"#C8D4E3\"},\"line\":{\"color\":\"white\"}},\"type\":\"table\"}],\"barpolar\":[{\"marker\":{\"line\":{\"color\":\"#E5ECF6\",\"width\":0.5},\"pattern\":{\"fillmode\":\"overlay\",\"size\":10,\"solidity\":0.2}},\"type\":\"barpolar\"}],\"pie\":[{\"automargin\":true,\"type\":\"pie\"}]},\"layout\":{\"autotypenumbers\":\"strict\",\"colorway\":[\"#636efa\",\"#EF553B\",\"#00cc96\",\"#ab63fa\",\"#FFA15A\",\"#19d3f3\",\"#FF6692\",\"#B6E880\",\"#FF97FF\",\"#FECB52\"],\"font\":{\"color\":\"#2a3f5f\"},\"hovermode\":\"closest\",\"hoverlabel\":{\"align\":\"left\"},\"paper_bgcolor\":\"white\",\"plot_bgcolor\":\"#E5ECF6\",\"polar\":{\"bgcolor\":\"#E5ECF6\",\"angularaxis\":{\"gridcolor\":\"white\",\"linecolor\":\"white\",\"ticks\":\"\"},\"radialaxis\":{\"gridcolor\":\"white\",\"linecolor\":\"white\",\"ticks\":\"\"}},\"ternary\":{\"bgcolor\":\"#E5ECF6\",\"aaxis\":{\"gridcolor\":\"white\",\"linecolor\":\"white\",\"ticks\":\"\"},\"baxis\":{\"gridcolor\":\"white\",\"linecolor\":\"white\",\"ticks\":\"\"},\"caxis\":{\"gridcolor\":\"white\",\"linecolor\":\"white\",\"ticks\":\"\"}},\"coloraxis\":{\"colorbar\":{\"outlinewidth\":0,\"ticks\":\"\"}},\"colorscale\":{\"sequential\":[[0.0,\"#0d0887\"],[0.1111111111111111,\"#46039f\"],[0.2222222222222222,\"#7201a8\"],[0.3333333333333333,\"#9c179e\"],[0.4444444444444444,\"#bd3786\"],[0.5555555555555556,\"#d8576b\"],[0.6666666666666666,\"#ed7953\"],[0.7777777777777778,\"#fb9f3a\"],[0.8888888888888888,\"#fdca26\"],[1.0,\"#f0f921\"]],\"sequentialminus\":[[0.0,\"#0d0887\"],[0.1111111111111111,\"#46039f\"],[0.2222222222222222,\"#7201a8\"],[0.3333333333333333,\"#9c179e\"],[0.4444444444444444,\"#bd3786\"],[0.5555555555555556,\"#d8576b\"],[0.6666666666666666,\"#ed7953\"],[0.7777777777777778,\"#fb9f3a\"],[0.8888888888888888,\"#fdca26\"],[1.0,\"#f0f921\"]],\"diverging\":[[0,\"#8e0152\"],[0.1,\"#c51b7d\"],[0.2,\"#de77ae\"],[0.3,\"#f1b6da\"],[0.4,\"#fde0ef\"],[0.5,\"#f7f7f7\"],[0.6,\"#e6f5d0\"],[0.7,\"#b8e186\"],[0.8,\"#7fbc41\"],[0.9,\"#4d9221\"],[1,\"#276419\"]]},\"xaxis\":{\"gridcolor\":\"white\",\"linecolor\":\"white\",\"ticks\":\"\",\"title\":{\"standoff\":15},\"zerolinecolor\":\"white\",\"automargin\":true,\"zerolinewidth\":2},\"yaxis\":{\"gridcolor\":\"white\",\"linecolor\":\"white\",\"ticks\":\"\",\"title\":{\"standoff\":15},\"zerolinecolor\":\"white\",\"automargin\":true,\"zerolinewidth\":2},\"scene\":{\"xaxis\":{\"backgroundcolor\":\"#E5ECF6\",\"gridcolor\":\"white\",\"linecolor\":\"white\",\"showbackground\":true,\"ticks\":\"\",\"zerolinecolor\":\"white\",\"gridwidth\":2},\"yaxis\":{\"backgroundcolor\":\"#E5ECF6\",\"gridcolor\":\"white\",\"linecolor\":\"white\",\"showbackground\":true,\"ticks\":\"\",\"zerolinecolor\":\"white\",\"gridwidth\":2},\"zaxis\":{\"backgroundcolor\":\"#E5ECF6\",\"gridcolor\":\"white\",\"linecolor\":\"white\",\"showbackground\":true,\"ticks\":\"\",\"zerolinecolor\":\"white\",\"gridwidth\":2}},\"shapedefaults\":{\"line\":{\"color\":\"#2a3f5f\"}},\"annotationdefaults\":{\"arrowcolor\":\"#2a3f5f\",\"arrowhead\":0,\"arrowwidth\":1},\"geo\":{\"bgcolor\":\"white\",\"landcolor\":\"#E5ECF6\",\"subunitcolor\":\"white\",\"showland\":true,\"showlakes\":true,\"lakecolor\":\"white\"},\"title\":{\"x\":0.05},\"mapbox\":{\"style\":\"light\"}}},\"geo\":{\"domain\":{\"x\":[0.0,1.0],\"y\":[0.0,1.0]},\"center\":{}},\"coloraxis\":{\"colorbar\":{\"title\":{\"text\":\"Count\"}},\"colorscale\":[[0.0,\"#0d0887\"],[0.1111111111111111,\"#46039f\"],[0.2222222222222222,\"#7201a8\"],[0.3333333333333333,\"#9c179e\"],[0.4444444444444444,\"#bd3786\"],[0.5555555555555556,\"#d8576b\"],[0.6666666666666666,\"#ed7953\"],[0.7777777777777778,\"#fb9f3a\"],[0.8888888888888888,\"#fdca26\"],[1.0,\"#f0f921\"]]},\"legend\":{\"tracegroupgap\":0},\"title\":{\"text\":\"Count of Unique Countries\"}},                        {\"responsive\": true}                    ).then(function(){\n",
       "                            \n",
       "var gd = document.getElementById('d397819e-f2a9-4a4c-b5bb-bab1623f27ae');\n",
       "var x = new MutationObserver(function (mutations, observer) {{\n",
       "        var display = window.getComputedStyle(gd).display;\n",
       "        if (!display || display === 'none') {{\n",
       "            console.log([gd, 'removed!']);\n",
       "            Plotly.purge(gd);\n",
       "            observer.disconnect();\n",
       "        }}\n",
       "}});\n",
       "\n",
       "// Listen for the removal of the full notebook cells\n",
       "var notebookContainer = gd.closest('#notebook-container');\n",
       "if (notebookContainer) {{\n",
       "    x.observe(notebookContainer, {childList: true});\n",
       "}}\n",
       "\n",
       "// Listen for the clearing of the current output cell\n",
       "var outputEl = gd.closest('.output');\n",
       "if (outputEl) {{\n",
       "    x.observe(outputEl, {childList: true});\n",
       "}}\n",
       "\n",
       "                        })                };                });            </script>        </div>"
      ]
     },
     "metadata": {},
     "output_type": "display_data"
    },
    {
     "data": {
      "image/png": "[encoded data removed]",
      "text/plain": [
       "<Figure size 1000x500 with 1 Axes>"
      ]
     },
     "metadata": {},
     "output_type": "display_data"
    }
   ],
   "source": [
    "# Count the unique occurrences of each country\n",
    "df_count = df['Country of Origin'].value_counts().reset_index()\n",
    "df_count.columns = ['Country of Origin', 'Count']\n",
    "\n",
    "# Create a choropleth map\n",
    "fig = px.choropleth(df_count, \n",
    "                    locations='Country of Origin', \n",
    "                    locationmode='country names',\n",
    "                    color='Count',\n",
    "                    hover_name='Country of Origin',\n",
    "                    color_continuous_scale=px.colors.sequential.Plasma,\n",
    "                    title='Count of Unique Countries')\n",
    "\n",
    "fig.show()\n",
    "\n",
    "# Create a bar plot\n",
    "plt.figure(figsize=(10, 5))\n",
    "sns.barplot(x=df_count['Country of Origin'], y=df_count['Count'], color='gray')\n",
    "plt.title('Count of Unique Countries')\n",
    "plt.xlabel('Country of Origin')\n",
    "plt.ylabel('Count')\n",
    "plt.xticks(rotation=90)\n",
    "plt.show()"
   ]
  },
  {
   "cell_type": "markdown",
   "id": "e86a3505",
   "metadata": {},
   "source": [
    "# <span style=\"color:#E888BB; font-size: 1%;\">3 | CORRELATION </span>\n",
    "<div style=\"padding: 30px;color:white;margin:10;font-size:150%;text-align:left;display:fill;border-radius:10px;background-color:#F1C40F;overflow:hidden;background-image: url(https://images.pexels.com/photos/942802/pexels-photo-942802.jpeg?auto=compress&cs=tinysrgb&w=1260&h=750&dpr=1)\"><b><span style='color:white'>3 | CORRELAÇÃO </span></b> </div>\n",
    "\n",
    "## <div style=\"padding: 20px;color:white;margin:10;font-size:90%;text-align:left;display:fill;border-radius:10px;overflow:hidden;background-image: url(https://w0.peakpx.com/wallpaper/957/661/HD-wallpaper-white-marble-white-stone-texture-marble-stone-background-white-stone.jpg)\"><b><span style='color:black'> 1.Lidando com colunas categóricas e numéricas</span></b> </div>\n",
    "    \n",
    "### <b>I <span style='color:#85BB65'>|</span> Selecionar colunas</b> "
   ]
  },
  {
   "cell_type": "code",
   "execution_count": 25,
   "id": "e48a2baf",
   "metadata": {},
   "outputs": [],
   "source": [
    "data = df.copy()\n",
    "categorical_columns = ['Processing Method']\n",
    "numerical_columns = ['Altitude', 'Aroma', 'Flavor', 'Aftertaste', 'Acidity', 'Body', 'Balance', 'Overall', 'Total Cup Points', 'Moisture Percentage', 'Category One Defects', 'Quakers', 'Category Two Defects', 'Coffee Age']\n",
    "columns_to_drop = ['Country of Origin', 'Color']\n",
    "data.drop(columns_to_drop, axis=1, inplace=True)\n",
    "dummy_variables = pd.get_dummies(data, columns=categorical_columns, drop_first=False)"
   ]
  },
  {
   "cell_type": "markdown",
   "id": "1b860018",
   "metadata": {},
   "source": [
    "### <b>II <span style='color:#85BB65'>|</span> Pré-processamento e dimensionamento dos dados</b>"
   ]
  },
  {
   "cell_type": "code",
   "execution_count": 26,
   "id": "9b6a9019",
   "metadata": {},
   "outputs": [],
   "source": [
    "scaler = StandardScaler()\n",
    "\n",
    "# Scale the numerical columns\n",
    "scaled_numerical = scaler.fit_transform(data[numerical_columns])\n",
    "\n",
    "# Convert the scaled numerical columns\n",
    "scaled_numerical_df = pd.DataFrame(scaled_numerical, columns=numerical_columns)"
   ]
  },
  {
   "cell_type": "markdown",
   "id": "d722b359",
   "metadata": {},
   "source": [
    "## <div style=\"padding: 20px;color:white;margin:10;font-size:90%;text-align:left;display:fill;border-radius:10px;overflow:hidden;background-image: url(https://w0.peakpx.com/wallpaper/957/661/HD-wallpaper-white-marble-white-stone-texture-marble-stone-background-white-stone.jpg)\"><b><span style='color:black'> 2.Como lidar com variáveis categóricas</span></b> </div>\n",
    "\n",
    "### <b>III <span style='color:#85BB65'>|</span> Criar variáveis fictícias</b> "
   ]
  },
  {
   "cell_type": "code",
   "execution_count": 27,
   "id": "ea141e44",
   "metadata": {},
   "outputs": [],
   "source": [
    "# Drop the original numerical columns\n",
    "dummy_variables = dummy_variables.drop(numerical_columns, axis=1)\n",
    "\n",
    "# Concatenate the dummy variables and scaled numerical columns\n",
    "processed_df = pd.concat([dummy_variables, scaled_numerical_df], axis=1)"
   ]
  },
  {
   "cell_type": "markdown",
   "id": "e6637b21",
   "metadata": {},
   "source": [
    "### <b>IV <span style='color:#85BB65'>|</span> Matriz de correlação com variáveis ​​fictícias</b>"
   ]
  },
  {
   "cell_type": "code",
   "execution_count": 28,
   "id": "3ef7a3b4",
   "metadata": {
    "scrolled": false
   },
   "outputs": [
    {
     "data": {
      "image/png": "[encoded data removed]",
      "text/plain": [
       "<Figure size 1500x1000 with 2 Axes>"
      ]
     },
     "metadata": {},
     "output_type": "display_data"
    },
    {
     "data": {
      "image/png": "[encoded data removed]",
      "text/plain": [
       "<Figure size 640x480 with 2 Axes>"
      ]
     },
     "metadata": {},
     "output_type": "display_data"
    }
   ],
   "source": [
    "correlation_matrix = processed_df.corr()\n",
    "\n",
    "#Graph I.\n",
    "plt.figure(figsize=(15, 10))\n",
    "sns.heatmap(correlation_matrix, annot=True, cmap='coolwarm', linewidths=0.5, fmt='.2f')\n",
    "plt.title(\"Correlation Matrix Heatmap\")\n",
    "plt.show()\n",
    "\n",
    "corr = processed_df.corr()\n",
    "target_corr = corr['Total Cup Points'].drop('Total Cup Points')\n",
    "\n",
    "# Sort correlation values in descending order\n",
    "target_corr_sorted = target_corr.sort_values(ascending=False)\n",
    "\n",
    "#Graph II\n",
    "# Create a heatmap of the correlations with the target column\n",
    "sns.set(font_scale=0.8)\n",
    "sns.set_style(\"white\")\n",
    "sns.set_palette(\"PuBuGn_d\")\n",
    "sns.heatmap(target_corr_sorted.to_frame(), cmap=\"coolwarm\", annot=True, fmt='.2f')\n",
    "plt.title('Correlation with Total Cup Points')\n",
    "plt.show()"
   ]
  },
  {
   "cell_type": "markdown",
   "id": "9e9fb39b",
   "metadata": {},
   "source": [
    "**Interpretando o resultado:**\n",
    "\n",
    "1. No geral, `Sabor`, `Retrogosto`, `Equilíbrio`, `Acidez`, `Aroma`, `Corpo`: Estas variáveis têm fortes correlações positivas com 'Total Cup Points'. Isso significa que à medida que essas variáveis aumentam, o 'Total Cup Points' também tende a aumentar. Por exemplo, uma classificação `'Geral'` ou 'Sabor' mais alta está associada a uma pontuação mais alta de 'Total de Pontos da Copa'.\n",
    "\n",
    "2. `Método de Processamento_Descascado natural / mel, Altitude, Idade do Café, Método de Processamento_Lavado / Úmido`: Essas variáveis têm correlações positivas fracas com 'Total de Pontos de Copa'. Isso sugere que essas variáveis podem ter um leve efeito positivo no 'Total Cup Points', mas a relação não é tão forte quanto as variáveis anteriores.\n",
    "\n",
    "3. 'Porcentagem de Umidade', 'Defeitos de Categoria Um': Essas variáveis têm correlações negativas fracas com 'Total de Pontos de Copa'. Isso significa que, à medida que essas variáveis aumentam, o 'Total Cup Points' tende a diminuir ligeiramente. No entanto, a correlação é fraca, portanto essas variáveis podem não ter um impacto significativo no 'Total de pontos da Copa'.\n",
    "\n",
    "4. `Método de Processamento_Natural / Seco`, `Defeitos de Categoria Dois`, `Quakers`: Estas variáveis têm correlações negativas moderadas com 'Total Cup Points'. Isso sugere que, à medida que essas variáveis aumentam, o 'Total Cup Points' tende a diminuir. Por exemplo, um número maior de 'Defeitos de Categoria Dois' ou 'Quakers' está associado a uma pontuação mais baixa de 'Total de Pontos na Copa'.\n",
    "\n",
    "# <span style=\"color:#E888BB; font-size: 1%;\">4 | PREDICTIVE ANALYSIS</span>\n",
    "<div style=\"padding: 30px;color:white;margin:10;font-size:150%;text-align:left;display:fill;border-radius:10px;background-color:#F1C40F;overflow:hidden;background-image: url(https://images.pexels.com/photos/942802/pexels-photo-942802.jpeg?auto=compress&cs=tinysrgb&w=1260&h=750&dpr=1)\"><b><span style='color:white'>4 | ANÁLISE PREDITIVA</span></b> </div>\n",
    "\n",
    "## <div style=\"padding: 20px;color:white;margin:10;font-size:90%;text-align:left;display:fill;border-radius:10px;overflow:hidden;background-image: url(https://w0.peakpx.com/wallpaper/957/661/HD-wallpaper-white-marble-white-stone-texture-marble-stone-background-white-stone.jpg)\"><b><span style='color:black'> 1. Análise de agrupamento </span></b> </div>\n",
    "\n",
    "### <b><span style='color:#85BB65'>|</span> Pré-processando</b> \n",
    "\n",
    "<br>\n",
    "\n",
    "A etapa de pré-processamento envolveu a codificação de variáveis categóricas e escala MinMax para variáveis ​​numéricas:\n",
    "\n",
    "#### **<span style='color:#85BB65'>Codificação do rótulo:</span>** \n",
    " A codificação de rótulos foi aplicada aos recursos categóricos. As categorias de cada recurso receberam um rótulo numérico exclusivo.\n",
    "\n",
    "#### **<span style='color:#85BB65'>Escalonamento MinMax:</span>** \n",
    " A escala MinMax foi aplicada aos recursos numéricos. Esse método de dimensionamento transforma os dados para caber em um intervalo específico, geralmente (0, 1). Neste caso, numeric_features foram escalados."
   ]
  },
  {
   "cell_type": "code",
   "execution_count": 29,
   "id": "6cd768ef",
   "metadata": {},
   "outputs": [
    {
     "name": "stderr",
     "output_type": "stream",
     "text": [
      "C:\\Users\\paulo\\anaconda3\\lib\\site-packages\\sklearn\\manifold\\_t_sne.py:780: FutureWarning:\n",
      "\n",
      "The default initialization in TSNE will change from 'random' to 'pca' in 1.2.\n",
      "\n"
     ]
    },
    {
     "data": {
      "application/vnd.plotly.v1+json": {
       "config": {
        "plotlyServerURL": "https://plot.ly"
       },
       "data": [
        {
         "hovertemplate": "Dim_1=%{x}<br>Dim_2=%{y}<br>Total Cup Points=%{marker.color}<extra></extra>",
         "legendgroup": "",
         "marker": {
          "color": [
           89.33,
           87.58,
           87.42,
           87.17,
           87.08,
           87,
           86.92,
           86.75,
           86.67,
           86.5,
           86.25,
           86.25,
           86.25,
           86.17,
           86.17,
           86.08,
           86.08,
           86.08,
           85.92,
           85.83,
           85.75,
           85.67,
           85.67,
           85.67,
           85.58,
           85.5,
           85.5,
           85.5,
           85.5,
           85.42,
           85.42,
           85.33,
           85.33,
           85.33,
           85.33,
           85.25,
           85.25,
           85.25,
           85.25,
           85.17,
           85.08,
           85.08,
           85.08,
           85,
           85,
           85,
           85,
           85,
           84.92,
           84.92,
           84.83,
           84.83,
           84.83,
           84.83,
           84.83,
           84.75,
           84.75,
           84.75,
           84.75,
           84.67,
           84.67,
           84.67,
           84.58,
           84.58,
           84.58,
           84.58,
           84.58,
           84.58,
           84.5,
           84.5,
           84.5,
           84.5,
           84.5,
           84.42,
           84.33,
           84.33,
           84.33,
           84.33,
           84.33,
           84.25,
           84.25,
           84.25,
           84.17,
           84.08,
           84.08,
           84.08,
           84.08,
           84,
           84,
           84,
           84,
           84,
           84,
           83.92,
           83.92,
           83.92,
           83.92,
           83.83,
           83.83,
           83.83,
           83.83,
           83.83,
           83.83,
           83.75,
           83.75,
           83.67,
           83.67,
           83.67,
           83.67,
           83.67,
           83.58,
           83.58,
           83.58,
           83.5,
           83.5,
           83.5,
           83.5,
           83.42,
           83.42,
           83.42,
           83.33,
           83.33,
           83.33,
           83.33,
           83.33,
           83.33,
           83.33,
           83.33,
           83.25,
           83.25,
           83.25,
           83.25,
           83.25,
           83.25,
           83.17,
           83.17,
           83.08,
           83.08,
           83.08,
           83,
           82.92,
           82.92,
           82.92,
           82.92,
           82.83,
           82.83,
           82.83,
           82.75,
           82.75,
           82.67,
           82.67,
           82.67,
           82.67,
           82.58,
           82.58,
           82.58,
           82.5,
           82.5,
           82.5,
           82.5,
           82.5,
           82.5,
           82.5,
           82.42,
           82.33,
           82.33,
           82.33,
           82.33,
           82.25,
           82.17,
           82.17,
           82.17,
           82.08,
           82.08,
           82,
           82,
           82,
           82,
           82,
           81.92,
           81.92,
           81.83,
           81.83,
           81.83,
           81.75,
           81.75,
           81.67,
           81.58,
           81.58,
           81.5,
           81.42,
           81.33,
           81.17,
           81.17,
           81,
           80.83,
           80.5,
           80.42,
           80.42,
           80.33,
           80.33,
           80.17,
           80.08,
           80,
           79.67,
           78.08,
           78
          ],
          "coloraxis": "coloraxis",
          "symbol": "circle"
         },
         "mode": "markers",
         "name": "",
         "orientation": "v",
         "showlegend": false,
         "type": "scatter",
         "x": [
          -6.581632137298584,
          6.188565731048584,
          -2.2409636974334717,
          -5.854580402374268,
          -3.5755133628845215,
          -3.6586740016937256,
          3.0064592361450195,
          0.717278242111206,
          2.076404571533203,
          2.6687417030334473,
          -4.22739839553833,
          -3.312101125717163,
          2.9922826290130615,
          -3.0354340076446533,
          -6.33540678024292,
          3.0099265575408936,
          -4.592064380645752,
          0.5015401840209961,
          3.989201784133911,
          2.6892006397247314,
          -2.7788121700286865,
          3.0233891010284424,
          5.510846138000488,
          -6.714428424835205,
          5.806375026702881,
          -6.661008834838867,
          2.758965492248535,
          2.7881879806518555,
          6.121421813964844,
          4.930784702301025,
          5.801875114440918,
          2.804525375366211,
          2.816298246383667,
          -4.602499485015869,
          -3.1190173625946045,
          -4.262425899505615,
          5.8024749755859375,
          3.153839588165283,
          -3.631211280822754,
          5.827950954437256,
          3.986603021621704,
          2.1495490074157715,
          1.4936161041259766,
          4.550264835357666,
          2.786689043045044,
          0.7191929817199707,
          -3.8259286880493164,
          -3.7268271446228027,
          -3.848623275756836,
          2.795635223388672,
          3.990034580230713,
          -2.350816488265991,
          1.6639890670776367,
          2.739732027053833,
          2.1517324447631836,
          3.229938268661499,
          -6.609477519989014,
          5.459249973297119,
          6.115071773529053,
          -3.844935178756714,
          -2.8371312618255615,
          -5.813172817230225,
          2.1589889526367188,
          3.2738897800445557,
          1.315234899520874,
          2.79840350151062,
          3.2274274826049805,
          5.327943801879883,
          -5.816383361816406,
          5.796080112457275,
          -3.5234427452087402,
          -4.662124156951904,
          2.867859125137329,
          5.801637172698975,
          -3.913837194442749,
          0.7131900191307068,
          -3.123002529144287,
          -5.594256401062012,
          -6.25284481048584,
          -2.1772286891937256,
          -3.8818650245666504,
          -1.8717644214630127,
          -3.538194417953491,
          -4.17855167388916,
          2.1205697059631348,
          1.0219413042068481,
          -3.9956471920013428,
          -4.197537899017334,
          -3.52748703956604,
          2.7634425163269043,
          -4.6594648361206055,
          2.768942356109619,
          -6.2545294761657715,
          -5.8044915199279785,
          -4.567913055419922,
          -4.201040267944336,
          0.5574078559875488,
          -6.242219924926758,
          -4.230372905731201,
          -4.641134738922119,
          -4.708127021789551,
          -6.275313377380371,
          4.922729015350342,
          -5.750491619110107,
          0.8555034399032593,
          -5.747239112854004,
          5.787259578704834,
          0.8425130248069763,
          2.1364691257476807,
          -4.600243091583252,
          3.07674503326416,
          3.0777640342712402,
          -4.274930000305176,
          -3.619734287261963,
          -7.231453895568848,
          4.058494567871094,
          -4.3142499923706055,
          4.055830955505371,
          4.535557270050049,
          6.1192851066589355,
          4.5391716957092285,
          2.116474151611328,
          -4.282079219818115,
          3.1080026626586914,
          -5.747377872467041,
          -5.773175239562988,
          6.111965179443359,
          0.6006291508674622,
          2.7755072116851807,
          -6.572543144226074,
          3.099513292312622,
          -6.687846660614014,
          -2.379711627960205,
          -3.808126926422119,
          2.097158908843994,
          6.113675594329834,
          -2.8355274200439453,
          -3.870290517807007,
          -3.6653997898101807,
          -7.235013008117676,
          6.122467994689941,
          0.8631858825683594,
          -5.74683141708374,
          0.5003355145454407,
          -3.84405255317688,
          0.6001505255699158,
          5.151205539703369,
          1.2989598512649536,
          -5.06928825378418,
          -6.222138404846191,
          3.5568723678588867,
          0.8659713268280029,
          -3.8586013317108154,
          3.2955050468444824,
          6.130007266998291,
          1.3105093240737915,
          -5.241206169128418,
          1.6158227920532227,
          -7.368656635284424,
          6.002079486846924,
          0.7242318987846375,
          -3.9150707721710205,
          3.2908332347869873,
          5.153919219970703,
          5.7703704833984375,
          -5.246500492095947,
          -6.890368461608887,
          3.3315165042877197,
          1.5734378099441528,
          4.921635150909424,
          -3.374138593673706,
          -3.9344911575317383,
          5.79064416885376,
          2.011571168899536,
          3.380420446395874,
          4.057730197906494,
          -5.728518009185791,
          -2.1646065711975098,
          -2.351433277130127,
          1.5620090961456299,
          -4.615268230438232,
          3.3947060108184814,
          5.162294387817383,
          -5.641432762145996,
          -3.758732318878174,
          -3.6078991889953613,
          0.8648072481155396,
          -5.758394718170166,
          0.49253103137016296,
          3.4449217319488525,
          4.056992530822754,
          0.5576366186141968,
          4.058946132659912,
          -5.7383551597595215,
          -6.083773612976074,
          -6.910521507263184,
          1.1523479223251343,
          1.2957546710968018,
          -5.737720012664795,
          1.390612006187439,
          -6.9164323806762695,
          -6.082250595092773,
          -6.531258583068848,
          1.2899236679077148,
          -3.101351499557495,
          -6.938431262969971,
          -6.52814245223999
         ],
         "xaxis": "x",
         "y": [
          -6.027863025665283,
          7.086881637573242,
          -5.607973575592041,
          -5.499405384063721,
          -6.5465803146362305,
          -3.325186014175415,
          7.805307865142822,
          10.479096412658691,
          9.10314655303955,
          9.933150291442871,
          -4.062016010284424,
          -3.111950159072876,
          7.8931779861450195,
          -5.8517022132873535,
          -6.024824142456055,
          7.933033466339111,
          -3.8134765625,
          10.958279609680176,
          7.821241855621338,
          9.930646896362305,
          -5.852124214172363,
          7.9933061599731445,
          8.917245864868164,
          -5.71392297744751,
          7.299816608428955,
          -6.486977577209473,
          8.13073444366455,
          8.105966567993164,
          7.062077522277832,
          10.926069259643555,
          7.2839035987854,
          8.149203300476074,
          8.067488670349121,
          -3.8095974922180176,
          -5.705125331878662,
          -4.054751396179199,
          7.283584117889404,
          8.058271408081055,
          -1.2706204652786255,
          7.314939975738525,
          7.8796162605285645,
          9.07422924041748,
          9.59204387664795,
          10.738668441772461,
          8.27868366241455,
          10.50002384185791,
          -3.245593786239624,
          -3.292056083679199,
          -3.241666793823242,
          8.354930877685547,
          7.8960185050964355,
          -1.7045165300369263,
          8.163148880004883,
          9.918980598449707,
          9.076218605041504,
          8.269400596618652,
          -6.5056376457214355,
          6.487788200378418,
          7.054595947265625,
          -3.2232322692871094,
          -5.806417942047119,
          -5.525370121002197,
          9.050549507141113,
          8.26282024383545,
          6.119844436645508,
          8.374555587768555,
          8.31399154663086,
          10.821294784545898,
          -5.532191276550293,
          7.26810359954834,
          -2.487410068511963,
          -3.7966697216033936,
          8.445727348327637,
          7.26997709274292,
          -3.1930902004241943,
          11.448410987854004,
          -5.703898906707764,
          -4.5435709953308105,
          -6.066586017608643,
          -1.6704660654067993,
          -3.1923468112945557,
          -0.7459022402763367,
          -2.471759080886841,
          -3.0553228855133057,
          9.011258125305176,
          10.104799270629883,
          -3.1478664875030518,
          -3.032688617706299,
          -2.4737818241119385,
          9.922167778015137,
          -3.779834032058716,
          9.92619514465332,
          -6.081627368927002,
          -5.536073684692383,
          -2.9310412406921387,
          -3.025540351867676,
          11.268518447875977,
          -6.084049701690674,
          -3.0037877559661865,
          -2.8788747787475586,
          -3.788811683654785,
          -6.1020684242248535,
          10.920735359191895,
          -6.450119495391846,
          5.384282112121582,
          -6.473510265350342,
          7.254204750061035,
          5.776633262634277,
          9.024187088012695,
          -2.1160857677459717,
          8.676580429077148,
          8.66045093536377,
          -2.9753406047821045,
          -2.3895559310913086,
          -4.949942588806152,
          10.365918159484863,
          -4.071995258331299,
          10.371410369873047,
          10.733485221862793,
          7.05863618850708,
          10.738327026367188,
          9.008824348449707,
          -2.944176435470581,
          8.69804573059082,
          -6.475252151489258,
          -5.53895902633667,
          7.0345683097839355,
          11.227596282958984,
          9.969411849975586,
          -6.556921005249023,
          8.696455955505371,
          -5.712520122528076,
          -1.975199580192566,
          -2.2781331539154053,
          8.997729301452637,
          7.033851623535156,
          -0.8276371359825134,
          -2.245582342147827,
          -2.3491625785827637,
          -4.940133094787598,
          7.034948348999023,
          5.412723064422607,
          -6.469500541687012,
          10.978425025939941,
          -2.2547996044158936,
          11.21038818359375,
          10.98322582244873,
          6.079309940338135,
          -6.34259557723999,
          -6.139185905456543,
          10.56472396850586,
          10.955416679382324,
          -2.2450404167175293,
          8.7420015335083,
          7.028281211853027,
          6.133551120758057,
          -4.737514019012451,
          6.698196887969971,
          -5.262027263641357,
          9.814780235290527,
          5.472133159637451,
          -2.2039794921875,
          8.789007186889648,
          6.182170867919922,
          10.312222480773926,
          -4.729144096374512,
          -4.11250114440918,
          8.758746147155762,
          8.074085235595703,
          10.920536994934082,
          -1.2826685905456543,
          -2.18023943901062,
          7.219045639038086,
          8.971864700317383,
          8.783259391784668,
          10.388381004333496,
          -5.5655927658081055,
          -2.135361433029175,
          -1.6967401504516602,
          8.067171096801758,
          -2.80709171295166,
          8.792065620422363,
          11.00484561920166,
          -7.054789066314697,
          -6.691908359527588,
          -6.57260799407959,
          5.415544509887695,
          -5.5673322677612305,
          10.98227596282959,
          8.807657241821289,
          10.422329902648926,
          11.276261329650879,
          10.40403938293457,
          -6.556547164916992,
          -6.933318614959717,
          -4.071352481842041,
          6.1828131675720215,
          6.126835823059082,
          -6.607298374176025,
          7.933540344238281,
          -4.062685012817383,
          -6.952994346618652,
          -6.708804607391357,
          6.123084545135498,
          -0.7127520442008972,
          -4.024835586547852,
          -6.862581729888916
         ],
         "yaxis": "y"
        }
       ],
       "layout": {
        "coloraxis": {
         "colorbar": {
          "title": {
           "text": "Total Cup Points"
          }
         },
         "colorscale": [
          [
           0,
           "#0d0887"
          ],
          [
           0.1111111111111111,
           "#46039f"
          ],
          [
           0.2222222222222222,
           "#7201a8"
          ],
          [
           0.3333333333333333,
           "#9c179e"
          ],
          [
           0.4444444444444444,
           "#bd3786"
          ],
          [
           0.5555555555555556,
           "#d8576b"
          ],
          [
           0.6666666666666666,
           "#ed7953"
          ],
          [
           0.7777777777777778,
           "#fb9f3a"
          ],
          [
           0.8888888888888888,
           "#fdca26"
          ],
          [
           1,
           "#f0f921"
          ]
         ]
        },
        "legend": {
         "tracegroupgap": 0
        },
        "template": {
         "data": {
          "bar": [
           {
            "error_x": {
             "color": "#2a3f5f"
            },
            "error_y": {
             "color": "#2a3f5f"
            },
            "marker": {
             "line": {
              "color": "#E5ECF6",
              "width": 0.5
             },
             "pattern": {
              "fillmode": "overlay",
              "size": 10,
              "solidity": 0.2
             }
            },
            "type": "bar"
           }
          ],
          "barpolar": [
           {
            "marker": {
             "line": {
              "color": "#E5ECF6",
              "width": 0.5
             },
             "pattern": {
              "fillmode": "overlay",
              "size": 10,
              "solidity": 0.2
             }
            },
            "type": "barpolar"
           }
          ],
          "carpet": [
           {
            "aaxis": {
             "endlinecolor": "#2a3f5f",
             "gridcolor": "white",
             "linecolor": "white",
             "minorgridcolor": "white",
             "startlinecolor": "#2a3f5f"
            },
            "baxis": {
             "endlinecolor": "#2a3f5f",
             "gridcolor": "white",
             "linecolor": "white",
             "minorgridcolor": "white",
             "startlinecolor": "#2a3f5f"
            },
            "type": "carpet"
           }
          ],
          "choropleth": [
           {
            "colorbar": {
             "outlinewidth": 0,
             "ticks": ""
            },
            "type": "choropleth"
           }
          ],
          "contour": [
           {
            "colorbar": {
             "outlinewidth": 0,
             "ticks": ""
            },
            "colorscale": [
             [
              0,
              "#0d0887"
             ],
             [
              0.1111111111111111,
              "#46039f"
             ],
             [
              0.2222222222222222,
              "#7201a8"
             ],
             [
              0.3333333333333333,
              "#9c179e"
             ],
             [
              0.4444444444444444,
              "#bd3786"
             ],
             [
              0.5555555555555556,
              "#d8576b"
             ],
             [
              0.6666666666666666,
              "#ed7953"
             ],
             [
              0.7777777777777778,
              "#fb9f3a"
             ],
             [
              0.8888888888888888,
              "#fdca26"
             ],
             [
              1,
              "#f0f921"
             ]
            ],
            "type": "contour"
           }
          ],
          "contourcarpet": [
           {
            "colorbar": {
             "outlinewidth": 0,
             "ticks": ""
            },
            "type": "contourcarpet"
           }
          ],
          "heatmap": [
           {
            "colorbar": {
             "outlinewidth": 0,
             "ticks": ""
            },
            "colorscale": [
             [
              0,
              "#0d0887"
             ],
             [
              0.1111111111111111,
              "#46039f"
             ],
             [
              0.2222222222222222,
              "#7201a8"
             ],
             [
              0.3333333333333333,
              "#9c179e"
             ],
             [
              0.4444444444444444,
              "#bd3786"
             ],
             [
              0.5555555555555556,
              "#d8576b"
             ],
             [
              0.6666666666666666,
              "#ed7953"
             ],
             [
              0.7777777777777778,
              "#fb9f3a"
             ],
             [
              0.8888888888888888,
              "#fdca26"
             ],
             [
              1,
              "#f0f921"
             ]
            ],
            "type": "heatmap"
           }
          ],
          "heatmapgl": [
           {
            "colorbar": {
             "outlinewidth": 0,
             "ticks": ""
            },
            "colorscale": [
             [
              0,
              "#0d0887"
             ],
             [
              0.1111111111111111,
              "#46039f"
             ],
             [
              0.2222222222222222,
              "#7201a8"
             ],
             [
              0.3333333333333333,
              "#9c179e"
             ],
             [
              0.4444444444444444,
              "#bd3786"
             ],
             [
              0.5555555555555556,
              "#d8576b"
             ],
             [
              0.6666666666666666,
              "#ed7953"
             ],
             [
              0.7777777777777778,
              "#fb9f3a"
             ],
             [
              0.8888888888888888,
              "#fdca26"
             ],
             [
              1,
              "#f0f921"
             ]
            ],
            "type": "heatmapgl"
           }
          ],
          "histogram": [
           {
            "marker": {
             "pattern": {
              "fillmode": "overlay",
              "size": 10,
              "solidity": 0.2
             }
            },
            "type": "histogram"
           }
          ],
          "histogram2d": [
           {
            "colorbar": {
             "outlinewidth": 0,
             "ticks": ""
            },
            "colorscale": [
             [
              0,
              "#0d0887"
             ],
             [
              0.1111111111111111,
              "#46039f"
             ],
             [
              0.2222222222222222,
              "#7201a8"
             ],
             [
              0.3333333333333333,
              "#9c179e"
             ],
             [
              0.4444444444444444,
              "#bd3786"
             ],
             [
              0.5555555555555556,
              "#d8576b"
             ],
             [
              0.6666666666666666,
              "#ed7953"
             ],
             [
              0.7777777777777778,
              "#fb9f3a"
             ],
             [
              0.8888888888888888,
              "#fdca26"
             ],
             [
              1,
              "#f0f921"
             ]
            ],
            "type": "histogram2d"
           }
          ],
          "histogram2dcontour": [
           {
            "colorbar": {
             "outlinewidth": 0,
             "ticks": ""
            },
            "colorscale": [
             [
              0,
              "#0d0887"
             ],
             [
              0.1111111111111111,
              "#46039f"
             ],
             [
              0.2222222222222222,
              "#7201a8"
             ],
             [
              0.3333333333333333,
              "#9c179e"
             ],
             [
              0.4444444444444444,
              "#bd3786"
             ],
             [
              0.5555555555555556,
              "#d8576b"
             ],
             [
              0.6666666666666666,
              "#ed7953"
             ],
             [
              0.7777777777777778,
              "#fb9f3a"
             ],
             [
              0.8888888888888888,
              "#fdca26"
             ],
             [
              1,
              "#f0f921"
             ]
            ],
            "type": "histogram2dcontour"
           }
          ],
          "mesh3d": [
           {
            "colorbar": {
             "outlinewidth": 0,
             "ticks": ""
            },
            "type": "mesh3d"
           }
          ],
          "parcoords": [
           {
            "line": {
             "colorbar": {
              "outlinewidth": 0,
              "ticks": ""
             }
            },
            "type": "parcoords"
           }
          ],
          "pie": [
           {
            "automargin": true,
            "type": "pie"
           }
          ],
          "scatter": [
           {
            "fillpattern": {
             "fillmode": "overlay",
             "size": 10,
             "solidity": 0.2
            },
            "type": "scatter"
           }
          ],
          "scatter3d": [
           {
            "line": {
             "colorbar": {
              "outlinewidth": 0,
              "ticks": ""
             }
            },
            "marker": {
             "colorbar": {
              "outlinewidth": 0,
              "ticks": ""
             }
            },
            "type": "scatter3d"
           }
          ],
          "scattercarpet": [
           {
            "marker": {
             "colorbar": {
              "outlinewidth": 0,
              "ticks": ""
             }
            },
            "type": "scattercarpet"
           }
          ],
          "scattergeo": [
           {
            "marker": {
             "colorbar": {
              "outlinewidth": 0,
              "ticks": ""
             }
            },
            "type": "scattergeo"
           }
          ],
          "scattergl": [
           {
            "marker": {
             "colorbar": {
              "outlinewidth": 0,
              "ticks": ""
             }
            },
            "type": "scattergl"
           }
          ],
          "scattermapbox": [
           {
            "marker": {
             "colorbar": {
              "outlinewidth": 0,
              "ticks": ""
             }
            },
            "type": "scattermapbox"
           }
          ],
          "scatterpolar": [
           {
            "marker": {
             "colorbar": {
              "outlinewidth": 0,
              "ticks": ""
             }
            },
            "type": "scatterpolar"
           }
          ],
          "scatterpolargl": [
           {
            "marker": {
             "colorbar": {
              "outlinewidth": 0,
              "ticks": ""
             }
            },
            "type": "scatterpolargl"
           }
          ],
          "scatterternary": [
           {
            "marker": {
             "colorbar": {
              "outlinewidth": 0,
              "ticks": ""
             }
            },
            "type": "scatterternary"
           }
          ],
          "surface": [
           {
            "colorbar": {
             "outlinewidth": 0,
             "ticks": ""
            },
            "colorscale": [
             [
              0,
              "#0d0887"
             ],
             [
              0.1111111111111111,
              "#46039f"
             ],
             [
              0.2222222222222222,
              "#7201a8"
             ],
             [
              0.3333333333333333,
              "#9c179e"
             ],
             [
              0.4444444444444444,
              "#bd3786"
             ],
             [
              0.5555555555555556,
              "#d8576b"
             ],
             [
              0.6666666666666666,
              "#ed7953"
             ],
             [
              0.7777777777777778,
              "#fb9f3a"
             ],
             [
              0.8888888888888888,
              "#fdca26"
             ],
             [
              1,
              "#f0f921"
             ]
            ],
            "type": "surface"
           }
          ],
          "table": [
           {
            "cells": {
             "fill": {
              "color": "#EBF0F8"
             },
             "line": {
              "color": "white"
             }
            },
            "header": {
             "fill": {
              "color": "#C8D4E3"
             },
             "line": {
              "color": "white"
             }
            },
            "type": "table"
           }
          ]
         },
         "layout": {
          "annotationdefaults": {
           "arrowcolor": "#2a3f5f",
           "arrowhead": 0,
           "arrowwidth": 1
          },
          "autotypenumbers": "strict",
          "coloraxis": {
           "colorbar": {
            "outlinewidth": 0,
            "ticks": ""
           }
          },
          "colorscale": {
           "diverging": [
            [
             0,
             "#8e0152"
            ],
            [
             0.1,
             "#c51b7d"
            ],
            [
             0.2,
             "#de77ae"
            ],
            [
             0.3,
             "#f1b6da"
            ],
            [
             0.4,
             "#fde0ef"
            ],
            [
             0.5,
             "#f7f7f7"
            ],
            [
             0.6,
             "#e6f5d0"
            ],
            [
             0.7,
             "#b8e186"
            ],
            [
             0.8,
             "#7fbc41"
            ],
            [
             0.9,
             "#4d9221"
            ],
            [
             1,
             "#276419"
            ]
           ],
           "sequential": [
            [
             0,
             "#0d0887"
            ],
            [
             0.1111111111111111,
             "#46039f"
            ],
            [
             0.2222222222222222,
             "#7201a8"
            ],
            [
             0.3333333333333333,
             "#9c179e"
            ],
            [
             0.4444444444444444,
             "#bd3786"
            ],
            [
             0.5555555555555556,
             "#d8576b"
            ],
            [
             0.6666666666666666,
             "#ed7953"
            ],
            [
             0.7777777777777778,
             "#fb9f3a"
            ],
            [
             0.8888888888888888,
             "#fdca26"
            ],
            [
             1,
             "#f0f921"
            ]
           ],
           "sequentialminus": [
            [
             0,
             "#0d0887"
            ],
            [
             0.1111111111111111,
             "#46039f"
            ],
            [
             0.2222222222222222,
             "#7201a8"
            ],
            [
             0.3333333333333333,
             "#9c179e"
            ],
            [
             0.4444444444444444,
             "#bd3786"
            ],
            [
             0.5555555555555556,
             "#d8576b"
            ],
            [
             0.6666666666666666,
             "#ed7953"
            ],
            [
             0.7777777777777778,
             "#fb9f3a"
            ],
            [
             0.8888888888888888,
             "#fdca26"
            ],
            [
             1,
             "#f0f921"
            ]
           ]
          },
          "colorway": [
           "#636efa",
           "#EF553B",
           "#00cc96",
           "#ab63fa",
           "#FFA15A",
           "#19d3f3",
           "#FF6692",
           "#B6E880",
           "#FF97FF",
           "#FECB52"
          ],
          "font": {
           "color": "#2a3f5f"
          },
          "geo": {
           "bgcolor": "white",
           "lakecolor": "white",
           "landcolor": "#E5ECF6",
           "showlakes": true,
           "showland": true,
           "subunitcolor": "white"
          },
          "hoverlabel": {
           "align": "left"
          },
          "hovermode": "closest",
          "mapbox": {
           "style": "light"
          },
          "paper_bgcolor": "white",
          "plot_bgcolor": "#E5ECF6",
          "polar": {
           "angularaxis": {
            "gridcolor": "white",
            "linecolor": "white",
            "ticks": ""
           },
           "bgcolor": "#E5ECF6",
           "radialaxis": {
            "gridcolor": "white",
            "linecolor": "white",
            "ticks": ""
           }
          },
          "scene": {
           "xaxis": {
            "backgroundcolor": "#E5ECF6",
            "gridcolor": "white",
            "gridwidth": 2,
            "linecolor": "white",
            "showbackground": true,
            "ticks": "",
            "zerolinecolor": "white"
           },
           "yaxis": {
            "backgroundcolor": "#E5ECF6",
            "gridcolor": "white",
            "gridwidth": 2,
            "linecolor": "white",
            "showbackground": true,
            "ticks": "",
            "zerolinecolor": "white"
           },
           "zaxis": {
            "backgroundcolor": "#E5ECF6",
            "gridcolor": "white",
            "gridwidth": 2,
            "linecolor": "white",
            "showbackground": true,
            "ticks": "",
            "zerolinecolor": "white"
           }
          },
          "shapedefaults": {
           "line": {
            "color": "#2a3f5f"
           }
          },
          "ternary": {
           "aaxis": {
            "gridcolor": "white",
            "linecolor": "white",
            "ticks": ""
           },
           "baxis": {
            "gridcolor": "white",
            "linecolor": "white",
            "ticks": ""
           },
           "bgcolor": "#E5ECF6",
           "caxis": {
            "gridcolor": "white",
            "linecolor": "white",
            "ticks": ""
           }
          },
          "title": {
           "x": 0.05
          },
          "xaxis": {
           "automargin": true,
           "gridcolor": "white",
           "linecolor": "white",
           "ticks": "",
           "title": {
            "standoff": 15
           },
           "zerolinecolor": "white",
           "zerolinewidth": 2
          },
          "yaxis": {
           "automargin": true,
           "gridcolor": "white",
           "linecolor": "white",
           "ticks": "",
           "title": {
            "standoff": 15
           },
           "zerolinecolor": "white",
           "zerolinewidth": 2
          }
         }
        },
        "title": {
         "text": "t-SNE plot colored by Total Cup Points"
        },
        "xaxis": {
         "anchor": "y",
         "domain": [
          0,
          1
         ],
         "title": {
          "text": "Dim_1"
         }
        },
        "yaxis": {
         "anchor": "x",
         "domain": [
          0,
          1
         ],
         "title": {
          "text": "Dim_2"
         }
        }
       }
      },
      "text/html": [
       "<div>                            <div id=\"64cc926d-6915-4a72-bb3e-b242ddb8a7e9\" class=\"plotly-graph-div\" style=\"height:525px; width:100%;\"></div>            <script type=\"text/javascript\">                require([\"plotly\"], function(Plotly) {                    window.PLOTLYENV=window.PLOTLYENV || {};                                    if (document.getElementById(\"64cc926d-6915-4a72-bb3e-b242ddb8a7e9\")) {                    Plotly.newPlot(                        \"64cc926d-6915-4a72-bb3e-b242ddb8a7e9\",                        [{\"hovertemplate\":\"Dim_1=%{x}<br>Dim_2=%{y}<br>Total Cup Points=%{marker.color}<extra></extra>\",\"legendgroup\":\"\",\"marker\":{\"color\":[89.33,87.58,87.42,87.17,87.08,87.0,86.92,86.75,86.67,86.5,86.25,86.25,86.25,86.17,86.17,86.08,86.08,86.08,85.92,85.83,85.75,85.67,85.67,85.67,85.58,85.5,85.5,85.5,85.5,85.42,85.42,85.33,85.33,85.33,85.33,85.25,85.25,85.25,85.25,85.17,85.08,85.08,85.08,85.0,85.0,85.0,85.0,85.0,84.92,84.92,84.83,84.83,84.83,84.83,84.83,84.75,84.75,84.75,84.75,84.67,84.67,84.67,84.58,84.58,84.58,84.58,84.58,84.58,84.5,84.5,84.5,84.5,84.5,84.42,84.33,84.33,84.33,84.33,84.33,84.25,84.25,84.25,84.17,84.08,84.08,84.08,84.08,84.0,84.0,84.0,84.0,84.0,84.0,83.92,83.92,83.92,83.92,83.83,83.83,83.83,83.83,83.83,83.83,83.75,83.75,83.67,83.67,83.67,83.67,83.67,83.58,83.58,83.58,83.5,83.5,83.5,83.5,83.42,83.42,83.42,83.33,83.33,83.33,83.33,83.33,83.33,83.33,83.33,83.25,83.25,83.25,83.25,83.25,83.25,83.17,83.17,83.08,83.08,83.08,83.0,82.92,82.92,82.92,82.92,82.83,82.83,82.83,82.75,82.75,82.67,82.67,82.67,82.67,82.58,82.58,82.58,82.5,82.5,82.5,82.5,82.5,82.5,82.5,82.42,82.33,82.33,82.33,82.33,82.25,82.17,82.17,82.17,82.08,82.08,82.0,82.0,82.0,82.0,82.0,81.92,81.92,81.83,81.83,81.83,81.75,81.75,81.67,81.58,81.58,81.5,81.42,81.33,81.17,81.17,81.0,80.83,80.5,80.42,80.42,80.33,80.33,80.17,80.08,80.0,79.67,78.08,78.0],\"coloraxis\":\"coloraxis\",\"symbol\":\"circle\"},\"mode\":\"markers\",\"name\":\"\",\"orientation\":\"v\",\"showlegend\":false,\"x\":[-6.581632137298584,6.188565731048584,-2.2409636974334717,-5.854580402374268,-3.5755133628845215,-3.6586740016937256,3.0064592361450195,0.717278242111206,2.076404571533203,2.6687417030334473,-4.22739839553833,-3.312101125717163,2.9922826290130615,-3.0354340076446533,-6.33540678024292,3.0099265575408936,-4.592064380645752,0.5015401840209961,3.989201784133911,2.6892006397247314,-2.7788121700286865,3.0233891010284424,5.510846138000488,-6.714428424835205,5.806375026702881,-6.661008834838867,2.758965492248535,2.7881879806518555,6.121421813964844,4.930784702301025,5.801875114440918,2.804525375366211,2.816298246383667,-4.602499485015869,-3.1190173625946045,-4.262425899505615,5.8024749755859375,3.153839588165283,-3.631211280822754,5.827950954437256,3.986603021621704,2.1495490074157715,1.4936161041259766,4.550264835357666,2.786689043045044,0.7191929817199707,-3.8259286880493164,-3.7268271446228027,-3.848623275756836,2.795635223388672,3.990034580230713,-2.350816488265991,1.6639890670776367,2.739732027053833,2.1517324447631836,3.229938268661499,-6.609477519989014,5.459249973297119,6.115071773529053,-3.844935178756714,-2.8371312618255615,-5.813172817230225,2.1589889526367188,3.2738897800445557,1.315234899520874,2.79840350151062,3.2274274826049805,5.327943801879883,-5.816383361816406,5.796080112457275,-3.5234427452087402,-4.662124156951904,2.867859125137329,5.801637172698975,-3.913837194442749,0.7131900191307068,-3.123002529144287,-5.594256401062012,-6.25284481048584,-2.1772286891937256,-3.8818650245666504,-1.8717644214630127,-3.538194417953491,-4.17855167388916,2.1205697059631348,1.0219413042068481,-3.9956471920013428,-4.197537899017334,-3.52748703956604,2.7634425163269043,-4.6594648361206055,2.768942356109619,-6.2545294761657715,-5.8044915199279785,-4.567913055419922,-4.201040267944336,0.5574078559875488,-6.242219924926758,-4.230372905731201,-4.641134738922119,-4.708127021789551,-6.275313377380371,4.922729015350342,-5.750491619110107,0.8555034399032593,-5.747239112854004,5.787259578704834,0.8425130248069763,2.1364691257476807,-4.600243091583252,3.07674503326416,3.0777640342712402,-4.274930000305176,-3.619734287261963,-7.231453895568848,4.058494567871094,-4.3142499923706055,4.055830955505371,4.535557270050049,6.1192851066589355,4.5391716957092285,2.116474151611328,-4.282079219818115,3.1080026626586914,-5.747377872467041,-5.773175239562988,6.111965179443359,0.6006291508674622,2.7755072116851807,-6.572543144226074,3.099513292312622,-6.687846660614014,-2.379711627960205,-3.808126926422119,2.097158908843994,6.113675594329834,-2.8355274200439453,-3.870290517807007,-3.6653997898101807,-7.235013008117676,6.122467994689941,0.8631858825683594,-5.74683141708374,0.5003355145454407,-3.84405255317688,0.6001505255699158,5.151205539703369,1.2989598512649536,-5.06928825378418,-6.222138404846191,3.5568723678588867,0.8659713268280029,-3.8586013317108154,3.2955050468444824,6.130007266998291,1.3105093240737915,-5.241206169128418,1.6158227920532227,-7.368656635284424,6.002079486846924,0.7242318987846375,-3.9150707721710205,3.2908332347869873,5.153919219970703,5.7703704833984375,-5.246500492095947,-6.890368461608887,3.3315165042877197,1.5734378099441528,4.921635150909424,-3.374138593673706,-3.9344911575317383,5.79064416885376,2.011571168899536,3.380420446395874,4.057730197906494,-5.728518009185791,-2.1646065711975098,-2.351433277130127,1.5620090961456299,-4.615268230438232,3.3947060108184814,5.162294387817383,-5.641432762145996,-3.758732318878174,-3.6078991889953613,0.8648072481155396,-5.758394718170166,0.49253103137016296,3.4449217319488525,4.056992530822754,0.5576366186141968,4.058946132659912,-5.7383551597595215,-6.083773612976074,-6.910521507263184,1.1523479223251343,1.2957546710968018,-5.737720012664795,1.390612006187439,-6.9164323806762695,-6.082250595092773,-6.531258583068848,1.2899236679077148,-3.101351499557495,-6.938431262969971,-6.52814245223999],\"xaxis\":\"x\",\"y\":[-6.027863025665283,7.086881637573242,-5.607973575592041,-5.499405384063721,-6.5465803146362305,-3.325186014175415,7.805307865142822,10.479096412658691,9.10314655303955,9.933150291442871,-4.062016010284424,-3.111950159072876,7.8931779861450195,-5.8517022132873535,-6.024824142456055,7.933033466339111,-3.8134765625,10.958279609680176,7.821241855621338,9.930646896362305,-5.852124214172363,7.9933061599731445,8.917245864868164,-5.71392297744751,7.299816608428955,-6.486977577209473,8.13073444366455,8.105966567993164,7.062077522277832,10.926069259643555,7.2839035987854,8.149203300476074,8.067488670349121,-3.8095974922180176,-5.705125331878662,-4.054751396179199,7.283584117889404,8.058271408081055,-1.2706204652786255,7.314939975738525,7.8796162605285645,9.07422924041748,9.59204387664795,10.738668441772461,8.27868366241455,10.50002384185791,-3.245593786239624,-3.292056083679199,-3.241666793823242,8.354930877685547,7.8960185050964355,-1.7045165300369263,8.163148880004883,9.918980598449707,9.076218605041504,8.269400596618652,-6.5056376457214355,6.487788200378418,7.054595947265625,-3.2232322692871094,-5.806417942047119,-5.525370121002197,9.050549507141113,8.26282024383545,6.119844436645508,8.374555587768555,8.31399154663086,10.821294784545898,-5.532191276550293,7.26810359954834,-2.487410068511963,-3.7966697216033936,8.445727348327637,7.26997709274292,-3.1930902004241943,11.448410987854004,-5.703898906707764,-4.5435709953308105,-6.066586017608643,-1.6704660654067993,-3.1923468112945557,-0.7459022402763367,-2.471759080886841,-3.0553228855133057,9.011258125305176,10.104799270629883,-3.1478664875030518,-3.032688617706299,-2.4737818241119385,9.922167778015137,-3.779834032058716,9.92619514465332,-6.081627368927002,-5.536073684692383,-2.9310412406921387,-3.025540351867676,11.268518447875977,-6.084049701690674,-3.0037877559661865,-2.8788747787475586,-3.788811683654785,-6.1020684242248535,10.920735359191895,-6.450119495391846,5.384282112121582,-6.473510265350342,7.254204750061035,5.776633262634277,9.024187088012695,-2.1160857677459717,8.676580429077148,8.66045093536377,-2.9753406047821045,-2.3895559310913086,-4.949942588806152,10.365918159484863,-4.071995258331299,10.371410369873047,10.733485221862793,7.05863618850708,10.738327026367188,9.008824348449707,-2.944176435470581,8.69804573059082,-6.475252151489258,-5.53895902633667,7.0345683097839355,11.227596282958984,9.969411849975586,-6.556921005249023,8.696455955505371,-5.712520122528076,-1.975199580192566,-2.2781331539154053,8.997729301452637,7.033851623535156,-0.8276371359825134,-2.245582342147827,-2.3491625785827637,-4.940133094787598,7.034948348999023,5.412723064422607,-6.469500541687012,10.978425025939941,-2.2547996044158936,11.21038818359375,10.98322582244873,6.079309940338135,-6.34259557723999,-6.139185905456543,10.56472396850586,10.955416679382324,-2.2450404167175293,8.7420015335083,7.028281211853027,6.133551120758057,-4.737514019012451,6.698196887969971,-5.262027263641357,9.814780235290527,5.472133159637451,-2.2039794921875,8.789007186889648,6.182170867919922,10.312222480773926,-4.729144096374512,-4.11250114440918,8.758746147155762,8.074085235595703,10.920536994934082,-1.2826685905456543,-2.18023943901062,7.219045639038086,8.971864700317383,8.783259391784668,10.388381004333496,-5.5655927658081055,-2.135361433029175,-1.6967401504516602,8.067171096801758,-2.80709171295166,8.792065620422363,11.00484561920166,-7.054789066314697,-6.691908359527588,-6.57260799407959,5.415544509887695,-5.5673322677612305,10.98227596282959,8.807657241821289,10.422329902648926,11.276261329650879,10.40403938293457,-6.556547164916992,-6.933318614959717,-4.071352481842041,6.1828131675720215,6.126835823059082,-6.607298374176025,7.933540344238281,-4.062685012817383,-6.952994346618652,-6.708804607391357,6.123084545135498,-0.7127520442008972,-4.024835586547852,-6.862581729888916],\"yaxis\":\"y\",\"type\":\"scatter\"}],                        {\"template\":{\"data\":{\"histogram2dcontour\":[{\"type\":\"histogram2dcontour\",\"colorbar\":{\"outlinewidth\":0,\"ticks\":\"\"},\"colorscale\":[[0.0,\"#0d0887\"],[0.1111111111111111,\"#46039f\"],[0.2222222222222222,\"#7201a8\"],[0.3333333333333333,\"#9c179e\"],[0.4444444444444444,\"#bd3786\"],[0.5555555555555556,\"#d8576b\"],[0.6666666666666666,\"#ed7953\"],[0.7777777777777778,\"#fb9f3a\"],[0.8888888888888888,\"#fdca26\"],[1.0,\"#f0f921\"]]}],\"choropleth\":[{\"type\":\"choropleth\",\"colorbar\":{\"outlinewidth\":0,\"ticks\":\"\"}}],\"histogram2d\":[{\"type\":\"histogram2d\",\"colorbar\":{\"outlinewidth\":0,\"ticks\":\"\"},\"colorscale\":[[0.0,\"#0d0887\"],[0.1111111111111111,\"#46039f\"],[0.2222222222222222,\"#7201a8\"],[0.3333333333333333,\"#9c179e\"],[0.4444444444444444,\"#bd3786\"],[0.5555555555555556,\"#d8576b\"],[0.6666666666666666,\"#ed7953\"],[0.7777777777777778,\"#fb9f3a\"],[0.8888888888888888,\"#fdca26\"],[1.0,\"#f0f921\"]]}],\"heatmap\":[{\"type\":\"heatmap\",\"colorbar\":{\"outlinewidth\":0,\"ticks\":\"\"},\"colorscale\":[[0.0,\"#0d0887\"],[0.1111111111111111,\"#46039f\"],[0.2222222222222222,\"#7201a8\"],[0.3333333333333333,\"#9c179e\"],[0.4444444444444444,\"#bd3786\"],[0.5555555555555556,\"#d8576b\"],[0.6666666666666666,\"#ed7953\"],[0.7777777777777778,\"#fb9f3a\"],[0.8888888888888888,\"#fdca26\"],[1.0,\"#f0f921\"]]}],\"heatmapgl\":[{\"type\":\"heatmapgl\",\"colorbar\":{\"outlinewidth\":0,\"ticks\":\"\"},\"colorscale\":[[0.0,\"#0d0887\"],[0.1111111111111111,\"#46039f\"],[0.2222222222222222,\"#7201a8\"],[0.3333333333333333,\"#9c179e\"],[0.4444444444444444,\"#bd3786\"],[0.5555555555555556,\"#d8576b\"],[0.6666666666666666,\"#ed7953\"],[0.7777777777777778,\"#fb9f3a\"],[0.8888888888888888,\"#fdca26\"],[1.0,\"#f0f921\"]]}],\"contourcarpet\":[{\"type\":\"contourcarpet\",\"colorbar\":{\"outlinewidth\":0,\"ticks\":\"\"}}],\"contour\":[{\"type\":\"contour\",\"colorbar\":{\"outlinewidth\":0,\"ticks\":\"\"},\"colorscale\":[[0.0,\"#0d0887\"],[0.1111111111111111,\"#46039f\"],[0.2222222222222222,\"#7201a8\"],[0.3333333333333333,\"#9c179e\"],[0.4444444444444444,\"#bd3786\"],[0.5555555555555556,\"#d8576b\"],[0.6666666666666666,\"#ed7953\"],[0.7777777777777778,\"#fb9f3a\"],[0.8888888888888888,\"#fdca26\"],[1.0,\"#f0f921\"]]}],\"surface\":[{\"type\":\"surface\",\"colorbar\":{\"outlinewidth\":0,\"ticks\":\"\"},\"colorscale\":[[0.0,\"#0d0887\"],[0.1111111111111111,\"#46039f\"],[0.2222222222222222,\"#7201a8\"],[0.3333333333333333,\"#9c179e\"],[0.4444444444444444,\"#bd3786\"],[0.5555555555555556,\"#d8576b\"],[0.6666666666666666,\"#ed7953\"],[0.7777777777777778,\"#fb9f3a\"],[0.8888888888888888,\"#fdca26\"],[1.0,\"#f0f921\"]]}],\"mesh3d\":[{\"type\":\"mesh3d\",\"colorbar\":{\"outlinewidth\":0,\"ticks\":\"\"}}],\"scatter\":[{\"fillpattern\":{\"fillmode\":\"overlay\",\"size\":10,\"solidity\":0.2},\"type\":\"scatter\"}],\"parcoords\":[{\"type\":\"parcoords\",\"line\":{\"colorbar\":{\"outlinewidth\":0,\"ticks\":\"\"}}}],\"scatterpolargl\":[{\"type\":\"scatterpolargl\",\"marker\":{\"colorbar\":{\"outlinewidth\":0,\"ticks\":\"\"}}}],\"bar\":[{\"error_x\":{\"color\":\"#2a3f5f\"},\"error_y\":{\"color\":\"#2a3f5f\"},\"marker\":{\"line\":{\"color\":\"#E5ECF6\",\"width\":0.5},\"pattern\":{\"fillmode\":\"overlay\",\"size\":10,\"solidity\":0.2}},\"type\":\"bar\"}],\"scattergeo\":[{\"type\":\"scattergeo\",\"marker\":{\"colorbar\":{\"outlinewidth\":0,\"ticks\":\"\"}}}],\"scatterpolar\":[{\"type\":\"scatterpolar\",\"marker\":{\"colorbar\":{\"outlinewidth\":0,\"ticks\":\"\"}}}],\"histogram\":[{\"marker\":{\"pattern\":{\"fillmode\":\"overlay\",\"size\":10,\"solidity\":0.2}},\"type\":\"histogram\"}],\"scattergl\":[{\"type\":\"scattergl\",\"marker\":{\"colorbar\":{\"outlinewidth\":0,\"ticks\":\"\"}}}],\"scatter3d\":[{\"type\":\"scatter3d\",\"line\":{\"colorbar\":{\"outlinewidth\":0,\"ticks\":\"\"}},\"marker\":{\"colorbar\":{\"outlinewidth\":0,\"ticks\":\"\"}}}],\"scattermapbox\":[{\"type\":\"scattermapbox\",\"marker\":{\"colorbar\":{\"outlinewidth\":0,\"ticks\":\"\"}}}],\"scatterternary\":[{\"type\":\"scatterternary\",\"marker\":{\"colorbar\":{\"outlinewidth\":0,\"ticks\":\"\"}}}],\"scattercarpet\":[{\"type\":\"scattercarpet\",\"marker\":{\"colorbar\":{\"outlinewidth\":0,\"ticks\":\"\"}}}],\"carpet\":[{\"aaxis\":{\"endlinecolor\":\"#2a3f5f\",\"gridcolor\":\"white\",\"linecolor\":\"white\",\"minorgridcolor\":\"white\",\"startlinecolor\":\"#2a3f5f\"},\"baxis\":{\"endlinecolor\":\"#2a3f5f\",\"gridcolor\":\"white\",\"linecolor\":\"white\",\"minorgridcolor\":\"white\",\"startlinecolor\":\"#2a3f5f\"},\"type\":\"carpet\"}],\"table\":[{\"cells\":{\"fill\":{\"color\":\"#EBF0F8\"},\"line\":{\"color\":\"white\"}},\"header\":{\"fill\":{\"color\":\"#C8D4E3\"},\"line\":{\"color\":\"white\"}},\"type\":\"table\"}],\"barpolar\":[{\"marker\":{\"line\":{\"color\":\"#E5ECF6\",\"width\":0.5},\"pattern\":{\"fillmode\":\"overlay\",\"size\":10,\"solidity\":0.2}},\"type\":\"barpolar\"}],\"pie\":[{\"automargin\":true,\"type\":\"pie\"}]},\"layout\":{\"autotypenumbers\":\"strict\",\"colorway\":[\"#636efa\",\"#EF553B\",\"#00cc96\",\"#ab63fa\",\"#FFA15A\",\"#19d3f3\",\"#FF6692\",\"#B6E880\",\"#FF97FF\",\"#FECB52\"],\"font\":{\"color\":\"#2a3f5f\"},\"hovermode\":\"closest\",\"hoverlabel\":{\"align\":\"left\"},\"paper_bgcolor\":\"white\",\"plot_bgcolor\":\"#E5ECF6\",\"polar\":{\"bgcolor\":\"#E5ECF6\",\"angularaxis\":{\"gridcolor\":\"white\",\"linecolor\":\"white\",\"ticks\":\"\"},\"radialaxis\":{\"gridcolor\":\"white\",\"linecolor\":\"white\",\"ticks\":\"\"}},\"ternary\":{\"bgcolor\":\"#E5ECF6\",\"aaxis\":{\"gridcolor\":\"white\",\"linecolor\":\"white\",\"ticks\":\"\"},\"baxis\":{\"gridcolor\":\"white\",\"linecolor\":\"white\",\"ticks\":\"\"},\"caxis\":{\"gridcolor\":\"white\",\"linecolor\":\"white\",\"ticks\":\"\"}},\"coloraxis\":{\"colorbar\":{\"outlinewidth\":0,\"ticks\":\"\"}},\"colorscale\":{\"sequential\":[[0.0,\"#0d0887\"],[0.1111111111111111,\"#46039f\"],[0.2222222222222222,\"#7201a8\"],[0.3333333333333333,\"#9c179e\"],[0.4444444444444444,\"#bd3786\"],[0.5555555555555556,\"#d8576b\"],[0.6666666666666666,\"#ed7953\"],[0.7777777777777778,\"#fb9f3a\"],[0.8888888888888888,\"#fdca26\"],[1.0,\"#f0f921\"]],\"sequentialminus\":[[0.0,\"#0d0887\"],[0.1111111111111111,\"#46039f\"],[0.2222222222222222,\"#7201a8\"],[0.3333333333333333,\"#9c179e\"],[0.4444444444444444,\"#bd3786\"],[0.5555555555555556,\"#d8576b\"],[0.6666666666666666,\"#ed7953\"],[0.7777777777777778,\"#fb9f3a\"],[0.8888888888888888,\"#fdca26\"],[1.0,\"#f0f921\"]],\"diverging\":[[0,\"#8e0152\"],[0.1,\"#c51b7d\"],[0.2,\"#de77ae\"],[0.3,\"#f1b6da\"],[0.4,\"#fde0ef\"],[0.5,\"#f7f7f7\"],[0.6,\"#e6f5d0\"],[0.7,\"#b8e186\"],[0.8,\"#7fbc41\"],[0.9,\"#4d9221\"],[1,\"#276419\"]]},\"xaxis\":{\"gridcolor\":\"white\",\"linecolor\":\"white\",\"ticks\":\"\",\"title\":{\"standoff\":15},\"zerolinecolor\":\"white\",\"automargin\":true,\"zerolinewidth\":2},\"yaxis\":{\"gridcolor\":\"white\",\"linecolor\":\"white\",\"ticks\":\"\",\"title\":{\"standoff\":15},\"zerolinecolor\":\"white\",\"automargin\":true,\"zerolinewidth\":2},\"scene\":{\"xaxis\":{\"backgroundcolor\":\"#E5ECF6\",\"gridcolor\":\"white\",\"linecolor\":\"white\",\"showbackground\":true,\"ticks\":\"\",\"zerolinecolor\":\"white\",\"gridwidth\":2},\"yaxis\":{\"backgroundcolor\":\"#E5ECF6\",\"gridcolor\":\"white\",\"linecolor\":\"white\",\"showbackground\":true,\"ticks\":\"\",\"zerolinecolor\":\"white\",\"gridwidth\":2},\"zaxis\":{\"backgroundcolor\":\"#E5ECF6\",\"gridcolor\":\"white\",\"linecolor\":\"white\",\"showbackground\":true,\"ticks\":\"\",\"zerolinecolor\":\"white\",\"gridwidth\":2}},\"shapedefaults\":{\"line\":{\"color\":\"#2a3f5f\"}},\"annotationdefaults\":{\"arrowcolor\":\"#2a3f5f\",\"arrowhead\":0,\"arrowwidth\":1},\"geo\":{\"bgcolor\":\"white\",\"landcolor\":\"#E5ECF6\",\"subunitcolor\":\"white\",\"showland\":true,\"showlakes\":true,\"lakecolor\":\"white\"},\"title\":{\"x\":0.05},\"mapbox\":{\"style\":\"light\"}}},\"xaxis\":{\"anchor\":\"y\",\"domain\":[0.0,1.0],\"title\":{\"text\":\"Dim_1\"}},\"yaxis\":{\"anchor\":\"x\",\"domain\":[0.0,1.0],\"title\":{\"text\":\"Dim_2\"}},\"coloraxis\":{\"colorbar\":{\"title\":{\"text\":\"Total Cup Points\"}},\"colorscale\":[[0.0,\"#0d0887\"],[0.1111111111111111,\"#46039f\"],[0.2222222222222222,\"#7201a8\"],[0.3333333333333333,\"#9c179e\"],[0.4444444444444444,\"#bd3786\"],[0.5555555555555556,\"#d8576b\"],[0.6666666666666666,\"#ed7953\"],[0.7777777777777778,\"#fb9f3a\"],[0.8888888888888888,\"#fdca26\"],[1.0,\"#f0f921\"]]},\"legend\":{\"tracegroupgap\":0},\"title\":{\"text\":\"t-SNE plot colored by Total Cup Points\"}},                        {\"responsive\": true}                    ).then(function(){\n",
       "                            \n",
       "var gd = document.getElementById('64cc926d-6915-4a72-bb3e-b242ddb8a7e9');\n",
       "var x = new MutationObserver(function (mutations, observer) {{\n",
       "        var display = window.getComputedStyle(gd).display;\n",
       "        if (!display || display === 'none') {{\n",
       "            console.log([gd, 'removed!']);\n",
       "            Plotly.purge(gd);\n",
       "            observer.disconnect();\n",
       "        }}\n",
       "}});\n",
       "\n",
       "// Listen for the removal of the full notebook cells\n",
       "var notebookContainer = gd.closest('#notebook-container');\n",
       "if (notebookContainer) {{\n",
       "    x.observe(notebookContainer, {childList: true});\n",
       "}}\n",
       "\n",
       "// Listen for the clearing of the current output cell\n",
       "var outputEl = gd.closest('.output');\n",
       "if (outputEl) {{\n",
       "    x.observe(outputEl, {childList: true});\n",
       "}}\n",
       "\n",
       "                        })                };                });            </script>        </div>"
      ]
     },
     "metadata": {},
     "output_type": "display_data"
    }
   ],
   "source": [
    "# Create a copy of the dataframe to not alter the original\n",
    "df_preprocessed = df.copy()\n",
    "\n",
    "# Preprocessing: Label encoding for categorical variables\n",
    "le = LabelEncoder()\n",
    "categorical_features = ['Country of Origin', 'Processing Method', 'Color']\n",
    "for feature in categorical_features:\n",
    "    df_preprocessed[feature] = le.fit_transform(df[feature])\n",
    "\n",
    "# Preprocessing: MinMax scaling for numerical/ratio variables\n",
    "mm = MinMaxScaler()\n",
    "numerical_features = ['Altitude', 'Aroma', 'Flavor', 'Aftertaste', 'Acidity', 'Body', 'Balance', 'Overall', 'Total Cup Points', 'Moisture Percentage', 'Category One Defects', 'Quakers', 'Category Two Defects', 'Coffee Age']\n",
    "for feature in numerical_features:\n",
    "    df_preprocessed[feature] = mm.fit_transform(df[feature].values.reshape(-1,1))\n",
    "    \n",
    "# Apply t-SNE with different perplexity and learning rate\n",
    "tsne = TSNE(n_components=2, random_state=42, perplexity=50, learning_rate=200)\n",
    "tsne_results = tsne.fit_transform(df_preprocessed)\n",
    "\n",
    "# Plotly Interactive plot\n",
    "df_tsne = pd.DataFrame(data = tsne_results, columns = ['Dim_1', 'Dim_2'])\n",
    "df_tsne['Total Cup Points'] = df['Total Cup Points']\n",
    "fig = px.scatter(df_tsne, x='Dim_1', y='Dim_2', color='Total Cup Points', title='t-SNE plot colored by Total Cup Points')\n",
    "fig.show()    "
   ]
  },
  {
   "cell_type": "markdown",
   "id": "41c461f2",
   "metadata": {},
   "source": [
    "A partir do gráfico, podemos observar o seguinte:\n",
    "\n",
    "Clusters: os pontos no gráfico parecem formar clusters, o que pode sugerir que existem grupos de amostras de café com características semelhantes em seu conjunto de dados.\n",
    "Gradiente de cores: O gradiente de cores, que representa o 'Total de pontos da Copa', mostra um padrão claro entre os grupos. Isso sugere que a qualidade do café varia dentro de cada cluster.\n",
    "Outliers: não parece haver quaisquer outliers claros no gráfico, sugerindo que a maioria das amostras de café tem características semelhantes.\n",
    "\n",
    "## <div style=\"padding: 20px;color:white;margin:10;font-size:90%;text-align:left;display:fill;border-radius:10px;overflow:hidden;background-image: url(https://w0.peakpx.com/wallpaper/957/661/HD-wallpaper-white-marble-white-stone-texture-marble-stone-background-white-stone.jpg)\"><b><span style='color:black'> 2. Previsão de pontuação</span></b> </div>"
   ]
  },
  {
   "cell_type": "code",
   "execution_count": 30,
   "id": "2ede6af5",
   "metadata": {},
   "outputs": [
    {
     "data": {
      "text/html": [
       "<div>\n",
       "<style scoped>\n",
       "    .dataframe tbody tr th:only-of-type {\n",
       "        vertical-align: middle;\n",
       "    }\n",
       "\n",
       "    .dataframe tbody tr th {\n",
       "        vertical-align: top;\n",
       "    }\n",
       "\n",
       "    .dataframe thead th {\n",
       "        text-align: right;\n",
       "    }\n",
       "</style>\n",
       "<table border=\"1\" class=\"dataframe\">\n",
       "  <thead>\n",
       "    <tr style=\"text-align: right;\">\n",
       "      <th></th>\n",
       "      <th>Country of Origin</th>\n",
       "      <th>Altitude</th>\n",
       "      <th>Processing Method</th>\n",
       "      <th>Aroma</th>\n",
       "      <th>Flavor</th>\n",
       "      <th>Aftertaste</th>\n",
       "      <th>Acidity</th>\n",
       "      <th>Body</th>\n",
       "      <th>Balance</th>\n",
       "      <th>Overall</th>\n",
       "      <th>Total Cup Points</th>\n",
       "      <th>Moisture Percentage</th>\n",
       "      <th>Category One Defects</th>\n",
       "      <th>Quakers</th>\n",
       "      <th>Color</th>\n",
       "      <th>Category Two Defects</th>\n",
       "      <th>Coffee Age</th>\n",
       "    </tr>\n",
       "  </thead>\n",
       "  <tbody>\n",
       "    <tr>\n",
       "      <th>0</th>\n",
       "      <td>Colombia</td>\n",
       "      <td>1815.0</td>\n",
       "      <td>Washed / Wet</td>\n",
       "      <td>8.58</td>\n",
       "      <td>8.50</td>\n",
       "      <td>8.42</td>\n",
       "      <td>8.58</td>\n",
       "      <td>8.25</td>\n",
       "      <td>8.42</td>\n",
       "      <td>8.58</td>\n",
       "      <td>89.33</td>\n",
       "      <td>11.8</td>\n",
       "      <td>0</td>\n",
       "      <td>0</td>\n",
       "      <td>green</td>\n",
       "      <td>3</td>\n",
       "      <td>993</td>\n",
       "    </tr>\n",
       "    <tr>\n",
       "      <th>1</th>\n",
       "      <td>Taiwan</td>\n",
       "      <td>1200.0</td>\n",
       "      <td>Washed / Wet</td>\n",
       "      <td>8.50</td>\n",
       "      <td>8.50</td>\n",
       "      <td>7.92</td>\n",
       "      <td>8.00</td>\n",
       "      <td>7.92</td>\n",
       "      <td>8.25</td>\n",
       "      <td>8.50</td>\n",
       "      <td>87.58</td>\n",
       "      <td>10.5</td>\n",
       "      <td>0</td>\n",
       "      <td>0</td>\n",
       "      <td>blue-green</td>\n",
       "      <td>0</td>\n",
       "      <td>1048</td>\n",
       "    </tr>\n",
       "    <tr>\n",
       "      <th>2</th>\n",
       "      <td>Laos</td>\n",
       "      <td>1300.0</td>\n",
       "      <td>Washed / Wet</td>\n",
       "      <td>8.33</td>\n",
       "      <td>8.42</td>\n",
       "      <td>8.08</td>\n",
       "      <td>8.17</td>\n",
       "      <td>7.92</td>\n",
       "      <td>8.17</td>\n",
       "      <td>8.33</td>\n",
       "      <td>87.42</td>\n",
       "      <td>10.4</td>\n",
       "      <td>0</td>\n",
       "      <td>0</td>\n",
       "      <td>yellowish</td>\n",
       "      <td>2</td>\n",
       "      <td>1048</td>\n",
       "    </tr>\n",
       "    <tr>\n",
       "      <th>3</th>\n",
       "      <td>Costa Rica</td>\n",
       "      <td>1900.0</td>\n",
       "      <td>Washed / Wet</td>\n",
       "      <td>8.08</td>\n",
       "      <td>8.17</td>\n",
       "      <td>8.17</td>\n",
       "      <td>8.25</td>\n",
       "      <td>8.17</td>\n",
       "      <td>8.08</td>\n",
       "      <td>8.25</td>\n",
       "      <td>87.17</td>\n",
       "      <td>11.8</td>\n",
       "      <td>0</td>\n",
       "      <td>0</td>\n",
       "      <td>green</td>\n",
       "      <td>0</td>\n",
       "      <td>628</td>\n",
       "    </tr>\n",
       "    <tr>\n",
       "      <th>4</th>\n",
       "      <td>Colombia</td>\n",
       "      <td>1975.0</td>\n",
       "      <td>Washed / Wet</td>\n",
       "      <td>8.33</td>\n",
       "      <td>8.33</td>\n",
       "      <td>8.08</td>\n",
       "      <td>8.25</td>\n",
       "      <td>7.92</td>\n",
       "      <td>7.92</td>\n",
       "      <td>8.25</td>\n",
       "      <td>87.08</td>\n",
       "      <td>11.6</td>\n",
       "      <td>0</td>\n",
       "      <td>2</td>\n",
       "      <td>yellow-green</td>\n",
       "      <td>2</td>\n",
       "      <td>794</td>\n",
       "    </tr>\n",
       "  </tbody>\n",
       "</table>\n",
       "</div>"
      ],
      "text/plain": [
       "  Country of Origin  Altitude Processing Method  Aroma  Flavor  Aftertaste  \\\n",
       "0          Colombia    1815.0      Washed / Wet   8.58    8.50        8.42   \n",
       "1            Taiwan    1200.0      Washed / Wet   8.50    8.50        7.92   \n",
       "2              Laos    1300.0      Washed / Wet   8.33    8.42        8.08   \n",
       "3        Costa Rica    1900.0      Washed / Wet   8.08    8.17        8.17   \n",
       "4          Colombia    1975.0      Washed / Wet   8.33    8.33        8.08   \n",
       "\n",
       "   Acidity  Body  Balance  Overall  Total Cup Points  Moisture Percentage  \\\n",
       "0     8.58  8.25     8.42     8.58             89.33                 11.8   \n",
       "1     8.00  7.92     8.25     8.50             87.58                 10.5   \n",
       "2     8.17  7.92     8.17     8.33             87.42                 10.4   \n",
       "3     8.25  8.17     8.08     8.25             87.17                 11.8   \n",
       "4     8.25  7.92     7.92     8.25             87.08                 11.6   \n",
       "\n",
       "   Category One Defects  Quakers         Color  Category Two Defects  \\\n",
       "0                     0        0         green                     3   \n",
       "1                     0        0    blue-green                     0   \n",
       "2                     0        0     yellowish                     2   \n",
       "3                     0        0         green                     0   \n",
       "4                     0        2  yellow-green                     2   \n",
       "\n",
       "   Coffee Age  \n",
       "0         993  \n",
       "1        1048  \n",
       "2        1048  \n",
       "3         628  \n",
       "4         794  "
      ]
     },
     "execution_count": 30,
     "metadata": {},
     "output_type": "execute_result"
    }
   ],
   "source": [
    "df.head()"
   ]
  },
  {
   "cell_type": "code",
   "execution_count": 31,
   "id": "75adf108",
   "metadata": {},
   "outputs": [],
   "source": [
    "categorical_columns = ['Processing Method','Country of Origin', 'Color']\n",
    "numerical_columns = ['Altitude', 'Aroma', 'Flavor', 'Aftertaste', 'Acidity', 'Body', 'Balance', 'Overall', 'Total Cup Points', 'Moisture Percentage', 'Category One Defects', 'Quakers', 'Category Two Defects', 'Coffee Age']\n",
    "\n",
    "# Define preprocessor\n",
    "preprocessor = ColumnTransformer(\n",
    "    transformers=[\n",
    "        ('num', MinMaxScaler(), [col for col in numerical_columns if col != 'Total Cup Points']),\n",
    "        ('cat', OneHotEncoder(), categorical_columns)])\n",
    "\n",
    "# Append classifier to preprocessing pipeline.\n",
    "clf = Pipeline(steps=[('preprocessor', preprocessor),\n",
    "                      ('classifier', RandomForestRegressor(n_estimators=100, random_state=42))])\n",
    "\n",
    "# Split the data into train and test sets\n",
    "X = df.drop('Total Cup Points', axis=1)\n",
    "y = df['Total Cup Points']\n",
    "X_train, X_test, y_train, y_test = train_test_split(X, y, test_size=0.2, random_state=42)"
   ]
  },
  {
   "cell_type": "code",
   "execution_count": 34,
   "id": "2208340e",
   "metadata": {},
   "outputs": [
    {
     "name": "stdout",
     "output_type": "stream",
     "text": [
      "Erro Quadrático Médio: 0.12759811833333123\n"
     ]
    }
   ],
   "source": [
    "# Train the model\n",
    "clf.fit(X_train, y_train)\n",
    "\n",
    "# Predict on the test set\n",
    "y_pred = clf.predict(X_test)\n",
    "\n",
    "# Evaluate the model\n",
    "mse = mean_squared_error(y_test, y_pred)\n",
    "print('Erro Quadrático Médio:', mse)"
   ]
  },
  {
   "cell_type": "code",
   "execution_count": 33,
   "id": "71619ad7",
   "metadata": {},
   "outputs": [
    {
     "data": {
      "image/png": "[encoded data removed]",
      "text/plain": [
       "<Figure size 1000x600 with 1 Axes>"
      ]
     },
     "metadata": {},
     "output_type": "display_data"
    }
   ],
   "source": [
    "# Plot residuals\n",
    "plt.figure(figsize=(10, 6))\n",
    "residuals = y_test - y_pred\n",
    "sns.scatterplot(x=y_test, y=residuals)\n",
    "plt.title('Residuals Plot')\n",
    "plt.xlabel('Actual Values')\n",
    "plt.ylabel('Residuals')\n",
    "plt.show()"
   ]
  },
  {
   "cell_type": "markdown",
   "id": "c5d165b6",
   "metadata": {},
   "source": [
    "Nesse tipo de gráfico, podemos visualizar a discrepância entre os valores reais e os valores previstos em um modelo de regressão.\n",
    "\n",
    "Vamos destrinchar o enredo:\n",
    "\n",
    "- No eixo x, temos os valores reais da variável chamada 'Total Cup Points'.\n",
    "- O eixo y representa os resíduos, que são calculados como as diferenças entre os valores reais e os valores previstos de 'Total Cup Points'.\n",
    "\n",
    "Idealmente, em um modelo perfeito, todos os pontos se alinhariam ao longo da linha horizontal em y=0. Esta linha representa as instâncias em que o valor previsto corresponde exatamente ao valor real.\n",
    "\n",
    "Ao examinar o gráfico, observamos que os resíduos estão espalhados ao redor da linha y=0, o que é uma indicação positiva. Isso implica que os erros do modelo parecem estar espalhados aleatoriamente sem nenhum padrão discernível.\n",
    "\n",
    "No entanto, existem alguns pontos que se desviam da linha y=0, indicando áreas onde as previsões do modelo foram imprecisas.\n",
    "\n",
    "Lembre-se de que a proximidade dos pontos com a linha y=0 é um indicador da qualidade da previsão. Os pontos que estão longe da linha indicam previsões que diferem significativamente dos valores reais.\n",
    "\n",
    "Além disso, a densidade de pontos pode fornecer informações sobre a distribuição de erros. Se você notar uma alta densidade de pontos longe da linha y=0, isso pode sugerir erros sistemáticos presentes no modelo."
   ]
  },
  {
   "cell_type": "code",
   "execution_count": 35,
   "id": "e7682053",
   "metadata": {},
   "outputs": [
    {
     "data": {
      "image/png": "[encoded data removed]",
      "text/plain": [
       "<Figure size 1000x600 with 1 Axes>"
      ]
     },
     "metadata": {},
     "output_type": "display_data"
    }
   ],
   "source": [
    "# Plot prediction error\n",
    "plt.figure(figsize=(10, 6))\n",
    "sns.scatterplot(x=y_test, y=y_pred)\n",
    "plt.title('Prediction Error Plot')\n",
    "plt.xlabel('Actual Values')\n",
    "plt.ylabel('Predicted Values')\n",
    "plt.show()"
   ]
  },
  {
   "cell_type": "markdown",
   "id": "fec44fd7",
   "metadata": {},
   "source": [
    "Nesse tipo de gráfico, podemos examinar as disparidades entre os valores reais e os valores previstos em um modelo de regressão. É comumente conhecido como gráfico de erro de previsão.\n",
    "\n",
    "Vamos destrinchar o enredo:\n",
    "\n",
    "- O eixo x representa os valores reais da variável chamada 'Total Cup Points'.\n",
    "- No eixo y, temos os valores previstos de 'Total Cup Points'.\n",
    "\n",
    "Em um cenário ideal com previsões perfeitas, todos os pontos se alinhariam ao longo da linha diagonal. Esta linha representa instâncias em que o valor previsto corresponde exatamente ao valor real.\n",
    "\n",
    "Ao analisar o gráfico, podemos observar que a maioria dos pontos está relativamente próxima da linha diagonal, indicando previsões razoavelmente precisas do modelo. No entanto, existem alguns pontos que se desviam da linha, destacando áreas onde as previsões do modelo eram imprecisas.\n",
    "\n",
    "Lembre-se, a proximidade dos pontos com a linha diagonal indica a qualidade das previsões. Pontos distantes da linha sugerem previsões que diferem significativamente dos valores reais.\n",
    "\n",
    "Além disso, a densidade de pontos pode fornecer informações sobre a distribuição de erros. Se você notar uma alta densidade de pontos longe da linha diagonal, isso pode indicar erros sistemáticos presentes no modelo.\n",
    "\n",
    "Em resumo, este gráfico oferece um meio visual para avaliar o desempenho de um modelo de regressão. Ele serve como uma ferramenta valiosa para entender as áreas onde o modelo comete erros e a magnitude desses erros.\n",
    "\n",
    "***\n",
    "\n",
    "<br>\n",
    "\n",
    "<div style=\"text-align: center;\">\n",
    "   <span style=\"font-size: 4.5em; font-weight: bold; font-family: Arial;\">OBRIGADO!</span>\n",
    "</div>\n",
    "\n",
    "<br>\n",
    "<br>\n",
    "<br>\n",
    "\n",
    "<div style=\"text-align: center;\">\n",
    "    <span style=\"font-size: 5em;\">✔️</span>\n",
    "</div>\n",
    "\n",
    "<br>\n"
   ]
  }
 ],
 "metadata": {
  "kernelspec": {
   "display_name": "Python 3 (ipykernel)",
   "language": "python",
   "name": "python3"
  },
  "language_info": {
   "codemirror_mode": {
    "name": "ipython",
    "version": 3
   },
   "file_extension": ".py",
   "mimetype": "text/x-python",
   "name": "python",
   "nbconvert_exporter": "python",
   "pygments_lexer": "ipython3",
   "version": "3.9.13"
  }
 },
 "nbformat": 4,
 "nbformat_minor": 5
}
